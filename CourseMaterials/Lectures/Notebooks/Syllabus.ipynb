{
 "cells": [
  {
   "cell_type": "markdown",
   "metadata": {},
   "source": [
    "# Introduction to GIS - ENVR 250\n",
    "  \n",
    "University of Puget Sound, Thompson Hall 189  \n",
    "T/TH 8:00 – 9:20 AM, Spring 2022 \n"
   ]
  },
  {
   "cell_type": "markdown",
   "metadata": {},
   "source": [
    "## Instructor: Ryan Ulsberger  \n",
    "Email (preferred): rulsberger@pugetsound.edu  \n",
    "Computer Lab Office Hours: TBD  \n",
    "Virtual Office Hours: TBD  \n"
   ]
  },
  {
   "cell_type": "markdown",
   "metadata": {},
   "source": [
    "### General Information \n",
    "Geographic Information Systems (GIS) comprises a complex system of tools that facilitate the collection, display, and analysis of geospatial (location-based) data. A GIS is effective in supporting work across the natural sciences, social sciences, and humanities.  Specific applications include environmental sciences, public health, urban planning, conservation biology, geology, digital humanities, military, and education and continues to increase as technology advances. This course is designed for students who have little or no experience with GIS and want to gain an understanding of the technology.  In this course, students gain a deeper understanding of the core concepts of the field and learn how to apply them in specialized areas of study.  This course will use ArcGIS Pro software and include an introduction to ArcGIS Online tools to support project-based exercises in a hands-on lab environment.  No previous experience with GIS is required.  \n",
    "\n",
    "After Completing this course, students should:  \n",
    "1. Understand basic theoretical concepts of GIS and spatial analysis  \n",
    "2. Be equipped to formulate a research question and lay out and implement analytical steps required in GIS  \n",
    "3. Know how to find and use various spatial data to research a topic  \n",
    "4. Be equipped to create maps following fundamental cartographic principles  \n",
    "\n"
   ]
  },
  {
   "cell_type": "markdown",
   "metadata": {},
   "source": [
    "### Required Textbook: \n",
    "Corbin, Tripp, 2020. Learning ArcGIS Pro Second Edition ISBN: 978-1-83921-022-8\n"
   ]
  },
  {
   "cell_type": "markdown",
   "metadata": {},
   "source": [
    "### Policies and Expectations \n",
    "By participating in this course, you are committing to make our classroom, virtual spaces, practices, and interactions as inclusive as possible. Mutual respect, civility, and the ability to listen and observe others carefully are crucial to building a productive learning environment for all. Active, thoughtful, and respectful participation in all aspects of the course will be expected. We aim for everyone to feel comfortable sharing their opinions, engaging in healthy discourse and debate, and speaking up when confusion arises. Concepts will \"click\" for each student at different times, especially in this software-based course. Always remain mindful and gracious of other students as you engage in your journey discovering the power of GIS.  \n",
    "\n",
    "**Attendance** is critical for learning a new software platform and comprises a component of your participation grade. If you must be absent because of an emergency or illness, please make every effort to speak with me about it beforehand, if possible, or after the next class at latest. I will excuse such absences with a doctor’s note or other form of official documentation. Please notify me of absences due to religious observance or University sporting events as soon as you can, ideally by February 4th. Two or more unexcused absences will affect your final grade.  \n",
    "\n",
    "If any religious or cultural observances coincide with this class, please let me know in writing via email.\n",
    "\n",
    "\n",
    "**Academic Integrity.** In this course, you are expected to abide by all university policies for academic integrity. Any violations of academic integrity, including but not limited to plagiarism, misrepresenting one’s own work, unauthorized collaboration, cheating on exams, or falsification, will not be tolerated.  \n",
    "Please refer to the student handbook and/or speak with me if you have any questions.  \n",
    "[Student Handbook](https://www.pugetsound.edu/files/resources/ad20bulletinug_web.pdf) \n",
    "\n",
    "**Turn off (or set to silent) cell phones at the beginning of class.**  \n",
    "\n",
    "**Do not disturb other class members.**  \n",
    "\n",
    "**Pay attention during lectures.** I understand that sitting in front of a computer screen is very tempting. Checking email from time to time is not expressly forbidden, but you are in the class to learn, make sure you take advantage of this time.  \n",
    "\n",
    "This course is extremely computer-intensive. You will need to spend a considerable amount of time both in and out of the classroom working on computer-based assignments. Planning your time accordingly is vital to success in the class.  \n",
    "\n",
    "If you have a particular need, please arrange a meeting with me so I can best help you learn in this course. I will treat as private and confidential any information that you share.  \n",
    "\n",
    "**Instructor response time.** Email is the best way to reach me. I will respond to email and do my best to get back to you with assistance! We may use zoom or other platforms for virtual office hours, but I cannot guarantee I will see notifications on these platforms outside of office hours. Please understand I am also a working professional while teaching this course and will have some periods during the workday where I am unavailable to students. Please do not hesitate to reach out, however; I will respond as soon as I am able.  \n",
    "\n",
    "**To reiterate,** the University’s policies on academic integrity will be strictly enforced. "
   ]
  },
  {
   "cell_type": "markdown",
   "metadata": {},
   "source": [
    "### Course Logistics \n",
    "**GitHub:**   \n",
    "All lectures class materials are hosted on this course [Github Repository](https://github.com/rulsberger/Intro_To_GIS-ENVR_250) on my Github [(rulsberger)](https://github.com/rulsberger/). This allows me to manage versions and publish changes to lectures, assignments, and files while enabling you to see the changes publicly as well as after our classes. Bookmark and read it whenever you need.  \n",
    "\n",
    "**Canvas:**  \n",
    "Additionally, this course will rely heavy on communication through Canvas. Course readings, lecture slides urls, and supplemental resources will all be posted on Canvas. Additionally, Canvas submissions will be used for all homework and reading discussions. Each unit of this course (see syllabus below) will have a dedicated introductory page on Canvas with key resources, expectations, and goals for unit. Lastly, I will re-post this syllabus if modifications are required and will alert students via email that an adjusted syllabus has been uploaded.  \n",
    "\n",
    "**Computer Lab Availability:**  \n",
    "Homework assignments and final projects in this course will require extensive use of GIS software outside of class. This lab (Thompson 189) should be available for your use 24/7, aside from other regularly scheduled classes (see schedule on the back wall). Always remember to be respectful of others when using this space. This lab serves students in many classes in addition to ours. Please let me know if any issues arise regarding access or use of this lab space.  \n",
    "\n",
    "**Data Storage:**  \n",
    "While some data can be stored on local machines in the lab, I highly suggest a small USB flash drive or other external hard drive device for use in this course (16 GB *should* be sufficient, depending on your final project topic). Data organization and integrity is key for successful GIS projects. You will save many hours of work by keeping your data well organized and relatively portable (i.e. on an external drive).  \n",
    "\n",
    "At least one student loses their work each semester. I highly suggest backing up your work in more than one place (hard storage and the cloud) and remember to SAVE SAVE SAVE. You will also want to version your work.  \n",
    "\n",
    "**Student Assessment:**  \n",
    "Students will be assessed based on periodic homework assignments, online discussion responses, six lab assignments, a midterm, and a final project. To receive a grade, all homework MUST be submitted on Canvas.  \n",
    "\n",
    "Your final grade will be derived as follows:  \n",
    "\n",
    "| **Assignment** | **Total Points** | **Percent of Grade** |\n",
    "|---|---|---|\n",
    "| **Labs** | **300** | **30%** |\n",
    "| Lab 1  | 50 |  |\n",
    "| Lab 2 | 50 |  |\n",
    "| Lab 3 | 50 |  |\n",
    "| Lab 4 | 50 |  |\n",
    "| Lab 5 | 50 |  |\n",
    "| Lab 6 | 50 |  |\n",
    "| **Midterm** | **150** | **15%** |\n",
    "| **Final Project** | **400** | **40%** |\n",
    "| Peer Evaluation | 50 |  |\n",
    "| Lightning Talk | 50 |  |\n",
    "| Final Paper | 100 |  |\n",
    "| Final Map | 100 |  |\n",
    "| Final Data/Anaylysis/Organization | 100 |  |\n",
    "| **Participation** | **150** | **15%** |\n",
    "| **Total** | **1000** | **100%**|\n",
    " \n",
    "**Late Assignments:**  \n",
    "Late assignments will be accepted for two weeks after the due date. All late work will have 10 points deducted from the final assessment grade. An additional 10 points will be deducted after one week (for a maximum 20-point deduction for a 2-week late assignment). There will be no make-up quizzes or exams.  \n",
    "\n",
    "If you have a valid, documented reason for not meeting a deadline, let me know before the deadline.  \n",
    " \n",
    "**Working with Other Students:**  \n",
    "Students are encouraged to work together on lab and other assignments to assist each other in understanding the exercises and software. However, ALL content of each student’s handed in assignment (text, graphics, etc.) must be authored solely by that student. \n",
    "Do not hand in identical figures, graphs, text answers, or other information. These work will be considered plagiarized.  \n",
    " \n",
    "**Active Participation:**  \n",
    "A portion of your final grade will be derived from attendance and active participation in class. Often, we will have in-class group and individual exercises to get comfortable with GIS software and spatial analysis concepts. These in-class assignments will not be graded – they are opportunities to collaborate with both your peers and instructor – but turning in these assignments will count towards your participation grade. If you are not in class, you have no way to participate in these exercises and will lose out on this learning opportunity.  \n",
    " \n",
    "**Final Project:**  \n",
    "Each student will be responsible for a final project accounting for 40% of their total grade. Most of the learning for this project will be self-guided, and as such, it is important not to slack or procrastinate on this project. The project will comprise of four different pieces:  \n",
    "1. A ‘Lightning Talk’ conducted during the last two weeks of class.    \n",
    "2. The final project itself (the software files, process, execution)  \n",
    "3. A final map presenting your results   \n",
    "4. A final paper explaining your research questions, methods, and summarizing your results.  \n",
    "\n",
    "We will go into the details about each of these sections more in Week 5.  \n",
    "\n",
    "**Classroom Emergency Response Guidance:**\n",
    "Please review university emergency preparedness, response procedures and a training video posted at www.pugetsound.edu/emergency/. There is a link on the university home page. Familiarize yourself with hall exit doors and the designated gathering area for your class and laboratory buildings.  \n",
    "\n",
    "If building evacuation becomes necessary (e.g. earthquake), meet your instructor at the designated gathering area so she/he can account for your presence. Then wait for further instructions. Do not return to the building or classroom until advised by a university emergency response representative.  \n",
    "\n",
    "If confronted by an act of violence, be prepared to make quick decisions to protect your safety. Flee the area by running away from the source of danger if you can safely do so. If this is not possible, shelter in place by securing classroom or lab doors and windows, closing blinds, and turning off room lights. Lie on the floor out of sight and away from windows and doors. Place cell phones or pagers on vibrate so that you can receive messages quietly. Wait for further instruction.  \n",
    "\n"
   ]
  }
 ],
 "metadata": {
  "language_info": {
   "name": "python"
  },
  "orig_nbformat": 4
 },
 "nbformat": 4,
 "nbformat_minor": 2
}
