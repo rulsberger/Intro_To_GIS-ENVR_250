{
 "cells": [
  {
   "cell_type": "markdown",
   "metadata": {},
   "source": [
    "# Census Vector Lab\n",
    "\n",
    "## Goals \n",
    "Utilize vector processing to be able to do different types of analysis with Census Data\n",
    "\n",
    "## Outline \n",
    "    - Census Data\n",
    "    - Census Geographies  \n",
    "    - Vector Operations \n",
    "    - Choropleth Maps\n"
   ]
  }
 ],
 "metadata": {
  "language_info": {
   "name": "python"
  },
  "orig_nbformat": 4
 },
 "nbformat": 4,
 "nbformat_minor": 2
}
