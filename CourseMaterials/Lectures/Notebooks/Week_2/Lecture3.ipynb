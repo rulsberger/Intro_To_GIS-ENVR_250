{
 "cells": [
  {
   "cell_type": "markdown",
   "metadata": {
    "slideshow": {
     "slide_type": "slide"
    },
    "tags": []
   },
   "source": [
    "# Reading Maps\n",
    "\n",
    "## Goal \n",
    "To be able to identify to purpose of a given map. Identify the important components of a map, the different styles of maps, and how the map author can use different techniques to be able to communicate information effectively.\n",
    "\n",
    "## Outline \n",
    "    - Reading map exercise\n",
    "    - Map Discussion \n",
    "    - What goes into reading a map?\n",
    "    - What is the purpose of \n",
    "    - Orienteering?"
   ]
  },
  {
   "cell_type": "code",
   "execution_count": 33,
   "metadata": {},
   "outputs": [],
   "source": [
    "import matplotlib.pyplot as plt\n",
    "import matplotlib.ticker as ticker\n",
    "from matplotlib import cm\n",
    "from matplotlib.patches import Polygon\n",
    "\n",
    "import pandas as pd\n",
    "import numpy as np"
   ]
  },
  {
   "cell_type": "code",
   "execution_count": 9,
   "metadata": {},
   "outputs": [],
   "source": [
    "cmap = cm.get_cmap('Spectral')\n",
    "df = pd.DataFrame({\n",
    "      'x': [1, 2, 3],\n",
    "      'y': [2, 3, 1]\n",
    "   })\n",
    "\n",
    "df['label'] = df.apply(lambda x: F'({x[0]}, {x[1]})', axis=1)"
   ]
  },
  {
   "cell_type": "markdown",
   "metadata": {
    "slideshow": {
     "slide_type": "slide"
    },
    "tags": []
   },
   "source": [
    "# Data in GIS\n",
    "\n",
    "So we know how to interpret different data types in GIS.  \n",
    "\n",
    "Now what?"
   ]
  },
  {
   "cell_type": "markdown",
   "metadata": {
    "slideshow": {
     "slide_type": "slide"
    },
    "tags": []
   },
   "source": [
    "## Features and Layers\n",
    "\n",
    "A map is made up of a single or multiple data:\n",
    "- Layers\n",
    "- Features"
   ]
  },
  {
   "cell_type": "markdown",
   "metadata": {
    "slideshow": {
     "slide_type": "slide"
    },
    "tags": []
   },
   "source": [
    "## Feature Types\n",
    "\n",
    "![Vectors vs Raster](https://mgimond.github.io/Spatial/img/vector_vs_raster.jpg)"
   ]
  },
  {
   "cell_type": "markdown",
   "metadata": {
    "slideshow": {
     "slide_type": "slide"
    },
    "tags": []
   },
   "source": [
    "## Vectors\n",
    "\n",
    "Can be represented as three different types of features:\n",
    "- points\n",
    "- lines\n",
    "- polygons"
   ]
  },
  {
   "cell_type": "markdown",
   "metadata": {
    "slideshow": {
     "slide_type": "slide"
    },
    "tags": []
   },
   "source": [
    "## Points\n",
    "\n",
    "An ( x , y ) or ( long, lat ) coordinate pair*\n",
    "\n",
    "*sometimes the order of the variables is different depending on the software."
   ]
  },
  {
   "cell_type": "markdown",
   "metadata": {
    "slideshow": {
     "slide_type": "subslide"
    },
    "tags": []
   },
   "source": [
    "#### Point(1, 2) Point(2,3) Point(3,1)\n",
    "\n",
    "#### Point(47.261780, -122.481689)  \n",
    "#### Point(1148411.465, 709443.892)  "
   ]
  },
  {
   "cell_type": "code",
   "execution_count": 19,
   "metadata": {
    "slideshow": {
     "slide_type": "subslide"
    },
    "tags": []
   },
   "outputs": [
    {
     "data": {
      "image/png": "[encoded data removed]",
      "text/plain": [
       "<Figure size 432x288 with 1 Axes>"
      ]
     },
     "metadata": {
      "needs_background": "light"
     },
     "output_type": "display_data"
    }
   ],
   "source": [
    "pointfig, ax = plt.subplots()\n",
    "plt.xlim([0, 4])\n",
    "plt.ylim([0, 4])\n",
    "plt.margins(0.05)\n",
    "plt.tight_layout()\n",
    "for axis in [ax.xaxis, ax.yaxis]:\n",
    "    axis.set_major_locator(ticker.MaxNLocator(integer=True))\n",
    "        \n",
    "df.plot('x', 'y', kind='scatter', ax=ax, s=120, linewidth=0, \n",
    "        c=range(len(df)), colormap=cmap)\n",
    "\n",
    "for k, v in df.iterrows():\n",
    "    ax.annotate(\n",
    "        v.label, \n",
    "        xy=(v.x,v.y),\n",
    "        xytext=(10,-5), \n",
    "        textcoords='offset points',\n",
    "        family='sans-serif', \n",
    "        fontsize=18, \n",
    "        color='darkslategrey'\n",
    "    )\n",
    "plt.grid(True)\n"
   ]
  },
  {
   "cell_type": "markdown",
   "metadata": {
    "slideshow": {
     "slide_type": "slide"
    },
    "tags": []
   },
   "source": [
    "## Polylines\n",
    "\n",
    "Also known as LingStrings\n",
    "\n",
    "A list of (x,y) or (long, lat) coordinate pairs\n",
    "\n",
    "Order matters here."
   ]
  },
  {
   "cell_type": "markdown",
   "metadata": {
    "slideshow": {
     "slide_type": "subslide"
    },
    "tags": []
   },
   "source": [
    "#### LINESTRING(1 2, 2 3, 3 1)  \n",
    "\n",
    "#### LINESTRING(47.261780 -122.481689, 47.25533115651906, -122.48364162973934, 47.255637,-122.466218)  \n",
    "#### LINESTRING(1148411.465, 709443.892, 1147867.629 707104.647, 1152195.892 707107.842)  "
   ]
  },
  {
   "cell_type": "code",
   "execution_count": 20,
   "metadata": {
    "slideshow": {
     "slide_type": "subslide"
    },
    "tags": []
   },
   "outputs": [
    {
     "data": {
      "image/png": "[encoded data removed]",
      "text/plain": [
       "<Figure size 432x288 with 1 Axes>"
      ]
     },
     "metadata": {
      "needs_background": "light"
     },
     "output_type": "display_data"
    }
   ],
   "source": [
    "linefig, ax = plt.subplots()\n",
    "plt.xlim([0, 4])\n",
    "plt.ylim([0, 4])\n",
    "plt.margins(0.05)\n",
    "plt.tight_layout()\n",
    "for axis in [ax.xaxis, ax.yaxis]:\n",
    "    axis.set_major_locator(ticker.MaxNLocator(integer=True))\n",
    "        \n",
    "df.plot.line(x='x', y='y', ax=ax, colormap=cmap)\n",
    "\n",
    "for k, v in df.iterrows():\n",
    "    ax.annotate(\n",
    "        v.label, \n",
    "        xy=(v.x,v.y),\n",
    "        xytext=(10,-5), \n",
    "        textcoords='offset points',\n",
    "        family='sans-serif', \n",
    "        fontsize=18, \n",
    "        color='darkslategrey'\n",
    "    )\n",
    "plt.grid(True)\n"
   ]
  },
  {
   "cell_type": "markdown",
   "metadata": {
    "slideshow": {
     "slide_type": "slide"
    },
    "tags": []
   },
   "source": [
    "## Polygons\n",
    "\n",
    "Also known as LingStrings\n",
    "\n",
    "A list of (x,y) or (long, lat) coordinate pairs, ending with the point that will close the polygon.\n",
    "\n",
    "Order matters here again"
   ]
  },
  {
   "cell_type": "markdown",
   "metadata": {
    "slideshow": {
     "slide_type": "subslide"
    },
    "tags": []
   },
   "source": [
    "#### POLYGON(1 2, 2 3, 3 1, 1 2)  \n",
    "\n",
    "#### POLYGON(47.261780 -122.481689, 47.25533115651906 -122.48364162973934, 47.255637 -122.466218, 47.261780 -122.481689)  \n",
    "#### POLYGON(1148411.465, 709443.892, 1147867.629 707104.647, 1152195.892 707107.842, 1148411.465, 709443.892)  "
   ]
  },
  {
   "cell_type": "markdown",
   "metadata": {
    "slideshow": {
     "slide_type": "subslide"
    },
    "tags": []
   },
   "source": [
    "Polygon with a hole:\n",
    "\n",
    "#### POLYGON ((35 10, 45 45, 15 40, 10 20, 35 10), (20 30, 35 35, 30 20, 20 30))"
   ]
  },
  {
   "cell_type": "code",
   "execution_count": 37,
   "metadata": {
    "slideshow": {
     "slide_type": "subslide"
    },
    "tags": []
   },
   "outputs": [
    {
     "data": {
      "image/png": "[encoded data removed]",
      "text/plain": [
       "<Figure size 432x288 with 1 Axes>"
      ]
     },
     "metadata": {
      "needs_background": "light"
     },
     "output_type": "display_data"
    }
   ],
   "source": [
    "polyfig, ax = plt.subplots()\n",
    "plt.xlim([0, 4])\n",
    "plt.ylim([0, 4])\n",
    "plt.margins(0.05)\n",
    "plt.tight_layout()\n",
    "for axis in [ax.xaxis, ax.yaxis]:\n",
    "    axis.set_major_locator(ticker.MaxNLocator(integer=True))    \n",
    "\n",
    "p = Polygon(df[['x', 'y']].to_numpy(), facecolor = 'blue')\n",
    "ax.add_patch(p)\n",
    "for k, v in df.iterrows():\n",
    "    ax.annotate(\n",
    "        v.label, \n",
    "        xy=(v.x,v.y),\n",
    "        xytext=(10,-5), \n",
    "        textcoords='offset points',\n",
    "        family='sans-serif', \n",
    "        fontsize=18, \n",
    "        color='darkslategrey'\n",
    "    )\n",
    "\n",
    "plt.grid(True)"
   ]
  },
  {
   "cell_type": "markdown",
   "metadata": {
    "slideshow": {
     "slide_type": "slide"
    },
    "tags": []
   },
   "source": [
    "### MultiPart Features\n",
    "\n",
    "Some features cannot be represented by a single point, line, or polygon. \n",
    "\n",
    "As such they are Multipart Features\n"
   ]
  },
  {
   "cell_type": "markdown",
   "metadata": {
    "slideshow": {
     "slide_type": "subslide"
    },
    "tags": []
   },
   "source": [
    "#### MULTIPOINT((1, 2), (2,3), (3,1)) \n",
    "#### MULTILINESTRING((1 2, 2 3, 3 1), (3 4, 4 5, 5 3))  \n",
    "#### MULTIPOLYGON((1 2, 2 3, 3 1, 1 2), (3 4, 4 5, 5 3, 3 4))"
   ]
  },
  {
   "cell_type": "markdown",
   "metadata": {
    "slideshow": {
     "slide_type": "slide"
    },
    "tags": []
   },
   "source": [
    "## Rasters\n",
    "\n",
    "Represents data as an array of cells, or pixels. \n",
    "\n",
    "Each cell/pixel/grid has an associated value.\n"
   ]
  },
  {
   "cell_type": "markdown",
   "metadata": {
    "slideshow": {
     "slide_type": "subslide"
    },
    "tags": []
   },
   "source": [
    "For you math nerds out there, its a matrix!"
   ]
  },
  {
   "cell_type": "code",
   "execution_count": 40,
   "metadata": {
    "slideshow": {
     "slide_type": "subslide"
    },
    "tags": []
   },
   "outputs": [
    {
     "data": {
      "text/plain": [
       "array([[3, 3, 2, 4, 1, 3, 5, 3, 3, 1],\n",
       "       [5, 5, 2, 2, 5, 2, 5, 3, 4, 1],\n",
       "       [4, 4, 4, 4, 5, 5, 2, 1, 4, 1],\n",
       "       [5, 5, 4, 3, 4, 5, 1, 2, 3, 4],\n",
       "       [1, 5, 5, 3, 2, 1, 5, 4, 3, 4],\n",
       "       [5, 5, 3, 5, 5, 3, 3, 4, 4, 5],\n",
       "       [1, 4, 1, 1, 4, 4, 2, 4, 3, 1],\n",
       "       [4, 2, 5, 2, 5, 5, 5, 2, 2, 2],\n",
       "       [1, 4, 5, 3, 1, 5, 3, 5, 3, 1],\n",
       "       [4, 2, 5, 5, 1, 3, 5, 1, 1, 4]])"
      ]
     },
     "execution_count": 40,
     "metadata": {},
     "output_type": "execute_result"
    }
   ],
   "source": [
    "matrix = np.random.randint(1,6, size=(10, 10))\n",
    "matrix"
   ]
  },
  {
   "cell_type": "markdown",
   "metadata": {
    "slideshow": {
     "slide_type": "subslide"
    },
    "tags": []
   },
   "source": [
    "![Rasters, Oh My!](https://mgimond.github.io/Spatial/02-Feature-representation_files/figure-html/unnamed-chunk-4-1.png)"
   ]
  },
  {
   "cell_type": "markdown",
   "metadata": {
    "slideshow": {
     "slide_type": "subslide"
    },
    "tags": []
   },
   "source": [
    "### Raster Properties\n",
    "Pixel dimensions: A pixel in a raster dataset will always have the same height and width.  \n",
    "\n",
    "The smaller the cell size, the smoother or more detailed the raster will be.  \n",
    "\n",
    "The greater the number of cells, the longer it will take to process, and it will increase the demand for storage space.  "
   ]
  },
  {
   "cell_type": "markdown",
   "metadata": {
    "slideshow": {
     "slide_type": "subslide"
    },
    "tags": []
   },
   "source": [
    "![Rasters at Different Reso](https://desktop.arcgis.com/en/arcmap/10.3/manage-data/raster-and-images/GUID-F1FD32DF-3924-4EC6-907E-D0B8BFB8DBEF-web.gif)"
   ]
  },
  {
   "cell_type": "markdown",
   "metadata": {
    "slideshow": {
     "slide_type": "subslide"
    },
    "tags": []
   },
   "source": [
    "Often you need to specify the extent of a raster. The extent is defined by the top, bottom, left, and right coordinates of the rectangular area covered by a raster, as shown below.\n",
    "\n",
    "![Rasters at Different Reso](https://desktop.arcgis.com/en/arcmap/10.3/manage-data/raster-and-images/GUID-B59895EA-0676-488C-AC9F-70C586AEEA50-web.gif)"
   ]
  },
  {
   "cell_type": "markdown",
   "metadata": {
    "slideshow": {
     "slide_type": "slide"
    },
    "tags": []
   },
   "source": [
    "## Object vs Field\n"
   ]
  },
  {
   "cell_type": "markdown",
   "metadata": {
    "slideshow": {
     "slide_type": "subslide"
    },
    "tags": []
   },
   "source": [
    "### Object View\n",
    "An object view of the world treats entities as discrete objects; they need not occur at every location within a study area. Point locations of cities would be an example of an object. So would be polygonal representations of urban areas which may be non-contiguous."
   ]
  },
  {
   "cell_type": "markdown",
   "metadata": {
    "slideshow": {
     "slide_type": "subslide"
    },
    "tags": []
   },
   "source": [
    "### Field View\n",
    "\n",
    "- A field view of the world treats entities as a scalar field. \n",
    "- S scalar is a quantity having a magnitude. \n",
    "- It is measurable at every location within the study region. \n"
   ]
  },
  {
   "cell_type": "markdown",
   "metadata": {
    "slideshow": {
     "slide_type": "fragment"
    },
    "tags": []
   },
   "source": [
    "Examples:\n",
    "- Surface elevation\n",
    "- Surface temperature\n",
    "- Each represents a property that can be measured at any location.\n",
    "  \n",
    "[DNR LIDAR PORTAL](https://lidarportal.dnr.wa.gov/)"
   ]
  },
  {
   "cell_type": "markdown",
   "metadata": {
    "slideshow": {
     "slide_type": "slide"
    },
    "tags": []
   },
   "source": [
    "## Scale \n",
    "\n",
    "Ratio of distance on the map to that in the real world"
   ]
  },
  {
   "cell_type": "markdown",
   "metadata": {
    "slideshow": {
     "slide_type": "subslide"
    },
    "tags": []
   },
   "source": [
    "- Large Scale:  \n",
    "relatively large ratio and thus a small extent\n",
    "\n",
    "- Small Scale:\n",
    "relatively small ratio and thus a large extent"
   ]
  },
  {
   "cell_type": "markdown",
   "metadata": {
    "slideshow": {
     "slide_type": "subslide"
    },
    "tags": []
   },
   "source": [
    "### Small Scale\n",
    "\n",
    "Map of the Boston area at a 1:10,000,000 scale\n",
    "\n",
    "![Small Scale](https://mgimond.github.io/Spatial/img/Boston_small_scale.jpg)\n"
   ]
  },
  {
   "cell_type": "markdown",
   "metadata": {
    "slideshow": {
     "slide_type": "subslide"
    },
    "tags": []
   },
   "source": [
    "### Large Scale\n",
    "\n",
    "Map of the Boston area at a 1:34,000 scale\n",
    "\n",
    "![Large Scale](https://mgimond.github.io/Spatial/img/Boston_large_scale.jpg)\n"
   ]
  },
  {
   "cell_type": "markdown",
   "metadata": {
    "slideshow": {
     "slide_type": "slide"
    },
    "tags": []
   },
   "source": [
    "## Attribute Data\n",
    "\n",
    "A point on the map is not always super valuable. \n",
    "\n",
    "Or at least it doesn't really tell us a whole lot.  \n",
    "\n",
    "Whats is helpful is if we can assoicate additional data with spatial location.  \n",
    "\n",
    "This is the magic..."
   ]
  },
  {
   "cell_type": "markdown",
   "metadata": {
    "slideshow": {
     "slide_type": "slide"
    },
    "tags": []
   },
   "source": [
    "## Data Types"
   ]
  },
  {
   "cell_type": "markdown",
   "metadata": {
    "slideshow": {
     "slide_type": "subslide"
    },
    "tags": []
   },
   "source": [
    "### Nominal data \n",
    "- no implied order, size or quantitative information (e.g. paved and unpaved roads)"
   ]
  },
  {
   "cell_type": "markdown",
   "metadata": {
    "slideshow": {
     "slide_type": "subslide"
    },
    "tags": []
   },
   "source": [
    "### Ordinal data \n",
    "- have an implied order (e.g. ranked scores), however, we cannot quantify the difference since a linear scale is not implied."
   ]
  },
  {
   "cell_type": "markdown",
   "metadata": {
    "slideshow": {
     "slide_type": "subslide"
    },
    "tags": []
   },
   "source": [
    "### Interval data \n",
    "- are numeric and have a linear scale, however they do not have a true zero and can therefore not be used to measure relative magnitudes. For example, one cannot say that 60°F is twice as warm as 30°F since when presented in degrees °C the temperature values are 15.5°C and -1.1°C respectively (and 15.5 is clearly not twice as big as -1.1).\n"
   ]
  },
  {
   "cell_type": "markdown",
   "metadata": {
    "slideshow": {
     "slide_type": "subslide"
    },
    "tags": []
   },
   "source": [
    "### Ratio scale data\n",
    "- are interval data with a true zero such as monetary value (e.g. $1, $20, $100)."
   ]
  },
  {
   "cell_type": "markdown",
   "metadata": {
    "slideshow": {
     "slide_type": "slide"
    },
    "tags": []
   },
   "source": [
    "## ArcGIS Example"
   ]
  },
  {
   "cell_type": "markdown",
   "metadata": {
    "slideshow": {
     "slide_type": "slide"
    },
    "tags": []
   },
   "source": [
    "## In-Class Activity\n"
   ]
  },
  {
   "cell_type": "markdown",
   "metadata": {
    "slideshow": {
     "slide_type": "subslide"
    },
    "tags": []
   },
   "source": [
    "### Read a Map\n",
    "\n",
    "- Pair up with a partner, and spend 5 minutes looking at the 15 maps provided\n",
    "- Answer the following questions:\n",
    "    1) What is the purpose of the map  \n",
    "    2) What projection is the data in  \n",
    "    3) What type of data is presented\n",
    "    4) What parts of the map are critical for assisting in understanding the map"
   ]
  },
  {
   "cell_type": "markdown",
   "metadata": {
    "slideshow": {
     "slide_type": "slide"
    },
    "tags": []
   },
   "source": [
    "# Reading\n",
    "\n",
    "Learning ArcGIS Pro 2: Chapter 5"
   ]
  }
 ],
 "metadata": {
  "interpreter": {
   "hash": "40d3a090f54c6569ab1632332b64b2c03c39dcf918b08424e98f38b5ae0af88f"
  },
  "kernelspec": {
   "display_name": "Python 3 (ipykernel)",
   "language": "python",
   "name": "python3"
  },
  "language_info": {
   "codemirror_mode": {
    "name": "ipython",
    "version": 3
   },
   "file_extension": ".py",
   "mimetype": "text/x-python",
   "name": "python",
   "nbconvert_exporter": "python",
   "pygments_lexer": "ipython3",
   "version": "3.9.7"
  }
 },
 "nbformat": 4,
 "nbformat_minor": 4
}
