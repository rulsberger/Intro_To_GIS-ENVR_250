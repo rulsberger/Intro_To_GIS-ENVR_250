{
 "cells": [
  {
   "cell_type": "markdown",
   "metadata": {},
   "source": [
    "# Reading Maps\n",
    "\n",
    "## Goal \n",
    "To be able to identify to purpose of a given map. Identify the important components of a map, the different styles of maps, and how the map author can use different techniques to be able to communicate information effectively.\n",
    "\n",
    "## Outline \n",
    "    - Reading map exercise\n",
    "    - Map Discussion \n",
    "    - What goes into reading a map?\n",
    "    - What is the purpose of \n",
    "    - Orienteering?"
   ]
  },
  {
   "cell_type": "markdown",
   "metadata": {},
   "source": [
    "# Data in GIS\n",
    "\n",
    "So we know how to interpret different data types in GIS.  \n",
    "\n",
    "Now what?"
   ]
  },
  {
   "cell_type": "markdown",
   "metadata": {},
   "source": [
    "## Features and Layers\n",
    "\n",
    "A map is made up of a single or multiple data:\n",
    "- Layers\n",
    "- Features"
   ]
  },
  {
   "cell_type": "markdown",
   "metadata": {},
   "source": [
    "## Feature Types\n",
    "\n",
    "![Vectors vs Raster](https://mgimond.github.io/Spatial/img/vector_vs_raster.jpg)"
   ]
  },
  {
   "cell_type": "markdown",
   "metadata": {},
   "source": [
    "## Vectors\n",
    "\n",
    "Can be represented as three different types of features:\n",
    "- points\n",
    "- lines\n",
    "- polygons"
   ]
  },
  {
   "cell_type": "markdown",
   "metadata": {},
   "source": [
    "## Points\n",
    "\n",
    "![Points on a plane](https://mgimond.github.io/Spatial/02-Feature-representation_files/figure-html/unnamed-chunk-1-1.png)"
   ]
  },
  {
   "cell_type": "markdown",
   "metadata": {},
   "source": [
    "## Polylines\n",
    "\n",
    "![Lines on a plane](https://mgimond.github.io/Spatial/02-Feature-representation_files/figure-html/unnamed-chunk-2-1.png)"
   ]
  },
  {
   "cell_type": "markdown",
   "metadata": {},
   "source": [
    "## Polygons\n",
    "\n",
    "![Polygons](https://mgimond.github.io/Spatial/02-Feature-representation_files/figure-html/unnamed-chunk-3-1.png)"
   ]
  },
  {
   "cell_type": "markdown",
   "metadata": {},
   "source": [
    "## Rasters\n",
    "\n",
    "Represents data as an array of cells, or pixels. \n",
    "\n",
    "Each cell or pixel has an associated value.\n"
   ]
  },
  {
   "cell_type": "code",
   "execution_count": 5,
   "metadata": {},
   "outputs": [
    {
     "data": {
      "text/plain": [
       "array([[3, 5, 5, 5, 2, 4, 5, 2, 1, 4],\n",
       "       [1, 3, 5, 2, 5, 2, 4, 5, 3, 4],\n",
       "       [3, 2, 5, 1, 1, 2, 1, 2, 1, 3],\n",
       "       [4, 1, 2, 3, 5, 1, 3, 1, 4, 5],\n",
       "       [5, 1, 2, 1, 4, 3, 5, 3, 2, 1],\n",
       "       [2, 2, 3, 2, 3, 2, 5, 5, 3, 5],\n",
       "       [3, 1, 3, 3, 3, 1, 1, 3, 3, 1],\n",
       "       [1, 2, 1, 4, 4, 4, 4, 2, 2, 5],\n",
       "       [3, 5, 4, 4, 4, 3, 3, 3, 5, 5],\n",
       "       [1, 4, 4, 5, 5, 5, 5, 4, 5, 2]])"
      ]
     },
     "execution_count": 5,
     "metadata": {},
     "output_type": "execute_result"
    }
   ],
   "source": [
    "import numpy as np\n",
    "\n",
    "matrix = np.random.randint(1,6, size=(10, 10))\n",
    "matrix"
   ]
  },
  {
   "cell_type": "markdown",
   "metadata": {},
   "source": [
    "## Rasters\n",
    "\n",
    "![Rasters, Oh My!](https://mgimond.github.io/Spatial/02-Feature-representation_files/figure-html/unnamed-chunk-4-1.png)"
   ]
  },
  {
   "cell_type": "markdown",
   "metadata": {},
   "source": [
    "## Object vs Field\n"
   ]
  },
  {
   "cell_type": "markdown",
   "metadata": {},
   "source": [
    "### Object View\n",
    "An object view of the world treats entities as discrete objects; they need not occur at every location within a study area. Point locations of cities would be an example of an object. So would be polygonal representations of urban areas which may be non-contiguous."
   ]
  },
  {
   "cell_type": "markdown",
   "metadata": {},
   "source": [
    "### Field View\n",
    "A field view of the world treats entities as a scalar field. This is a mathematical concept in which a scalar is a quantity having a magnitude. It is measurable at every location within the study region. Two popular examples of a scalar field are surface elevation and surface temperature. Each represents a property that can be measured at any location.\n",
    "\n",
    "Another example of a scalar field is the presence and absence of a building. This is a binary scalar where a value of 0 is assigned to a location devoid of buildings and a value of 1 is assigned to locations having one or more buildings. A field representation of buildings may not seem intuitive, in fact, given the definition of an object view of the world in the last section, it would seem only fitting to view buildings as objects. In fact, buildings can be viewed as both field or objects. The context of the analysis is ultimately what will dictate which view to adopt. If we’re interested in studying the distribution of buildings over a study area, then an object view of the features makes sense. If, on the other hand, we are interested in identifying all locations where buildings don’t exist, then a binary field view of these entities would make sense.\n",
    "\n"
   ]
  },
  {
   "cell_type": "markdown",
   "metadata": {},
   "source": [
    "## Scale \n",
    "\n",
    "Ratio of distance on the map to that in the real world\n",
    "\n",
    "- Large Scale:  \n",
    "relatively large ratio and thus a small extent\n",
    "\n",
    "- Small Scale:\n",
    "relatively small ratio and thus a large extent"
   ]
  },
  {
   "cell_type": "markdown",
   "metadata": {},
   "source": [
    "### Small Scale\n",
    "\n",
    "Map of the Boston area at a 1:10,000,000 scale\n",
    "\n",
    "![Small Scale](https://mgimond.github.io/Spatial/img/Boston_small_scale.jpg)\n"
   ]
  },
  {
   "cell_type": "markdown",
   "metadata": {},
   "source": [
    "### Large Scale\n",
    "\n",
    "Map of the Boston area at a 1:34,000 scale\n",
    "\n",
    "![Large Scale](https://mgimond.github.io/Spatial/img/Boston_large_scale.jpg)\n"
   ]
  },
  {
   "cell_type": "markdown",
   "metadata": {},
   "source": [
    "## Attribute Data\n",
    "\n",
    "A point on the map is not always super valuable. \n",
    "\n",
    "Or at least it doesn't really tell us a whole lot.  \n",
    "\n",
    "Whats is helpful is if we can assoicate additional data with spatial location.  \n",
    "\n",
    "This is the magic..."
   ]
  },
  {
   "cell_type": "markdown",
   "metadata": {},
   "source": [
    "## Data Types\n",
    "\n",
    "### Nominal data \n",
    "- no implied order, size or quantitative information (e.g. paved and unpaved roads)\n",
    "\n",
    "### Ordinal data \n",
    "- have an implied order (e.g. ranked scores), however, we cannot quantify the difference since a linear scale is not implied.\n",
    "\n",
    "### Interval data \n",
    "- are numeric and have a linear scale, however they do not have a true zero and can therefore not be used to measure relative magnitudes. For example, one cannot say that 60°F is twice as warm as 30°F since when presented in degrees °C the temperature values are 15.5°C and -1.1°C respectively (and 15.5 is clearly not twice as big as -1.1).\n",
    "\n",
    "### Ratio scale data\n",
    "- are interval data with a true zero such as monetary value (e.g. $1, $20, $100)."
   ]
  },
  {
   "cell_type": "markdown",
   "metadata": {},
   "source": [
    "## In-Class Activity\n",
    "\n",
    "### Read a Map\n",
    "\n",
    "- Pair up with a partner, and spend 5 minutes looking at the 15 maps provided\n",
    "- Answer the following questions:\n",
    "    1) What is the purpose of the map  \n",
    "    2) What projection is the data in  \n",
    "    3) What type of data is presented\n",
    "    4) What parts of the map are critical for assisting in understanding the map"
   ]
  },
  {
   "cell_type": "markdown",
   "metadata": {},
   "source": [
    "# Reading\n",
    "\n",
    "Learning ArcGIS Pro 2: Chapter 5"
   ]
  }
 ],
 "metadata": {
  "interpreter": {
   "hash": "40d3a090f54c6569ab1632332b64b2c03c39dcf918b08424e98f38b5ae0af88f"
  },
  "kernelspec": {
   "display_name": "Python 3.9.7 64-bit ('base': conda)",
   "language": "python",
   "name": "python3"
  },
  "language_info": {
   "codemirror_mode": {
    "name": "ipython",
    "version": 3
   },
   "file_extension": ".py",
   "mimetype": "text/x-python",
   "name": "python",
   "nbconvert_exporter": "python",
   "pygments_lexer": "ipython3",
   "version": "3.9.7"
  },
  "orig_nbformat": 4
 },
 "nbformat": 4,
 "nbformat_minor": 2
}
