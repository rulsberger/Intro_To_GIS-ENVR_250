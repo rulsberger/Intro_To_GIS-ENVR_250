{
 "cells": [
  {
   "cell_type": "markdown",
   "metadata": {},
   "source": [
    "# Reading Maps\n",
    "\n",
    "## Goal \n",
    "To be able to identify to purpose of a given map. Identify the important components of a map, the different styles of maps, and how the map author can use different techniques to be able to communicate information effectively.\n",
    "\n",
    "## Outline \n",
    "    - Reading map exercise\n",
    "    - Map Discussion \n",
    "    - What goes into reading a map?\n",
    "    - What is the purpose of \n",
    "    - Orienteering?"
   ]
  },
  {
   "cell_type": "markdown",
   "metadata": {},
   "source": [
    "# Reading\n",
    "\n",
    "Learning ArcGIS Pro 2: Chapter 5"
   ]
  }
 ],
 "metadata": {
  "language_info": {
   "name": "python"
  },
  "orig_nbformat": 4
 },
 "nbformat": 4,
 "nbformat_minor": 2
}
