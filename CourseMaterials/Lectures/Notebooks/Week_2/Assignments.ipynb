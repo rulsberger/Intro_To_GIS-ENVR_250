{
 "cells": [
  {
   "cell_type": "markdown",
   "metadata": {},
   "source": [
    "# Week 2 Assignments\n",
    "\n",
    "- Data Collection via Survey123\n",
    "- ArcGIS Area Comparison Map\n"
   ]
  },
  {
   "cell_type": "markdown",
   "metadata": {},
   "source": [
    "# Week 2 Resources\n",
    "\n",
    "[Earth Elevation Profile](https://www.linkedin.com/posts/chris-green-056a93115_30daymapchallenge-visualization-mapping-ugcPost-6871010849713094656-xHiI/)  \n",
    "[Mercator Projection](https://www.gislounge.com/look-mercator-projection/)  \n",
    "\n",
    "[ArcGIS Pro Supported Map Projections](https://pro.arcgis.com/en/pro-app/latest/help/mapping/properties/list-of-supported-map-projections.htm)\n",
    "\n",
    "[Projection Transformation On the Web](https://observablehq.com/@d3/projection-transitions)  \n",
    "\n",
    "# Reading \n",
    "Learning ArcGIS Pro 2: Chapter 3\n"
   ]
  }
 ],
 "metadata": {
  "language_info": {
   "name": "python"
  },
  "orig_nbformat": 4
 },
 "nbformat": 4,
 "nbformat_minor": 2
}
