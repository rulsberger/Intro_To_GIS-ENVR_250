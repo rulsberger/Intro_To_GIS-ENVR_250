{
 "cells": [
  {
   "cell_type": "markdown",
   "metadata": {},
   "source": [
    "# Week 2 Assignments\n",
    "\n",
    "\n",
    "- Data Collection via ArcGIS Forms\n",
    "- ArcGIS Area Comparison Map\n"
   ]
  },
  {
   "cell_type": "markdown",
   "metadata": {},
   "source": [
    "# Week 2 Readings\n",
    "\n",
    "https://www.gislounge.com/look-mercator-projection/\n",
    "\n",
    "http://downloads2.esri.com/support/documentation/ao_/710Understanding_Map_Projections.pdf\n",
    "https://www.linkedin.com/posts/chris-green-056a93115_30daymapchallenge-visualization-mapping-ugcPost-6871010849713094656-xHiI/\n",
    "\n",
    "https://bl.ocks.org/mbostock/3711652\n",
    "\n",
    "# Reading \n",
    "Learning ArcGIS Pro 2: Chapter 3\n"
   ]
  }
 ],
 "metadata": {
  "language_info": {
   "name": "python"
  },
  "orig_nbformat": 4
 },
 "nbformat": 4,
 "nbformat_minor": 2
}
