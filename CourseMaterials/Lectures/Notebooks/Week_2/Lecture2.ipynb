{
 "cells": [
  {
   "cell_type": "markdown",
   "metadata": {},
   "source": [
    "# Understanding Projections\n",
    "\n",
    "## Goal \n",
    "Understand the details about spatial data to be able to understand how a point on a 3-d sphere can be understood in a two-dimensional plane.\n",
    "\n",
    "## Outline\n",
    "    - Geography Triva Quiz\n",
    "    - Datums\n",
    "    - Units\n",
    "    - What is a projection?\n",
    "    - Globe demonstration \n",
    "    - Different types of projections - D3 example\n",
    "    - Why do we care?"
   ]
  }
 ],
 "metadata": {
  "language_info": {
   "name": "python"
  },
  "orig_nbformat": 4
 },
 "nbformat": 4,
 "nbformat_minor": 2
}
