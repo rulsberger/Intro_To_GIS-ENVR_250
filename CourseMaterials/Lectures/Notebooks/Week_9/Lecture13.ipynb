{
 "cells": [
  {
   "cell_type": "markdown",
   "metadata": {},
   "source": [
    "# Rasters, Oh My!\n",
    "\n",
    "## Goals \n",
    "Learn the basics of raster operations, raster data tupes etc. \n",
    "\n",
    "## Outline \n",
    "    - Raster Data Types\n",
    "    - Creating Raster data \n",
    "    - Interpolation \n",
    "    - Raster Math"
   ]
  }
 ],
 "metadata": {
  "language_info": {
   "name": "python"
  },
  "orig_nbformat": 4
 },
 "nbformat": 4,
 "nbformat_minor": 2
}
