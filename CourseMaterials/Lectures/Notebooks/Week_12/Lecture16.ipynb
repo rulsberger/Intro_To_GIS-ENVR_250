{
 "cells": [
  {
   "cell_type": "markdown",
   "metadata": {},
   "source": [
    "# GIS Data Collection \n",
    "\n",
    "## Goals \n",
    "Learn to concepts of GIS Data Collection. \n",
    "\n",
    "## Outline \n",
    "    - Data Forms \n",
    "    - Mobile apps\n",
    "    - Data validation \n",
    "    - Trimbl\n",
    "    - Triangulation \n",
    "    "
   ]
  }
 ],
 "metadata": {
  "language_info": {
   "name": "python"
  },
  "orig_nbformat": 4
 },
 "nbformat": 4,
 "nbformat_minor": 2
}
