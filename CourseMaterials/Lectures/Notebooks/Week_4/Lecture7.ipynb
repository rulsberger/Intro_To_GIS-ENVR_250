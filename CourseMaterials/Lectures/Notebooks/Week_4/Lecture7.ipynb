{
 "cells": [
  {
   "cell_type": "markdown",
   "metadata": {},
   "source": [
    "# Joins and Relational Data\n",
    "\n",
    "## Goals \n",
    "Understand realtional data and how to use relational data on your own.\n",
    "\n",
    "## Outline \n",
    "    - Joins \n",
    "    - Spatial Joins \n",
    "    - ArcGIS \n",
    "        - Joins \n",
    "        - Relates\n",
    "        - Relationship Classes"
   ]
  }
 ],
 "metadata": {
  "language_info": {
   "name": "python"
  },
  "orig_nbformat": 4
 },
 "nbformat": 4,
 "nbformat_minor": 2
}
