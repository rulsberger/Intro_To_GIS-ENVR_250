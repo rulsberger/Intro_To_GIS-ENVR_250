{
 "cells": [
  {
   "cell_type": "markdown",
   "metadata": {},
   "source": [
    "# Data Relationships\n",
    "\n",
    "## Goal \n",
    "Understand how data is related to each other. Be able to conduct joins of attribute and spatial data. \n",
    "\n",
    "## Outline \n",
    "    - Understand concepts of Relational Data\n",
    "    - Vector Geometric Operations "
   ]
  }
 ],
 "metadata": {
  "language_info": {
   "name": "python"
  },
  "orig_nbformat": 4
 },
 "nbformat": 4,
 "nbformat_minor": 2
}
