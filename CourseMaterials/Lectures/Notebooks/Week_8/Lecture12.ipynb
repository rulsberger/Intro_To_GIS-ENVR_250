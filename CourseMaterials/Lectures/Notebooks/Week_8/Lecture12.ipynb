{
 "cells": [
  {
   "cell_type": "markdown",
   "metadata": {},
   "source": [
    "# Census Vector Lab Part 2\n",
    "\n",
    "## Goals \n",
    "Utilize vector processing to be able to do different types of analysis with Census Data\n",
    "\n",
    "## Outline \n",
    "    - Nearest Neighbor \n",
    "    \n"
   ]
  }
 ],
 "metadata": {
  "language_info": {
   "name": "python"
  },
  "orig_nbformat": 4
 },
 "nbformat": 4,
 "nbformat_minor": 2
}
