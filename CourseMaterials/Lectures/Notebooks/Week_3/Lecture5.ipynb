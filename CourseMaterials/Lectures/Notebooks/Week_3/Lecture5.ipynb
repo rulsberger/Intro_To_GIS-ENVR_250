{
 "cells": [
  {
   "cell_type": "markdown",
   "metadata": {
    "slideshow": {
     "slide_type": "slide"
    },
    "tags": []
   },
   "source": [
    "# Data Types and Data Creation \n",
    "\n",
    "## Goal \n",
    "Explore and create our own GIS Data.\n",
    "\n",
    "## Outline \n",
    "    - Viewing the Attributes of GIS Data\n",
    "    - Selecting Data \n",
    "      - Select By Attribute \n",
    "      - Select By Location\n",
    "    - Definition Queries\n",
    "    - Exporting Data\n",
    "    - Create New Data Features (Beginner Level)\n",
    "      - ArcGIS Geodatabase Field Types ***\n",
    "    - Symbolizing Data \n",
    "    - Creating a Layout\n",
    "      - Adding Map Reference Features\n",
    "\n",
    "## Sections Covered in Learning ArcGIS Pro 2\n",
    "  - Chapter 3: Creating 2D Maps\n",
    "  - Chapter 6: Creating a Layout\n",
    "  - Chapter 8: Learning to Edit Spatial Data"
   ]
  },
  {
   "cell_type": "markdown",
   "metadata": {
    "slideshow": {
     "slide_type": "slide"
    },
    "tags": []
   },
   "source": [
    "## Let's pick up where we left off.\n",
    "\n",
    "We just added our data we collected from our Survey123 form into ArcGIS Pro. \n",
    "\n",
    "Let's either open that project again or start that step over."
   ]
  },
  {
   "cell_type": "markdown",
   "metadata": {
    "slideshow": {
     "slide_type": "subslide"
    },
    "tags": []
   },
   "source": [
    "Awesome. Our data is in our map, let's explore our data a bit. "
   ]
  },
  {
   "cell_type": "markdown",
   "metadata": {
    "slideshow": {
     "slide_type": "slide"
    },
    "tags": []
   },
   "source": [
    "### View Attribute Data\n",
    "Two different way to explore data. \n",
    "\n",
    "- Catalog Pane/View\n",
    "  - Click Layer\n",
    "  - Show Table\n",
    "- Map Pane/View\n",
    "  - Add Layer\n",
    "  - Right Click Layer \n",
    "  - Show Attribute Table"
   ]
  },
  {
   "cell_type": "markdown",
   "metadata": {
    "slideshow": {
     "slide_type": "slide"
    },
    "tags": []
   },
   "source": [
    "### Explore in the Map\n",
    "\n",
    "- Use the Navigate tool in the Map tab in the Ribbon"
   ]
  },
  {
   "cell_type": "markdown",
   "metadata": {
    "slideshow": {
     "slide_type": "subslide"
    },
    "tags": []
   },
   "source": [
    "Well crap, there are so many data points...\n",
    "\n",
    "How do I only see mine?"
   ]
  },
  {
   "cell_type": "markdown",
   "metadata": {
    "slideshow": {
     "slide_type": "slide"
    },
    "tags": []
   },
   "source": [
    "### Selections \n",
    "\n",
    "There are many different ways:\n",
    "- Style based on some data\n",
    "- Select data based on Attribute \n",
    "- Defintion Query"
   ]
  },
  {
   "cell_type": "markdown",
   "metadata": {
    "slideshow": {
     "slide_type": "subslide"
    },
    "tags": []
   },
   "source": [
    "Symbolize by Unique Values\n",
    "\n",
    "- It's still hard to read though."
   ]
  },
  {
   "cell_type": "markdown",
   "metadata": {
    "slideshow": {
     "slide_type": "subslide"
    },
    "tags": []
   },
   "source": [
    "Select Features by Attribute or by Point in Space\n",
    "\n",
    "- Show selected features in Attribute tab \n",
    "- Selected features in Map Pane\n",
    "\n",
    "Still not very helpful."
   ]
  },
  {
   "cell_type": "markdown",
   "metadata": {
    "slideshow": {
     "slide_type": "subslide"
    },
    "tags": []
   },
   "source": [
    "Apply Definition Query to Layer\n",
    "\n",
    "- Two different methods\n",
    "  - Use Ribbon Interface\n",
    "  - Properties"
   ]
  },
  {
   "cell_type": "markdown",
   "metadata": {
    "slideshow": {
     "slide_type": "subslide"
    },
    "tags": []
   },
   "source": [
    "Now that we've snagged our data, I want to only see mine. Mine, I tell you.\n",
    "\n",
    "- Export selected features to your FileGeodatabase"
   ]
  },
  {
   "cell_type": "markdown",
   "metadata": {
    "slideshow": {
     "slide_type": "subslide"
    },
    "tags": []
   },
   "source": [
    "Alright, now we are getting somewhere...."
   ]
  },
  {
   "cell_type": "markdown",
   "metadata": {
    "slideshow": {
     "slide_type": "slide"
    },
    "tags": []
   },
   "source": [
    "### Create Features in Geodatabase\n",
    "\n",
    "- We are going to repeat that process, but now we are going to create three different layers."
   ]
  },
  {
   "cell_type": "markdown",
   "metadata": {
    "slideshow": {
     "slide_type": "subslide"
    },
    "tags": []
   },
   "source": [
    "Create a Feature Dataset\n",
    "  - Create three Feature Classes\n",
    "    - Point Type\n",
    "    - Line Type \n",
    "    - Polygon Type"
   ]
  },
  {
   "cell_type": "markdown",
   "metadata": {
    "slideshow": {
     "slide_type": "subslide"
    },
    "tags": []
   },
   "source": [
    "Create Feature Class: \n",
    "- Geometric Properties\n",
    "- Fields\n",
    "- Spatial Reference\n",
    "- Tolerance\n",
    "- Resolution\n",
    "- [Data Storage](https://pro.arcgis.com/en/pro-app/latest/help/data/geodatabases/overview/what-are-configuration-keywords.htm)"
   ]
  },
  {
   "cell_type": "markdown",
   "metadata": {
    "slideshow": {
     "slide_type": "subslide"
    },
    "tags": []
   },
   "source": [
    "Field Data Types: \n",
    "\n",
    "[ArcGIS Geodatabase Data Types](https://pro.arcgis.com/en/pro-app/latest/help/data/geodatabases/overview/arcgis-field-data-types.htm)\n",
    "\n",
    "*** Midterm note!\n",
    "Think what data types should be used for example data. "
   ]
  },
  {
   "cell_type": "markdown",
   "metadata": {
    "slideshow": {
     "slide_type": "subslide"
    },
    "tags": []
   },
   "source": [
    "Field Data Types Cont.\n",
    "\n",
    "- You can't run statistics on text data types\n",
    "- You number categories don't have any value \n",
    "- TO DO: need expanding explaination here"
   ]
  },
  {
   "cell_type": "markdown",
   "metadata": {
    "slideshow": {
     "slide_type": "slide"
    },
    "tags": []
   },
   "source": [
    "## Creating Data in a Map\n",
    "\n",
    "Using the Edit Tab\n",
    "- Create Feature\n",
    "- Feature creation "
   ]
  },
  {
   "cell_type": "markdown",
   "metadata": {
    "slideshow": {
     "slide_type": "slide"
    },
    "tags": []
   },
   "source": [
    "## Symbolizing Data \n",
    "  - Outline \n",
    "  - Fill \n",
    "  - Stroke\n",
    "  - Color \n",
    "    - Hue\n",
    "    - Lightness\n",
    "    - Saturation\n",
    "  - Styling Based on Data \n",
    "    - Single Symbol \n",
    "    - Unique Values\n",
    "    - Graduated Colors\n",
    "    - Bivariate\n",
    "\n",
    "** Midterm Note:\n",
    "When is it appropriate to use different symbology types?\n"
   ]
  },
  {
   "cell_type": "markdown",
   "metadata": {
    "slideshow": {
     "slide_type": "slide"
    },
    "tags": []
   },
   "source": [
    "## Organizing Data\n",
    "\n",
    "- Using the Content Pane\n",
    "  - Show data by drawing order\n",
    "  - Show data by data source \n",
    "  - Show data by editing\n",
    "  - etc. "
   ]
  },
  {
   "cell_type": "markdown",
   "metadata": {
    "slideshow": {
     "slide_type": "subslide"
    },
    "tags": []
   },
   "source": [
    "Hopefully we are at a point where we like the look of our map."
   ]
  },
  {
   "cell_type": "markdown",
   "metadata": {
    "slideshow": {
     "slide_type": "slide"
    },
    "tags": []
   },
   "source": [
    "## Create a Layout View\n",
    "\n",
    "We now are going to prepare our map for actual exporting to a viewable map image. \n",
    "\n",
    "Lets go to our Catalog Pane and create a new Layout.\n",
    "    - or Insert Tab -> Insert Layout"
   ]
  },
  {
   "cell_type": "markdown",
   "metadata": {
    "slideshow": {
     "slide_type": "subslide"
    },
    "tags": []
   },
   "source": [
    "Choose a paper size and an orientation.  \n",
    "    - You are converting pixels to a size on the monitor. \n",
    "  \n",
    "Insert a MapFrame  \n",
    "    - As we discovered in our Area Comparison map, a Map Frame is basically a connected object to an existing Map. All our styles are done in the Map Pane and copied over the the layout. \n"
   ]
  },
  {
   "cell_type": "markdown",
   "metadata": {
    "slideshow": {
     "slide_type": "subslide"
    },
    "tags": []
   },
   "source": [
    "Zoom to the extent that shows your data. \n",
    "- Choose appropriate reference layers. \n",
    "- How do you make <em>your data</em> show. \n",
    "\n",
    "\n",
    "** You can think about breaking your map into different pieces even. "
   ]
  },
  {
   "cell_type": "markdown",
   "metadata": {
    "slideshow": {
     "slide_type": "subslide"
    },
    "tags": []
   },
   "source": [
    "Once you get the set for what you're looking for, think about what other elements you can add to your map which might be useful to explain what is going on in your map. \n",
    "\n",
    "- Title \n",
    "- North Arrow \n",
    "- Scale Bar\n",
    "- Other references \n",
    "- Lables\n",
    "- Inset Maps"
   ]
  }
 ],
 "metadata": {
  "kernelspec": {
   "display_name": "Python 3 (ipykernel)",
   "language": "python",
   "name": "python3"
  },
  "language_info": {
   "codemirror_mode": {
    "name": "ipython",
    "version": 3
   },
   "file_extension": ".py",
   "mimetype": "text/x-python",
   "name": "python",
   "nbconvert_exporter": "python",
   "pygments_lexer": "ipython3",
   "version": "3.9.9"
  }
 },
 "nbformat": 4,
 "nbformat_minor": 4
}
