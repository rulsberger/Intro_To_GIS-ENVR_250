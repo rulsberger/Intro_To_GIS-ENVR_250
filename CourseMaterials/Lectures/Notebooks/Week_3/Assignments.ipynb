{
 "cells": [
  {
   "cell_type": "markdown",
   "metadata": {},
   "source": [
    "# Week 3 Assignments\n",
    "\n",
    "Make your first map in ArcGIS Pro"
   ]
  },
  {
   "cell_type": "markdown",
   "metadata": {},
   "source": [
    "# Reading \n",
    "Learning ArcGIS Pro 2\n",
    "- Chapter 3: Creating 2D Maps\n",
    "- Chapter 5: Creating and Working with Projects\n",
    "- Chapter 6: Creating a Layout\n",
    "- Chapter 8: Learning to Edit Spatial Data"
   ]
  }
 ],
 "metadata": {
  "language_info": {
   "name": "python"
  },
  "orig_nbformat": 4
 },
 "nbformat": 4,
 "nbformat_minor": 2
}
