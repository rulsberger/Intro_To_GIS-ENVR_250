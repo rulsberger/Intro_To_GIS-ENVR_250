{
 "cells": [
  {
   "cell_type": "markdown",
   "metadata": {},
   "source": [
    "# Data Types and Data Creation \n",
    "\n",
    "## Goal \n",
    "Learn about GIS Data Management and best practices. \n",
    "\n",
    "## Outline \n",
    "    - How Does A Computer Work \n",
    "    - Different places data can live\n",
    "      - Where Do I Store Data For This Class?\n",
    "    - GIS Data Formats \n",
    "    - Working with ArcGIS Pro Projects\n",
    "    - Download GIS Data \n",
    "    - ArcGIS Pro DEMO\n",
    "      - Adding Data \n",
    "      - Using ArcGIS Catalog\n",
    "      - Saving in Different Formats\n",
    "      - Fixing Broken Files\n",
    "\n",
    "## Sections Covered in Learning ArcGIS Pro 2\n",
    "  - Chapter 5: Creating and Working with Projects"
   ]
  },
  {
   "cell_type": "markdown",
   "metadata": {},
   "source": [
    "Todays goal is to understand GIS Data Management, introduce our next assignment, and to familiarize ourselves with the terminology that we will be using while working with during the class. "
   ]
  },
  {
   "cell_type": "markdown",
   "metadata": {},
   "source": [
    "## The Basics: About Our Computers\n",
    "\n",
    "Lets start with basics. Not really about this class. But its good to know   \n",
    "\n",
    "[How Your Computer Works](https://www.youtube.com/watch?v=AkFi90lZmXA&ab_channel=TED-Ed)  \n",
    "[How Computer Memory Works](https://youtu.be/p3q5zWCw8J4)"
   ]
  },
  {
   "cell_type": "markdown",
   "metadata": {},
   "source": [
    "So basically, our computers work on two different levels, we have harddrives, and the CPU. The CPU is typically controlled by an operating sytems, whcih loads a bunch of different programs to be able give a User Experience GUI to do different operations. Additionally, this can give different permissions to different accounts which can lock down access to programs, files, etc. "
   ]
  },
  {
   "cell_type": "markdown",
   "metadata": {},
   "source": [
    "### So for me, where do I store this. \n",
    "\n",
    "The H Drive.\n",
    "\n",
    "The H Drive is a Network Drive, so it is accessible from machines that are on the University of Puget Sound Network. This is a Computer Hard Drive on a Server, which your accounts are given permission to access via some server protocols <- (whatever this may be).\n",
    "\n",
    "This allows us open this drive from every computer. However, becasue it is over the network, we have to pass those files over the internet before we can actually get them.\n",
    "\n"
   ]
  },
  {
   "cell_type": "markdown",
   "metadata": {},
   "source": [
    "If you work on the same computer, you can work in <em>My Documents</em> or another folder (I usually create on) on the C Drive. This is a local harddrive on your computer, so it is able to grab data quickly, and might give you all a better experience for working with Arc. "
   ]
  },
  {
   "cell_type": "markdown",
   "metadata": {},
   "source": [
    "Additionally, you may want to work on an external harddrive. You likely would need something with at least 32 GB, but these are so cheap now you may want to just buy something like a TB.\n",
    "\n",
    "You could either work directly off your External Harddrive, or just use it to backup your work. "
   ]
  },
  {
   "cell_type": "markdown",
   "metadata": {},
   "source": [
    "All this to say, I am anticpating our labs to take some of you up to four hours to complete. Additionally, I anticipate that your final research project will be something like 25-30 hours of work. We don't want to lose that, so this is important!"
   ]
  },
  {
   "cell_type": "markdown",
   "metadata": {},
   "source": [
    "Just to cover our bases, we can also talk about cloud storage and other services. "
   ]
  },
  {
   "cell_type": "markdown",
   "metadata": {},
   "source": [
    "### Cloud Storage and Data Services\n",
    "\n",
    "Cloud Storage is similar to a network drive, but the actual harddrive is hosted by a third party that you pay to keep your software running. Google Drive, Microsoft One Drive, all of these are providing the same services, but for more technical implementations, you use some utility to connect as a user with certain privledges. "
   ]
  },
  {
   "cell_type": "markdown",
   "metadata": {},
   "source": [
    "Additionally data can be hosted on a server, and then shared publically via Services and Application Programming Interfaces. \n",
    "\n",
    "Examples in GIS: \n",
    "- Feature Service \n",
    "- Map Service \n",
    "\n",
    "These services are sharing data on the web using a agreed protocol that allows different applications to display, query, and even in some cases analyze different datasets. \n",
    "\n",
    "Here is some documentation for Feature Services in ArcGIS. \n",
    "[ArcGIS Feature Service](https://enterprise.arcgis.com/en/server/latest/publish-services/windows/what-is-a-feature-service-.htm)\n"
   ]
  },
  {
   "cell_type": "markdown",
   "metadata": {},
   "source": [
    "## SO WOW!!! THIS IS ALL COOL BUT WHAT DO I ACTUALLY DO NOW?"
   ]
  },
  {
   "cell_type": "markdown",
   "metadata": {},
   "source": [
    "Well lets get into the data that we are actually going to be managing."
   ]
  },
  {
   "cell_type": "markdown",
   "metadata": {},
   "source": [
    "## Vector Data Formats:\n",
    "- Shapefile\n",
    "- FileGeodatabase\n",
    "- Geopackage\n",
    "- GeoJSON"
   ]
  },
  {
   "cell_type": "markdown",
   "metadata": {},
   "source": [
    "### Shapefiles\n",
    "\n",
    "A shapefile is a file-based data format native to ArcView 3.x software (OLD!!!)\n",
    "\n",
    "- A Basic Feature Class\n",
    "  - collection of features that have the same geometry type (point, line, or polygon), the same attributes, and a common spatial extent.\n",
    "  - At least three different files, but up to eight"
   ]
  },
  {
   "cell_type": "markdown",
   "metadata": {},
   "source": [
    "| File extension | Content |\n",
    "|----------------|---------|\n",
    "| .dbf | Attribute information|\n",
    "| .shp | Feature geometry |\n",
    "| .shx | Feature geometry index |\n",
    "| .aih | Attribute index |\n",
    "| .ain | Attribute index |\n",
    "| .prj | Coordinate system information |\n",
    "| .sbn | Spatial index file |\n",
    "| .sbx | Spatial index file |"
   ]
  },
  {
   "cell_type": "markdown",
   "metadata": {},
   "source": [
    "### File Geodatabase\n",
    "\n",
    "A file geodatabase is a relational database storage format."
   ]
  },
  {
   "cell_type": "markdown",
   "metadata": {},
   "source": [
    "HOLD UP!!! \n",
    "\n",
    "A Relational Database Format is a pretty loaded term, and is used pretty frequently in GIS Data Management.\n",
    "\n",
    "I wasn't going to cover this yet, or is it necessary for this class; but I would highly recommend that you familiarize yourself with this if you are going to work with large datasets in the future.\n",
    "\n",
    "[Relational Databases IBM](https://www.youtube.com/watch?v=OqjJjpjDRLc&ab_channel=IBMTechnology)"
   ]
  },
  {
   "cell_type": "markdown",
   "metadata": {},
   "source": [
    "Back to our previous programming...\n",
    "\n",
    "Basically, a File Geodatabase is a .gdb folder  \n",
    "    - Host hundreds of different files.  \n",
    "    - Can store multiple feature classes.  \n",
    "    - Increased complexity allows for topological definitions to be set at the folder rather than individual file.  \n",
    "      - For example: Projections\n",
    "\n",
    "But its format is proprietary. Means it works best with only ESRI stuff, and typically you need some other knowledge about how to transform the file format."
   ]
  },
  {
   "cell_type": "markdown",
   "metadata": {},
   "source": [
    "An Example of a File Geodatabase.  \n",
    "\n",
    "![ESRI FileGeodatabase](https://mgimond.github.io/Spatial/img/geodatabase.jpg)\n",
    "(src: ESRI)"
   ]
  },
  {
   "cell_type": "markdown",
   "metadata": {},
   "source": [
    "### Geopackage\n",
    "\n",
    "A Geopackage is a relatively new file format (I've never used one) using [Open Data Standards](https://en.wikipedia.org/wiki/Open_format). Its built on another relational databse called [SQLite](https://www.sqlite.org/index.html) which is a standalone file. \n",
    "\n",
    "- .gpkg\n",
    "  - Stores all data as one file\n",
    "    - coordinate value\n",
    "    - metadata\n",
    "    - attribute data\n",
    "    - projection information\n",
    "\n",
    "Relatively new, so have to used newer programs to be able to use this format."
   ]
  },
  {
   "cell_type": "markdown",
   "metadata": {},
   "source": [
    "### GeoJSON\n",
    "\n",
    "GeoJSON is a file format used in the web. Often data from APIs is delievered in JSON, a readable text format which is easily parseable in many different code languages. GeoJSON is an extension of that JSON format to store geographic data. \n",
    "\n",
    "Here is the [GeoJSON Spec](https://geojson.org/geojson-spec.html).\n",
    "\n",
    "However, some things to note. \n",
    "\n",
    "- By the Spec, you should only store data in [EPSG:4326](https://epsg.io/4326)\n",
    "- Can store different geometry types in a single file.\n",
    "- Mostly used in the web."
   ]
  },
  {
   "cell_type": "code",
   "execution_count": null,
   "metadata": {},
   "outputs": [],
   "source": [
    "{\n",
    "  \"type\": \"FeatureCollection\",\n",
    "  \"features\": [\n",
    "    {\n",
    "      \"type\": \"Feature\",\n",
    "      \"geometry\": {\n",
    "        \"type\": \"Point\",\n",
    "        \"coordinates\": [0, 0]\n",
    "      },\n",
    "      \"properties\": {\n",
    "        \"name\": \"null island\"\n",
    "      }\n",
    "    }\n",
    "  ]\n",
    "}"
   ]
  },
  {
   "cell_type": "markdown",
   "metadata": {},
   "source": [
    "## Raster Data Formats \n",
    "\n",
    "Rasters are defined by pixel depth. \n",
    "\n",
    "![Raster Pixels](https://mgimond.github.io/Spatial/03-Data-Management_files/figure-html/unnamed-chunk-1-1.png)"
   ]
  },
  {
   "cell_type": "markdown",
   "metadata": {},
   "source": [
    "Examples: \n",
    "\n",
    "Aerial Imagery: Stored in three bands \n",
    "    - Red: 255 pixels \n",
    "    - Green: 255 pixels \n",
    "    - Blue: 255 pixels\n",
    "\n",
    "These three bands together are what make a clear image. \n",
    "\n",
    "For a video on RGB, take a look at this. This will also be helpful later in the quarter when we think about styling our data, and how to chose the right color.\n",
    "\n",
    "[RGB](https://www.youtube.com/watch?v=15aqFQQVBWU&ab_channel=Code.org)\n"
   ]
  },
  {
   "cell_type": "markdown",
   "metadata": {},
   "source": [
    "### Image Files \n",
    "\n",
    "The Imagine file format was originally created by an image processing software company called ERDAS (I've mentioned this before).\n",
    "\n",
    "Sometimes contains an xml file for metadata"
   ]
  },
  {
   "cell_type": "markdown",
   "metadata": {},
   "source": [
    "### GeoTiff\n",
    "\n",
    "Good easy open file data format. \n"
   ]
  },
  {
   "cell_type": "markdown",
   "metadata": {},
   "source": [
    "### File Geodatabase\n",
    "\n",
    "Again, Rasters can be stored in your File Geodatabase \n",
    "\n",
    "Additional Benefits: \n",
    "- Can create image mosaic structures\n",
    "  - “stitched” images from multiple image files stored in the geodatabase\n",
    "- Processing very large raster files can be computationally more efficient than other file formats"
   ]
  },
  {
   "cell_type": "markdown",
   "metadata": {},
   "source": [
    "# Cool lets do something now\n",
    "\n",
    "So, lets do it. \n",
    "\n",
    "ArcMap is the replacement for ArcGIS Desktop, which was a system of software used to do the same thing we are doing here in ArcGIS Pro. ArcGIS Desktop has an End of Life of March 01, 2026, and there is not future development anticipated for the software until that time. \n",
    "\n",
    "Also, that means that agencies are phasing out of its use, for example, DFW is no longer supporting ArcGIS Desktop in Decemeber 2022.\n",
    "\n",
    "So, we are using ArcGIS Pro in this class. \n"
   ]
  },
  {
   "cell_type": "markdown",
   "metadata": {},
   "source": [
    "Opening ArcGIS Pro. \n",
    "\n",
    "We covered this in class last week, but I figured that we would revisit working in ArcGIS Pro. \n",
    "\n",
    "You already have opened an existing ArcGIS project, but lets start from scratch. \n",
    "\n",
    "If we open ArcGIS without a template, it opens up a blank document."
   ]
  },
  {
   "cell_type": "markdown",
   "metadata": {},
   "source": [
    "As discussed in the assignment, Opening and Saving an ArcGIS Pro Document creates a folder with a specific structure. \n",
    "\n",
    "- **Future_Project**  \n",
    "    - **Some Other Folders**  <- Backups\n",
    "    - **Future_Project.gdb**  <- Geodatabase\n",
    "    - <em>Future_Project.aprx</em>  <- ArcGIS Pro Project\n",
    "    - <em>Future_Project.tbx</em>  <- ArcGIS Toolbox"
   ]
  },
  {
   "cell_type": "markdown",
   "metadata": {},
   "source": [
    "Typically, we will want to keep all data related to our project within the same folder. "
   ]
  },
  {
   "cell_type": "markdown",
   "metadata": {},
   "source": [
    "Before ArcGIS Pro... \n",
    "\n",
    "There were many applications used to work together to do GIS. \n",
    "\n",
    "- ArcMap was used to create maps, and do analysis\n",
    "- ArcCatalog was used to manage GIS data\n",
    "- etc. \n",
    "\n",
    "Now ArcGIS Pro handles all that for us. "
   ]
  },
  {
   "cell_type": "markdown",
   "metadata": {},
   "source": [
    "We can open a Blank Template, and Map Template, or a Catalog Template. However, its easy enough to be able to add any of these panes/views in any project, and I expect you to be familiar with each of them to be able to complete a project."
   ]
  },
  {
   "cell_type": "markdown",
   "metadata": {},
   "source": [
    "But since we are talking about data, lets start talking about the Catalog Pane/View. \n"
   ]
  },
  {
   "cell_type": "markdown",
   "metadata": {},
   "source": [
    "We want to use the Catalog Pane to manage most of our GIS Data. One, it reads infromation in File Geodatabases, and is smart enough to keep all our file together. "
   ]
  },
  {
   "cell_type": "markdown",
   "metadata": {},
   "source": [
    "Lets Download some data: \n",
    "\n",
    "[DNR Roads](https://fortress.wa.gov/dnr/adminsa/gisdata/datadownload/state_roads.zip)  \n",
    "[National Parks](https://www.naturalearthdata.com/downloads/10m-cultural-vectors/)  \n",
    "[Shaded Relief](https://www.naturalearthdata.com/http//www.naturalearthdata.com/download/10m/raster/US_MSR_10M.zip)"
   ]
  },
  {
   "cell_type": "markdown",
   "metadata": {},
   "source": [
    "Looking at these files from Windows File Explorer vs ArcGIS Catalog."
   ]
  },
  {
   "cell_type": "markdown",
   "metadata": {},
   "source": [
    "DEMO Examples: \n",
    "\n",
    "- Create a Map Pane/View and lets look at some data. \n",
    "- See how there is now a map in the Catalog Pane. \n",
    "- Right click layer in catalog, and add to map.\n",
    "- Click and drag another layer and add to map."
   ]
  },
  {
   "cell_type": "markdown",
   "metadata": {},
   "source": [
    "Break stuff Example: \n",
    "\n",
    "- Move a shapefile to a different location or rename.\n",
    "  - Fix broken links to the file.\n",
    "  - Add folder to ArcCatalog project."
   ]
  },
  {
   "cell_type": "markdown",
   "metadata": {},
   "source": [
    "DEMO Examples: \n",
    "\n",
    "Lets add our data from our Survey123.\n",
    "\n",
    "- Login to ArcGIS Online. \n",
    "- Go to Portal Content\n",
    "  - My Orgs or My Groups\n",
    "    - ENV250 My First Survey"
   ]
  },
  {
   "cell_type": "markdown",
   "metadata": {},
   "source": [
    "DEMO Examples: \n",
    "\n",
    "- Coping Data into our own GeoDataBase\n",
    "  - Converting Formats\n",
    "  - Export Data"
   ]
  }
 ],
 "metadata": {
  "language_info": {
   "name": "python"
  },
  "orig_nbformat": 4
 },
 "nbformat": 4,
 "nbformat_minor": 2
}
