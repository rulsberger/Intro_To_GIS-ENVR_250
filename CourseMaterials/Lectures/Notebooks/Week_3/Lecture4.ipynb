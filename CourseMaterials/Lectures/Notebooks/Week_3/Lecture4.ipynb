{
 "cells": [
  {
   "cell_type": "markdown",
   "metadata": {
    "slideshow": {
     "slide_type": "slide"
    },
    "tags": []
   },
   "source": [
    "# Data Types and Data Creation \n",
    "\n",
    "## Goal \n",
    "Learn about GIS Data Management and best practices. \n",
    "\n",
    "## Outline \n",
    "    - How does a Computer Work? \n",
    "    - Different Places Data can Live\n",
    "      - Where do I Store Data for This Class?\n",
    "    - GIS Data Formats \n",
    "    - Working with ArcGIS Pro Projects\n",
    "    - Download GIS Data \n",
    "    - ArcGIS Pro DEMO\n",
    "      - Adding Data \n",
    "      - Using ArcGIS Catalog\n",
    "      - Saving in Different Formats\n",
    "      - Fixing Broken Files\n",
    "\n",
    "## Sections Covered in Learning ArcGIS Pro 2\n",
    "  - Chapter 5: Creating and Working with Projects"
   ]
  },
  {
   "cell_type": "markdown",
   "metadata": {
    "slideshow": {
     "slide_type": "slide"
    },
    "tags": []
   },
   "source": [
    "Today's goal is to understand GIS Data Management, introduce our next assignment, and familiarize ourselves with the terminology we will be using during the class. "
   ]
  },
  {
   "cell_type": "markdown",
   "metadata": {
    "slideshow": {
     "slide_type": "slide"
    },
    "tags": []
   },
   "source": [
    "## The Basics: About Our Computers\n",
    "\n",
    "Lets start with the basics. It's not really about GIS, but it's good to know.   \n",
    "\n",
    "[How Your Computer Works](https://www.youtube.com/watch?v=AkFi90lZmXA&ab_channel=TED-Ed)  \n",
    "[How Computer Memory Works](https://youtu.be/p3q5zWCw8J4)"
   ]
  },
  {
   "cell_type": "markdown",
   "metadata": {
    "slideshow": {
     "slide_type": "subslide"
    },
    "tags": []
   },
   "source": [
    "Our computers work on two levels: we have harddrives and the CPU. The CPU is typically controlled by an operating sytem whcih loads a bunch of programs to a User Experience GUI for the purpose of running various operations. Additionally, this can give permissions to accounts which can lock down access to programs, files, etc. "
   ]
  },
  {
   "cell_type": "markdown",
   "metadata": {
    "slideshow": {
     "slide_type": "slide"
    },
    "tags": []
   },
   "source": [
    "### So for me, where do I store this?\n",
    "\n",
    "The H Drive.\n",
    "\n",
    "The H Drive is a Network Drive, so it is accessible from machines that are on the University of Puget Sound Network. This is a computer hard drive on a server, which your accounts are given permission to access via some server protocols <- (whatever this may be).\n",
    "\n",
    "This network allows us open your drive from every UPS computer. However, becasue it is over the network, we have to pass those files over the internet before we can actually access them.\n",
    "\n"
   ]
  },
  {
   "cell_type": "markdown",
   "metadata": {
    "slideshow": {
     "slide_type": "subslide"
    },
    "tags": []
   },
   "source": [
    "If you work on the same computer, you can work in <em>My Documents</em> or another folder on the C Drive. This is a local harddrive on your computer, so it is able to grab data quickly and might give you all a better experience for working with Arc. "
   ]
  },
  {
   "cell_type": "markdown",
   "metadata": {
    "slideshow": {
     "slide_type": "subslide"
    },
    "tags": []
   },
   "source": [
    "Additionally, you may want to work on an external harddrive. You likely would need something with at least 32 GB, but these are so cheap now you may want to just buy something like a TB.\n",
    "\n",
    "You could either work directly off your External Harddrive or just use it to backup your work. "
   ]
  },
  {
   "cell_type": "markdown",
   "metadata": {
    "slideshow": {
     "slide_type": "subslide"
    },
    "tags": []
   },
   "source": [
    "All this to say, I am anticpating our labs to take some of you up to four hours to complete. Additionally, it is likely that your final research project will be something like 25-30 hours of work. We don't want to lose that, so this is important!"
   ]
  },
  {
   "cell_type": "markdown",
   "metadata": {
    "slideshow": {
     "slide_type": "subslide"
    },
    "tags": []
   },
   "source": [
    "Just to cover our bases we can also talk about cloud storage and other services. "
   ]
  },
  {
   "cell_type": "markdown",
   "metadata": {
    "slideshow": {
     "slide_type": "slide"
    },
    "tags": []
   },
   "source": [
    "### Cloud Storage and Data Services\n",
    "\n",
    "Cloud Storage is similar to a network drive, but the actual harddrive is hosted by a third party that you pay to keep your software running. Google Drive, Microsoft One Drive - all of these are providing the same services. For more technical implementations, you use some utility to connect as a user with certain privledges. "
   ]
  },
  {
   "cell_type": "markdown",
   "metadata": {
    "slideshow": {
     "slide_type": "subslide"
    },
    "tags": []
   },
   "source": [
    "Data can also be hosted on a server, then shared publically via Services and Application Programming Interfaces. \n",
    "\n",
    "Examples in GIS: \n",
    "- Feature Service \n",
    "- Map Service \n",
    "\n",
    "These services are sharing data on the web using an agreed protocol which allows different applications to display, query, and even in some cases analyze different datasets. \n",
    "\n",
    "Here is some documentation for Feature Services in ArcGIS. \n",
    "[ArcGIS Feature Service](https://enterprise.arcgis.com/en/server/latest/publish-services/windows/what-is-a-feature-service-.htm)\n"
   ]
  },
  {
   "cell_type": "markdown",
   "metadata": {
    "slideshow": {
     "slide_type": "slide"
    },
    "tags": []
   },
   "source": [
    "## SO, WOW!!! THIS IS ALL COOL BUT WHAT DO I ACTUALLY DO NOW?"
   ]
  },
  {
   "cell_type": "markdown",
   "metadata": {
    "slideshow": {
     "slide_type": "subslide"
    },
    "tags": []
   },
   "source": [
    "Well, let's get into the data we are actually going to be managing."
   ]
  },
  {
   "cell_type": "markdown",
   "metadata": {
    "slideshow": {
     "slide_type": "slide"
    },
    "tags": []
   },
   "source": [
    "## Vector Data Formats:\n",
    "- Shapefile\n",
    "- FileGeodatabase\n",
    "- Geopackage\n",
    "- GeoJSON"
   ]
  },
  {
   "cell_type": "markdown",
   "metadata": {
    "slideshow": {
     "slide_type": "slide"
    },
    "tags": []
   },
   "source": [
    "### Shapefiles\n",
    "\n",
    "A shapefile is a file-based data format native to ArcView 3.x software (OLD!!!)\n",
    "\n",
    "- A Basic Feature Class\n",
    "  - collection of features that have the same geometry type (point, line, or polygon), the same attributes, and a common spatial extent.\n",
    "  - At least three different files, but up to eight"
   ]
  },
  {
   "cell_type": "markdown",
   "metadata": {
    "slideshow": {
     "slide_type": "subslide"
    },
    "tags": []
   },
   "source": [
    "| File extension | Content |\n",
    "|----------------|---------|\n",
    "| .dbf | Attribute information|\n",
    "| .shp | Feature geometry |\n",
    "| .shx | Feature geometry index |\n",
    "| .aih | Attribute index |\n",
    "| .ain | Attribute index |\n",
    "| .prj | Coordinate system information |\n",
    "| .sbn | Spatial index file |\n",
    "| .sbx | Spatial index file |"
   ]
  },
  {
   "cell_type": "markdown",
   "metadata": {
    "slideshow": {
     "slide_type": "slide"
    },
    "tags": []
   },
   "source": [
    "### File Geodatabase\n",
    "\n",
    "A file geodatabase is a relational database storage format."
   ]
  },
  {
   "cell_type": "markdown",
   "metadata": {
    "slideshow": {
     "slide_type": "subslide"
    },
    "tags": []
   },
   "source": [
    "HOLD UP!!! \n",
    "\n",
    "A Relational Database Format is a pretty loaded term, and is used pretty frequently in GIS Data Management.\n",
    "\n",
    "I wasn't going to cover this yet, or is it necessary for this class; but I would highly recommend that you familiarize yourself with this if you are going to work with large datasets in the future. (Possibly even next week?!?)\n",
    "\n",
    "[Relational Databases IBM](https://www.youtube.com/watch?v=OqjJjpjDRLc&ab_channel=IBMTechnology)"
   ]
  },
  {
   "cell_type": "markdown",
   "metadata": {
    "slideshow": {
     "slide_type": "subslide"
    },
    "tags": []
   },
   "source": [
    "Back to our previous programming...\n",
    "\n",
    "Basically, a File Geodatabase is a .gdb folder.  \n",
    "    - Hosts hundreds of different files \n",
    "    - Can store multiple feature classes\n",
    "    - Increased complexity allows for topological definitions to be set at the folder rather than individual file.  \n",
    "      - For example, projections\n",
    "\n",
    "But its format is proprietary. This means it works best with only ESRI stuff and typically you need some other knowledge about how to transform the file format."
   ]
  },
  {
   "cell_type": "markdown",
   "metadata": {
    "slideshow": {
     "slide_type": "subslide"
    },
    "tags": []
   },
   "source": [
    "An Example of a File Geodatabase.  \n",
    "\n",
    "![ESRI FileGeodatabase](https://mgimond.github.io/Spatial/img/geodatabase.jpg)\n",
    "(src: ESRI)"
   ]
  },
  {
   "cell_type": "markdown",
   "metadata": {
    "slideshow": {
     "slide_type": "slide"
    },
    "tags": []
   },
   "source": [
    "### Geopackage\n",
    "\n",
    "A Geopackage is a relatively new file format (I've never used one) using [Open Data Standards](https://en.wikipedia.org/wiki/Open_format). Its built on another relational databse called [SQLite](https://www.sqlite.org/index.html) which is a standalone file. \n",
    "\n",
    "- .gpkg\n",
    "  - Stores all data as one file\n",
    "    - coordinate value\n",
    "    - metadata\n",
    "    - attribute data\n",
    "    - projection information\n",
    "\n",
    "Relatively new, so have to have used newer programs to use this format."
   ]
  },
  {
   "cell_type": "markdown",
   "metadata": {
    "slideshow": {
     "slide_type": "slide"
    },
    "tags": []
   },
   "source": [
    "### GeoJSON\n",
    "\n",
    "GeoJSON is a file format used in the web. Often data from APIs is delievered in JSON, a readable text format which is easily parseable in many different code languages. GeoJSON is an extension of that JSON format to store geographic data. \n",
    "\n",
    "Here is the [GeoJSON Spec](https://geojson.org/geojson-spec.html).\n",
    "\n",
    "However, some things to note. \n",
    "\n",
    "- By the Spec, you should only store data in [EPSG:4326](https://epsg.io/4326)\n",
    "- Can store different geometry types in a single file.\n",
    "- Mostly used in the web."
   ]
  },
  {
   "cell_type": "code",
   "execution_count": null,
   "metadata": {
    "slideshow": {
     "slide_type": "subslide"
    },
    "tags": []
   },
   "outputs": [],
   "source": [
    "{\n",
    "  \"type\": \"FeatureCollection\",\n",
    "  \"features\": [\n",
    "    {\n",
    "      \"type\": \"Feature\",\n",
    "      \"geometry\": {\n",
    "        \"type\": \"Point\",\n",
    "        \"coordinates\": [0, 0]\n",
    "      },\n",
    "      \"properties\": {\n",
    "        \"name\": \"null island\"\n",
    "      }\n",
    "    }\n",
    "  ]\n",
    "}"
   ]
  },
  {
   "cell_type": "markdown",
   "metadata": {
    "slideshow": {
     "slide_type": "slide"
    },
    "tags": []
   },
   "source": [
    "## Raster Data Formats \n",
    "\n",
    "Rasters are defined by pixel depth. \n",
    "\n",
    "![Raster Pixels](https://mgimond.github.io/Spatial/03-Data-Management_files/figure-html/unnamed-chunk-1-1.png)"
   ]
  },
  {
   "cell_type": "markdown",
   "metadata": {
    "slideshow": {
     "slide_type": "subslide"
    },
    "tags": []
   },
   "source": [
    "Examples: \n",
    "\n",
    "Aerial Imagery: Stored in three bands \n",
    "    - Red: 255 pixels \n",
    "    - Green: 255 pixels \n",
    "    - Blue: 255 pixels\n",
    "\n",
    "These three bands together are what make a clear image. \n",
    "\n",
    "For a video on RGB, take a look at this. This will also be helpful later in the quarter when we think about styling our data and how to chose the right color.\n",
    "\n",
    "[RGB](https://www.youtube.com/watch?v=15aqFQQVBWU&ab_channel=Code.org)\n"
   ]
  },
  {
   "cell_type": "markdown",
   "metadata": {
    "slideshow": {
     "slide_type": "slide"
    },
    "tags": []
   },
   "source": [
    "### Image Files \n",
    "\n",
    "The Imagine file format was originally created by an image processing software company called ERDAS (I've mentioned this before).\n",
    "\n",
    "Sometimes contains an xml file for metadata"
   ]
  },
  {
   "cell_type": "markdown",
   "metadata": {
    "slideshow": {
     "slide_type": "slide"
    },
    "tags": []
   },
   "source": [
    "### GeoTiff\n",
    "\n",
    "Good easy open file data format. \n"
   ]
  },
  {
   "cell_type": "markdown",
   "metadata": {
    "slideshow": {
     "slide_type": "slide"
    },
    "tags": []
   },
   "source": [
    "### File Geodatabase\n",
    "\n",
    "Again, Rasters can be stored in your File Geodatabase \n",
    "\n",
    "Additional Benefits: \n",
    "- Can create image mosaic structures\n",
    "  - “stitched” images from multiple image files stored in the geodatabase\n",
    "- Processing very large raster files can be computationally more efficient than other file formats"
   ]
  },
  {
   "cell_type": "markdown",
   "metadata": {
    "slideshow": {
     "slide_type": "slide"
    },
    "tags": []
   },
   "source": [
    "# Cool lets do something now\n",
    "\n",
    "Seatbelts everyone. *Please let this be a normal fieldtrip.* With Arc? No way!\n",
    "\n",
    "ArcMap is the replacement for ArcGIS Desktop, which was a system of software used to do the same thing we are doing here in ArcGIS Pro. ArcGIS Desktop has an End of Life of March 01, 2026, and there is not future development anticipated for the software until that time. \n",
    "\n",
    "Also, this means agencies are phasing out its use. For example, DFW is no longer supporting ArcGIS Desktop in Decemeber 2022.\n",
    "\n",
    "So, we are using ArcGIS Pro in this class. \n"
   ]
  },
  {
   "cell_type": "markdown",
   "metadata": {
    "slideshow": {
     "slide_type": "subslide"
    },
    "tags": []
   },
   "source": [
    "Opening ArcGIS Pro. \n",
    "\n",
    "We covered this in class last week, but I figured that we would revisit working in ArcGIS Pro. \n",
    "\n",
    "You have already opened an existing ArcGIS project, but lets start from scratch. \n",
    "\n",
    "If we open ArcGIS without a template, it opens up a blank document."
   ]
  },
  {
   "cell_type": "markdown",
   "metadata": {
    "slideshow": {
     "slide_type": "subslide"
    },
    "tags": []
   },
   "source": [
    "As discussed in the assignment, Opening and Saving an ArcGIS Pro Document creates a folder with a specific structure. \n",
    "\n",
    "- **Future_Project**  \n",
    "    - **Some Other Folders**  <- Backups\n",
    "    - **Future_Project.gdb**  <- Geodatabase\n",
    "    - <em>Future_Project.aprx</em>  <- ArcGIS Pro Project\n",
    "    - <em>Future_Project.tbx</em>  <- ArcGIS Toolbox"
   ]
  },
  {
   "cell_type": "markdown",
   "metadata": {
    "slideshow": {
     "slide_type": "subslide"
    },
    "tags": []
   },
   "source": [
    "Typically we will want to keep all data related to our project within the same folder. "
   ]
  },
  {
   "cell_type": "markdown",
   "metadata": {
    "slideshow": {
     "slide_type": "subslide"
    },
    "tags": []
   },
   "source": [
    "Before ArcGIS Pro... \n",
    "\n",
    "There were many applications used to work together to do GIS. \n",
    "\n",
    "- ArcMap was used to create maps and do analysis\n",
    "- ArcCatalog was used to manage GIS data\n",
    "- etc. \n",
    "\n",
    "Now ArcGIS Pro handles all of that for us. "
   ]
  },
  {
   "cell_type": "markdown",
   "metadata": {
    "slideshow": {
     "slide_type": "subslide"
    },
    "tags": []
   },
   "source": [
    "We can open a Blank Template, and Map Template, or a Catalog Template. However, its easy enough to be able to add any of these panes/views in any project, and I expect you to be familiar with each of them to be able to complete a project."
   ]
  },
  {
   "cell_type": "markdown",
   "metadata": {
    "slideshow": {
     "slide_type": "subslide"
    },
    "tags": []
   },
   "source": [
    "But since we are talking about data, lets start talking about the Catalog Pane/View. \n"
   ]
  },
  {
   "cell_type": "markdown",
   "metadata": {
    "slideshow": {
     "slide_type": "subslide"
    },
    "tags": []
   },
   "source": [
    "We want to use the Catalog Pane to manage most of our GIS Data. One, it reads infromation in File Geodatabases, and is smart enough to keep all our file together. "
   ]
  },
  {
   "cell_type": "markdown",
   "metadata": {
    "slideshow": {
     "slide_type": "slide"
    },
    "tags": []
   },
   "source": [
    "Lets Download some data: \n",
    "\n",
    "[DNR Roads](https://fortress.wa.gov/dnr/adminsa/gisdata/datadownload/state_roads.zip)  \n",
    "[National Parks](https://www.naturalearthdata.com/downloads/10m-cultural-vectors/)  \n",
    "[Shaded Relief](https://www.naturalearthdata.com/http//www.naturalearthdata.com/download/10m/raster/US_MSR_10M.zip)"
   ]
  },
  {
   "cell_type": "markdown",
   "metadata": {
    "slideshow": {
     "slide_type": "subslide"
    },
    "tags": []
   },
   "source": [
    "Looking at these files from Windows File Explorer vs ArcGIS Catalog."
   ]
  },
  {
   "cell_type": "markdown",
   "metadata": {
    "slideshow": {
     "slide_type": "subslide"
    },
    "tags": []
   },
   "source": [
    "DEMO Examples: \n",
    "\n",
    "- Create a Map Pane/View and lets look at some data. \n",
    "- See how there is now a map in the Catalog Pane. \n",
    "- Right click layer in catalog, and add to map.\n",
    "- Click and drag another layer and add to map."
   ]
  },
  {
   "cell_type": "markdown",
   "metadata": {
    "slideshow": {
     "slide_type": "subslide"
    },
    "tags": []
   },
   "source": [
    "Break Stuff Example: \n",
    "\n",
    "- Move a shapefile to a different location or rename.\n",
    "  - Fix broken links to the file.\n",
    "  - Add folder to ArcCatalog project."
   ]
  },
  {
   "cell_type": "markdown",
   "metadata": {
    "slideshow": {
     "slide_type": "subslide"
    },
    "tags": []
   },
   "source": [
    "DEMO Examples: \n",
    "\n",
    "Lets add our data from our Survey123.\n",
    "\n",
    "- Login to ArcGIS Online. \n",
    "- Go to Portal Content\n",
    "  - My Orgs or My Groups\n",
    "    - ENV250 My First Survey"
   ]
  },
  {
   "cell_type": "markdown",
   "metadata": {
    "slideshow": {
     "slide_type": "skip"
    },
    "tags": []
   },
   "source": [
    "DEMO Examples: \n",
    "\n",
    "- Coping Data into our own GeoDataBase\n",
    "  - Converting Formats\n",
    "  - Export Data"
   ]
  }
 ],
 "metadata": {
  "kernelspec": {
   "display_name": "Python 3 (ipykernel)",
   "language": "python",
   "name": "python3"
  },
  "language_info": {
   "codemirror_mode": {
    "name": "ipython",
    "version": 3
   },
   "file_extension": ".py",
   "mimetype": "text/x-python",
   "name": "python",
   "nbconvert_exporter": "python",
   "pygments_lexer": "ipython3",
   "version": "3.9.9"
  }
 },
 "nbformat": 4,
 "nbformat_minor": 4
}
