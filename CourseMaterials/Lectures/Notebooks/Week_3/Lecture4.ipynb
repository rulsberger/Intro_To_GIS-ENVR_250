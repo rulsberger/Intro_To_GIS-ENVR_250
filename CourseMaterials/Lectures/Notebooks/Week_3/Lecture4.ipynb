{
 "cells": [
  {
   "cell_type": "markdown",
   "metadata": {},
   "source": [
    "# Working with GIS Data\n",
    "\n",
    "## Goal \n",
    "Understand the properties of Geospatial Data and the different formats that it can exist. \n",
    "\n",
    "## Outline \n",
    "    - Types of Data \n",
    "        - Shapefiles (eww)\n",
    "        - Geojson \n",
    "        - Geodatabases\n",
    "        - Geodatabases (Actual Databases)\n",
    "        - etc\n",
    "    - Geometry Types \n",
    "        - Vector \n",
    "            - Points \n",
    "            - Lines \n",
    "            - Raster\n",
    "        - Raster\n",
    "    - Other spatial attributes \n",
    "        - Z Coordinates\n",
    "        - M Coordinates \n",
    "    - Using ArcGIS Pro\n",
    "        - Ribbons \n",
    "        - Catalog\n",
    "        - Map Pane    "
   ]
  }
 ],
 "metadata": {
  "language_info": {
   "name": "python"
  },
  "orig_nbformat": 4
 },
 "nbformat": 4,
 "nbformat_minor": 2
}
