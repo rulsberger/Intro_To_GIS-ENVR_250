{
 "cells": [
  {
   "cell_type": "markdown",
   "metadata": {},
   "source": [
    "# Data Types and Data Creation \n",
    "\n",
    "## Goal \n",
    "Explore and create our own GIS Data\n",
    "\n",
    "## Outline \n",
    "    - Viewing the Attributes of GIS Data\n",
    "    - Selecting Data \n",
    "      - Select By Attribute \n",
    "      - Select By Location\n",
    "    - Definition Queries\n",
    "    - Exporting Data\n",
    "    - Create New Data Features (Beginner Level)\n",
    "    - Symbolizing Data \n",
    "    - Creating a Layout\n",
    "      - Adding Map Reference Features\n",
    "\n",
    "## Sections Covered in Learning ArcGIS Pro 2\n",
    "  - Chapter 3: Creating 2D Maps\n",
    "  - Chapter 6: Creating a Layout\n",
    "  - Chapter 8: Learning to Edit Spatial Data"
   ]
  }
 ],
 "metadata": {
  "language_info": {
   "name": "python"
  },
  "orig_nbformat": 4
 },
 "nbformat": 4,
 "nbformat_minor": 2
}
