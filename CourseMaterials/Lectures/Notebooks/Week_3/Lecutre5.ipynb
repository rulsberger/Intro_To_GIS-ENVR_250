{
 "cells": [
  {
   "cell_type": "markdown",
   "metadata": {},
   "source": [
    "# Data Types and Data Creation \n",
    "\n",
    "## Goal \n",
    "Create your own GIS data! Understand the different formats that GIS data can be in\n",
    "\n",
    "## Outline \n",
    "    - Types of Data \n",
    "        - Shapefiles (eww)\n",
    "        - Geojson \n",
    "        - Geodatabases\n",
    "        - Geodatabases (Actual Databases)\n",
    "        - Webservices\n",
    "        - etc\n",
    "    - Best Practices\n",
    "        - Naming convenctions \n",
    "        - ORGANIZATION\n",
    "        - Back ups\n",
    "        - Etc"
   ]
  }
 ],
 "metadata": {
  "language_info": {
   "name": "python"
  },
  "orig_nbformat": 4
 },
 "nbformat": 4,
 "nbformat_minor": 2
}
