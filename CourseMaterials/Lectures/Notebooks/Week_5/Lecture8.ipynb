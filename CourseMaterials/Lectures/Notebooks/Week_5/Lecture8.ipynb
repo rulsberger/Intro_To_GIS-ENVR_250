{
 "cells": [
  {
   "cell_type": "markdown",
   "metadata": {},
   "source": [
    "# Spatial Research Questions\n",
    "\n",
    "## Goals\n",
    "Be able to format a spatial research question.\n",
    "\n",
    "## Outline \n",
    "    - Outline the spatial Research Question covered in next 5 weeks.\n"
   ]
  },
  {
   "cell_type": "markdown",
   "metadata": {},
   "source": [
    "## Research Questions\n",
    "\n",
    "The final project in this class will be for you to formulate a research question that is either spatial itself, or is answered through spatial analysis. "
   ]
  },
  {
   "cell_type": "markdown",
   "metadata": {},
   "source": [
    "Our research question should be the following: "
   ]
  },
  {
   "cell_type": "markdown",
   "metadata": {},
   "source": [
    "### clear: \n",
    "\n",
    "it provides enough specifics that one’s audience can easily understand its purpose without needing additional explanation."
   ]
  },
  {
   "cell_type": "markdown",
   "metadata": {},
   "source": [
    "### focused: \n",
    "\n",
    "it is narrow enough that it can be answered thoroughly in the space the analysis task allows."
   ]
  },
  {
   "cell_type": "markdown",
   "metadata": {},
   "source": [
    "### concise: \n",
    "\n",
    "it is expressed in the fewest possible words."
   ]
  },
  {
   "cell_type": "markdown",
   "metadata": {},
   "source": [
    "### complex: \n",
    "\n",
    "it is not answerable with a simple “yes” or “no,” but rather requires synthesis and analysis of ideas and sources prior to composition of an answer."
   ]
  },
  {
   "cell_type": "markdown",
   "metadata": {},
   "source": [
    "### arguable: \n",
    "\n",
    "its potential answers are open to debate rather than accepted facts."
   ]
  },
  {
   "cell_type": "markdown",
   "metadata": {},
   "source": [
    "Try to state your research question without describing the sources or data you will use to answer the question"
   ]
  },
  {
   "cell_type": "markdown",
   "metadata": {},
   "source": [
    "What sort of analysis do you plan to do? Do you need to make a map to illustrate a point? "
   ]
  },
  {
   "cell_type": "markdown",
   "metadata": {},
   "source": [
    "What are the specifics of the data I need to use to answer my research question? What is my topic? What unit of analysis, geographic unit, and time unit (frequency) do I need? Do I need time series data?"
   ]
  },
  {
   "cell_type": "markdown",
   "metadata": {},
   "source": [
    "Define Your Topic\n",
    "Use specific language when defining your topic. This will help you identify a variable or variables.\n",
    "\n",
    "Examples:\n",
    "\n",
    "I'm looking for the percentage of people living below the poverty line in areas where hurricanes frequently hit"
   ]
  },
  {
   "cell_type": "markdown",
   "metadata": {},
   "source": [
    "Identify Unit of Analysis\n",
    "Who or what is being described by your variable(s)?\n",
    "\n",
    "Examples:\n",
    "\n",
    "Individuals, families, households\n",
    "Institutions (companies, schools, non-profits, health facilities)\n",
    "Products (commodities, stocks, currencies)"
   ]
  },
  {
   "cell_type": "markdown",
   "metadata": {},
   "source": [
    "Identify Time Frame and Frequency\n",
    "For what point in time do you want to know this about the people, institutions, or products you identified? How often do you want to know it about them?\n",
    "\n",
    "Examples:\n",
    "\n",
    "As recent as possible, plus data from 10 and 20 years before that\n",
    "Every month in 1995 and 1996"
   ]
  },
  {
   "cell_type": "markdown",
   "metadata": {},
   "source": [
    "Identify Geographic Unit\n",
    "What part of the world is your research question concerned with?\n",
    "\n",
    "Examples:\n",
    "\n",
    "Counties in Michigan\n",
    "Countries currently in the EU\n",
    "Businesses headquartered in China"
   ]
  },
  {
   "cell_type": "markdown",
   "metadata": {},
   "source": [
    "Identify Whether this is Time Series Data\n",
    "Are you looking for data collected at regular intervals over time? Identifying what sort of time series may be helpful as you search for data.\n",
    "\n",
    "Cross sectional: collected at the same point of time for several individuals\n",
    "Longitudinal/Panel: data collected at a sequence of time points for each of a sample of individuals\n",
    "Time Series: data collected at a sequence of time points, usually at a uniform frequency\n",
    "Pooled cross sectional time series: mixture of time series data and cross-section data"
   ]
  }
 ],
 "metadata": {
  "language_info": {
   "name": "python"
  },
  "orig_nbformat": 4
 },
 "nbformat": 4,
 "nbformat_minor": 2
}
