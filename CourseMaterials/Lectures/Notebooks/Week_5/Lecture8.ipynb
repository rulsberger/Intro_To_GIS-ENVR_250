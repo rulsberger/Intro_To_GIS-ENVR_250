{
 "cells": [
  {
   "cell_type": "markdown",
   "metadata": {
    "slideshow": {
     "slide_type": "slide"
    },
    "tags": []
   },
   "source": [
    "# Spatial Research Questions\n",
    "\n",
    "## Goals\n",
    "Be equipped to format a spatial research question.\n",
    "\n",
    "## Outline \n",
    "    - Outline the spatial research question covered in next 6 weeks.\n"
   ]
  },
  {
   "cell_type": "markdown",
   "metadata": {
    "slideshow": {
     "slide_type": "slide"
    },
    "tags": []
   },
   "source": [
    "# What we have learned so far: \n",
    "\n",
    "- Datums\n",
    "- Projections \n",
    "- Map Units\n",
    "- Examples of different types of maps\n",
    "- Elements to include for the viewer to understand info your map\n",
    "- Various file types of GIS data\n",
    "- What kind of formats GIS Data can come in\n",
    "- Basics of relational data\n",
    "- Basic geometric relationships"
   ]
  },
  {
   "cell_type": "markdown",
   "metadata": {
    "slideshow": {
     "slide_type": "subslide"
    },
    "tags": []
   },
   "source": [
    "And we have started to get more familiar with clicking through ArcGIS Pro."
   ]
  },
  {
   "cell_type": "markdown",
   "metadata": {
    "slideshow": {
     "slide_type": "slide"
    },
    "tags": []
   },
   "source": [
    "# Expectations for the rest of the class: \n",
    "\n",
    "We are going to explore GIS using all the tools we have developed so far. We will also explore the relationships of different datasets to answer a research question. "
   ]
  },
  {
   "cell_type": "markdown",
   "metadata": {
    "slideshow": {
     "slide_type": "slide"
    },
    "tags": []
   },
   "source": [
    "# Redlining - A VERY Brief Histroy\n",
    "\n",
    "[Mapping Inequality](https://dsl.richmond.edu/panorama/redlining/#loc=5/39.1/-94.58&text=intro)\n"
   ]
  },
  {
   "cell_type": "markdown",
   "metadata": {
    "slideshow": {
     "slide_type": "subslide"
    },
    "tags": []
   },
   "source": [
    "[Housing Segregation and Redlining in America: A Short History | Code Switch | NPR](https://www.youtube.com/watch?v=O5FBJyqfoLM&ab_channel=NPR)"
   ]
  },
  {
   "cell_type": "markdown",
   "metadata": {
    "slideshow": {
     "slide_type": "slide"
    },
    "tags": []
   },
   "source": [
    "Between 1935 and 1940, Home Owners' Loan Corporation (HOLC) assigned grades to residential neighborhoods that reflected their \"mortgage security\".\n",
    "\n",
    "The purpose: Identify minimal risk for banks and other mortgage lenders to determine who should receive loans and which areas of the city were safe investments. "
   ]
  },
  {
   "cell_type": "markdown",
   "metadata": {
    "slideshow": {
     "slide_type": "slide"
    },
    "tags": []
   },
   "source": [
    "## Grades\n",
    "\n",
    "- A (shaded green on map): \"Best\"\n",
    "- B (gray): \"Still Desirable\"\n",
    "- C (yellow): \"Definitely Declining\"\n",
    "- D (red): \"Hazardous\"\n"
   ]
  },
  {
   "cell_type": "markdown",
   "metadata": {
    "slideshow": {
     "slide_type": "slide"
    },
    "tags": []
   },
   "source": [
    "### Data use for grading: \n",
    "\n",
    "- Quality of housing\n",
    "- History of sale and rent values\n",
    "- Racial and ethnic identity, class of residents"
   ]
  },
  {
   "cell_type": "markdown",
   "metadata": {
    "slideshow": {
     "slide_type": "subslide"
    },
    "tags": []
   },
   "source": [
    "> These grades were a tool for redlining: making it difficult or impossible for people in certain areas to access mortgage financing and thus become homeowners. Redlining directed both public and private capital to native-born white families and away from African American and immigrant families. As homeownership was arguably the most significant means of intergenerational wealth building in the United States in the twentieth century, these redlining practices from eight decades ago had long-term effects in creating wealth inequalities that we still see today. Mapping Inequality, we hope, will allow and encourage you to grapple with this history of government policies contributing to inequality.  \n",
    "\n",
    "\\- Mapping Inequality\n"
   ]
  },
  {
   "cell_type": "markdown",
   "metadata": {
    "slideshow": {
     "slide_type": "subslide"
    },
    "tags": []
   },
   "source": [
    "Results of this practice: \n",
    "\n",
    "- Less access to homeownership to POC (generational wealth)\n",
    "- Less investment of services to these neighborhoods \n",
    "- Less appreciation of home values in these neighborhoods"
   ]
  },
  {
   "cell_type": "markdown",
   "metadata": {
    "slideshow": {
     "slide_type": "slide"
    },
    "tags": []
   },
   "source": [
    "#### We are going to explore HOLC Classifications for Tacoma"
   ]
  },
  {
   "cell_type": "markdown",
   "metadata": {
    "slideshow": {
     "slide_type": "fragment"
    },
    "tags": []
   },
   "source": [
    "- Digitize the neighborhoods and recreate the HOLC maps ourselves."
   ]
  },
  {
   "cell_type": "markdown",
   "metadata": {
    "slideshow": {
     "slide_type": "fragment"
    },
    "tags": []
   },
   "source": [
    "- Are there still delineations of these neighborhoods based on assessed values?"
   ]
  },
  {
   "cell_type": "markdown",
   "metadata": {
    "slideshow": {
     "slide_type": "fragment"
    },
    "tags": []
   },
   "source": [
    "- Are there changes in deomgraphics that contribute to the result above?"
   ]
  },
  {
   "cell_type": "markdown",
   "metadata": {
    "slideshow": {
     "slide_type": "fragment"
    },
    "tags": []
   },
   "source": [
    "- Are there patterns of investment in city services that predominately serves certain classes of HOLC neighborhoods?"
   ]
  },
  {
   "cell_type": "markdown",
   "metadata": {
    "slideshow": {
     "slide_type": "fragment"
    },
    "tags": []
   },
   "source": [
    "- Are other environmental factors contributing to to valuations of homes?"
   ]
  },
  {
   "cell_type": "markdown",
   "metadata": {
    "slideshow": {
     "slide_type": "slide"
    },
    "tags": []
   },
   "source": [
    "6 Graded Labs exploring redlining and learning different methods of spatial analysis:\n",
    "\n",
    "- Digitizing\n",
    "- Spatial Joins\n",
    "- Relating Geometries\n",
    "- Spatial Algorithms\n",
    "- Raster Analysis"
   ]
  },
  {
   "cell_type": "markdown",
   "metadata": {
    "slideshow": {
     "slide_type": "slide"
    },
    "tags": []
   },
   "source": [
    "### Lab Rubric\n",
    "| Score (Level Achieved) | Map Construction | Questions  | Productivity |\n",
    "|------------------------|------------------|------------|--------------|\n",
    "|0 (Not Shown) | No evidence of attempt to complete map. | Less than 25% of questions attempted or completed correctly. | Project not completed.|\n",
    "| 1 (Attempted) | Map construction is attempted, however missing data layers or is unreadable. | Most questions attempted but more than half are incomplete or incorrect. | Project attempted but far from complete before given deadline. |\n",
    "| 2 (Basic) | All of the elements of the map are present but have not been refined making data difficult to read. | More than half of questions are completed and correct but lack depth of understanding and analysis. | Project not completed by the required deadline. Worktime not well utilized resulting in needing extra time. |\n",
    "| 3 (Acceptable) | Evidence in effort to display data. All data sets are clear and understandable. Still some small errors, such as layer order, transparency, or symbology. | All questions completed and most questions answered correctly. Only a few questions lack full analysis. | Project mostly completed, with some errors present requiring resubmission. Work time well utilized. |\n",
    "| 4 (Advanced) | Map contains all data in clean, easy to read format. Clear attention to details of making a professional map. | All questions are completed correctly and show clear comprehension of concepts. | Project fully completed on, or before, given timeframe. Worktime well utilized with clear regards to deadline. |\n",
    "| **Total Points** | 20 pts | 20 pts | 10 pts |  "
   ]
  },
  {
   "cell_type": "markdown",
   "metadata": {
    "slideshow": {
     "slide_type": "subslide"
    },
    "tags": []
   },
   "source": [
    "The analysis we are doing in our labs is an example of what will go into completeing the analysis for your final project. \n",
    "\n",
    "Of course, this analysis isn't complete. You could write an entire Master's thesis or PH.D. dissertation on these issues.\n",
    "The conclusions from these analyses should be treated as such and my hope is that you want to dig into these issues further.\n"
   ]
  },
  {
   "cell_type": "markdown",
   "metadata": {
    "slideshow": {
     "slide_type": "slide"
    },
    "tags": []
   },
   "source": [
    "## Final Project\n",
    "\n",
    "The final project in this class will be to formulate a research question that is either spatial itself, or is answered through spatial analysis. "
   ]
  },
  {
   "cell_type": "markdown",
   "metadata": {
    "slideshow": {
     "slide_type": "subslide"
    },
    "tags": []
   },
   "source": [
    "### Final Project Details \n",
    "\n",
    "\n",
    "| **Assignment** | **Total Points** | **Percent of Grade** |\n",
    "|---|---|---|\n",
    "| **Final Project** | **400** | **40%** |\n",
    "| Peer Evaluation | 50 |  |\n",
    "| Lightning Talk | 50 |  |\n",
    "| Final Paper | 100 |  |\n",
    "| Final Map | 100 |  |\n",
    "| Final Data/Anaylysis/Organization | 100 |  |"
   ]
  },
  {
   "cell_type": "markdown",
   "metadata": {
    "slideshow": {
     "slide_type": "slide"
    },
    "tags": []
   },
   "source": [
    "### Lightning Talks\n",
    "\n",
    "The goal of lightning talks is to articulate a topic in a quick, insightful, and clear manner. These concise and efficient talks are intended to grab the attention of the audience, convey key information, and allow for several presenters to share their ideas in a brief period of time."
   ]
  },
  {
   "cell_type": "markdown",
   "metadata": {
    "slideshow": {
     "slide_type": "subslide"
    },
    "tags": []
   },
   "source": [
    "Think elevator pitch covering: \n",
    "\n",
    "- What your research topic is \n",
    "- What type of data you are using  \n",
    "- Types of analysis (others may not be using the same analysis tools)  \n",
    "- What methods are you using to communicate your findings   \n",
    "- Summary of what you found/anticipate to find   "
   ]
  },
  {
   "cell_type": "markdown",
   "metadata": {
    "slideshow": {
     "slide_type": "subslide"
    },
    "tags": []
   },
   "source": [
    "#### Grading: \n",
    "\n",
    "- 50 pts Peer Evaluation \n",
    "- 50 pts Professor Evaluation"
   ]
  },
  {
   "cell_type": "markdown",
   "metadata": {
    "slideshow": {
     "slide_type": "subslide"
    },
    "tags": []
   },
   "source": [
    "#### Five Questions, Each Being 10 Points"
   ]
  },
  {
   "cell_type": "markdown",
   "metadata": {
    "slideshow": {
     "slide_type": "fragment"
    },
    "tags": []
   },
   "source": [
    "1) What is the research question?"
   ]
  },
  {
   "cell_type": "markdown",
   "metadata": {
    "slideshow": {
     "slide_type": "fragment"
    },
    "tags": []
   },
   "source": [
    "2) How appropriate are the analytical methods to answer the research question?"
   ]
  },
  {
   "cell_type": "markdown",
   "metadata": {
    "slideshow": {
     "slide_type": "fragment"
    },
    "tags": []
   },
   "source": [
    "3) How appropriate is the visualization for presenting the results of the findings? Does the visualization have all the correct elements to communicate the results of the analysis?"
   ]
  },
  {
   "cell_type": "markdown",
   "metadata": {
    "slideshow": {
     "slide_type": "fragment"
    },
    "tags": []
   },
   "source": [
    "4) How effectively was the presenter able to communicate the information? \n",
    "\n",
    "- Cadence \n",
    "- Delivery \n",
    "- Clarity of topic"
   ]
  },
  {
   "cell_type": "markdown",
   "metadata": {
    "slideshow": {
     "slide_type": "fragment"
    },
    "tags": []
   },
   "source": [
    "5) How well was the information presented in the lightning talk?\n",
    "\n",
    "- Length \n",
    "- Organization\n",
    "- Appropriatness of material for lightning talk"
   ]
  },
  {
   "cell_type": "markdown",
   "metadata": {
    "slideshow": {
     "slide_type": "slide"
    },
    "tags": []
   },
   "source": [
    "### Final Paper\n",
    "\n",
    "A paper explaining your research project.\n",
    "\n",
    "What you chose \n",
    "What data did you use\n",
    "What methods did you use to test your research question\n",
    "What did you find from your work (with visuals, maps, graphs, charts, OH MY!)\n",
    "What would you do differently?"
   ]
  },
  {
   "cell_type": "markdown",
   "metadata": {
    "slideshow": {
     "slide_type": "subslide"
    },
    "tags": []
   },
   "source": [
    "Research articles are not necessary, but may be helpful."
   ]
  },
  {
   "cell_type": "markdown",
   "metadata": {
    "slideshow": {
     "slide_type": "subslide"
    },
    "tags": []
   },
   "source": [
    "#### Outline Example:  \n",
    "\n",
    "- Intro/Thesis\n",
    "- Data Citations \n",
    "- Background research (if relevant)\n",
    "- Methods Summary \n",
    "- Explaination of findings\n",
    "- Constraints, futher research\n",
    "- Conclusion"
   ]
  },
  {
   "cell_type": "markdown",
   "metadata": {
    "slideshow": {
     "slide_type": "subslide"
    },
    "tags": []
   },
   "source": [
    "| Score(Level Achieved) | INTEGRATION OF KNOWLEDGE | TOPIC FOCUS | DEPTH OF DISCUSSION | COHESIVENESS | SPELLING & GRAMMAR | FIGURES/VISUALS | CITATIONS |\n",
    "|------------------------|--------------------------|-------------|---------------------|--------------|--------------------|-----------------|-----------|\n",
    "| 0(Not Shown) | The paper does not demonstrate that the author has fully understood and applied concepts learned in the course. | The topic is not clearly defined. |Cursory discussion in all the sections of the paper or brief discussion in only a few sections. | Headings are necessary to link concepts. Writing does not demonstrate understanding any relationships. | Unacceptable number of spelling and/or grammar mistakes. | No Figures or Visuals were included in the paper | Does not cite sources. |\n",
    "| 1(Attempted) | * | * | * | * | * | * | * |\n",
    "| 2(Basic) | The paper demonstrates that the author, to a certain extent, understands and has applied concepts learned in the course. | The topic is focused but lacks direction. The paper is about a specific topic but the writer has not established a position. | The writer has omitted pertinent content or content runs-on excessively. | Sometimes ties together information from all sources. Paper does not flow - disjointedness is apparent. Author's writing does not demonstrate an understanding of the relationship among material obtained from all sources. |  Noticeable spelling & grammar mistakes. | Visuals are included, and do a fair job communicating results from the analysis. | Cites some data obtained from other sources. Citation style is either inconsistent or incorrect. |\n",
    "| 3(Acceptable) | ** | ** | ** | ** | ** | ** | ** |\n",
    "| 4(Advanced) | The paper demonstrates that the author fully understands and has applied concepts learned in the course. The writer provides concluding remarks that show analysis and synthesis of ideas. |  The topic is focused narrowly enough for the scope of this assignment.  | In-depth discussion & elaboration in all sections of the paper. | Ties together information from all sources. Paper flows from one issue to the next without the need for headings. Author's writing demonstrates an understanding of the relationship among material obtained from all sources. | No spelling &/or grammar mistakes. |   Visualizations are appropraite for communicating results of analysis. Visualizations are referenced and described in the text. The visuals help comminicate the conclusion derived from the data. | Cites all data obtained from other sources. |\n",
    "| **Total Points** | 20 pts | 20 pts | 20 pts | 10 pts | 5 pts | 20 pts| 5 pts | "
   ]
  },
  {
   "cell_type": "markdown",
   "metadata": {
    "slideshow": {
     "slide_type": "subslide"
    },
    "tags": []
   },
   "source": [
    "\\* : Exhibits characteristics of Score 0 and Score 2  \n",
    "\\*\\* :  Exhibits characteristics of Score 2 and Score 4  "
   ]
  },
  {
   "cell_type": "markdown",
   "metadata": {
    "slideshow": {
     "slide_type": "slide"
    },
    "tags": []
   },
   "source": [
    "## Final Map \n",
    "\n",
    "A beautiful, intentially designed map to communicate the results of your map. \n",
    "\n",
    "- Legends\n",
    "- Labels\n",
    "- Color Design\n",
    "- Reference Elements\n",
    "- Different types of maps"
   ]
  },
  {
   "cell_type": "markdown",
   "metadata": {
    "slideshow": {
     "slide_type": "subslide"
    },
    "tags": []
   },
   "source": [
    "### Project Grading\n",
    "\n",
    "| Score (Level Achieved) | General Design | Map Construction | Pop-Ups/Reference Elements | Map Communication |\n",
    "|------------------------|----------------|------------------|---------|-----------|\n",
    "| 0 (Not Shown) | No attempt to put data together is easily readable format | No evidence of attempt to complete map | Data not present. | Map does not help communicate results of research question |\n",
    "| 1 (Attempted) | All data present, but symbology makes map contents difficult to read and understand all layers. | Map construction is attempted, but is missing data layers, or is unreadable | Reference elements are confusing and unreadable. Some Elements are present, but errors prevent comprehension of data. | Map assists in communicating results of research question, but the map style is not appropriate for presetning the results of the research question  |\n",
    "| 2 (Basic) | All data is readable and organized in such a way that all users can understand what the map is showing and how. Some confusion from choice of symbology or style. | All of the elements of the map are present, but have not been refined making data difficult to read. | Allow basic compression of data, but errors (ex. improper labeling, excess attributes, make data difficult to understand | Some comprehension of map design shown. Map adequately communicates the results of research question. |\n",
    "| 3 (Acceptable) | Some small errors resulting in only minimal confusion in map compressibility. Map lacking some refinements in things such as the naming of layers, pop-ups, symbology, or layer order. | Evidence in effort to display data. All data sets are clear and understandable. Still some small errors, such as layer order, transparency, or symbology. | Reference elemetns contain only a few errors, but none of them make data difficult to understand. There are still some small errors (ex. unnecessary underscores or dashes). | Map helps answer the research question completed, shows a adequate comprehension of map design.  |\n",
    "| 4 (Advanced) | Symbology and other refinements (such as map style) make data easily, and quickly understandable to all readers. | Map contains all data in clean, easy to read format. Clear attention to details of making a professional map. | Pop-up information is clear and easily readable. Information is well organized, professional looking, and free of errors. | All questions are completed correctly and show clear comprehension of map design concepts. |\n",
    "| **Total Points 100 pts** | 40 pts | 20 pts | 20 pts | 20 pts |"
   ]
  },
  {
   "cell_type": "markdown",
   "metadata": {
    "slideshow": {
     "slide_type": "slide"
    },
    "tags": []
   },
   "source": [
    "### ArcGIS Pro Project Design\n",
    "\n",
    "We will learn later about putting together a entire map project and exporting it as a <em>Map Package</em>. This includes map metadata, and all map contents in a single file which can be downloaded and shared. You will want to keep this file safe so you can use it later for job application material etc. \n",
    "\n",
    "- Data Organization \n",
    "- Naming Conventions\n",
    "- Project Documentation\n",
    "- And the whole time management portion of your project (Don't be late!)"
   ]
  },
  {
   "cell_type": "markdown",
   "metadata": {
    "slideshow": {
     "slide_type": "subslide"
    },
    "tags": []
   },
   "source": [
    "## ArcGIS Pro Project Design\n",
    "\n",
    "| Score (Level Achieved) | General Data Design | Map Label Construction | Documentation | Productivity |\n",
    "|------------------------|---------------------|------------------------|----------|--------------|\n",
    "| 0 (Not Shown) | No attempt to put data together is easily readable format | No evidence of attempt to complete map | Less than 25% of questions attempted, or completed correctly. | Project not completed |\n",
    "| 1 (Attempted) | Folder structure is unorganized and cannot be used to replicate analysis. | Map annotations/Labes were attempted, but data layers, are unreadable | Most questions attempted, but more than half are incomplete or incorrect | Project attempted, but far from complete before given deadline. |\n",
    "| 2 (Basic) | All data is readable and but organized in such a way that all users can have difficulty understand what the map is showing and how. Some confusion from layer naming or project structure. | All of the necessary elements of the map are present, but have not been refined making data difficult to read. | More than half of questions are completed and correct, but lack depth of understanding and analysis | Project not completed by the required deadline. Worktime not well utilized resulting in needing extra time | \n",
    "| 3 (Acceptable) | Data lacking some refinements in things such as the naming of layers, file structure. | Evidence in effort to display data. All data sets are clear and understandable. Still some small errors. | All questions completed and most questions answered correctly. Only a few questions lack full analysis. | Project mostly completed, with some errors present requiring resubmission. Work time well utilized. |\n",
    "| 4 (Advanced) | Data structure is easily, and quickly understandable to all viewers. | Map contains all data in clean, easy to read format. Clear attention to details of making a professional map. | All questions are completed correctly and show clear comprehension of concepts | Project fully completed on, or before, given timeframe. Worktime well utilized with clear regards to deadline. |\n",
    "| **Total Points 100 pts** | 40 pts | 20 pts | 20 pts | 20 pts |"
   ]
  },
  {
   "cell_type": "markdown",
   "metadata": {
    "slideshow": {
     "slide_type": "slide"
    },
    "tags": []
   },
   "source": [
    "# Research Question\n",
    "\n",
    "So, what should I do?"
   ]
  },
  {
   "cell_type": "markdown",
   "metadata": {
    "slideshow": {
     "slide_type": "subslide"
    },
    "tags": []
   },
   "source": [
    "Our research question should be the following: "
   ]
  },
  {
   "cell_type": "markdown",
   "metadata": {
    "slideshow": {
     "slide_type": "subslide"
    },
    "tags": []
   },
   "source": [
    "#### Clear: \n",
    "\n",
    "it provides enough specifics that one’s audience can easily understand its purpose without needing additional explanation."
   ]
  },
  {
   "cell_type": "markdown",
   "metadata": {
    "slideshow": {
     "slide_type": "subslide"
    },
    "tags": []
   },
   "source": [
    "#### Focused: \n",
    "\n",
    "it is narrow enough that it can be answered thoroughly in the space the analysis task allows."
   ]
  },
  {
   "cell_type": "markdown",
   "metadata": {
    "slideshow": {
     "slide_type": "subslide"
    },
    "tags": []
   },
   "source": [
    "#### Concise: \n",
    "\n",
    "it is expressed in the fewest possible words."
   ]
  },
  {
   "cell_type": "markdown",
   "metadata": {
    "slideshow": {
     "slide_type": "subslide"
    },
    "tags": []
   },
   "source": [
    "#### Complex: \n",
    "\n",
    "it is not answerable with a simple “yes” or “no,” but rather requires synthesis and analysis of ideas and sources prior to composition of an answer."
   ]
  },
  {
   "cell_type": "markdown",
   "metadata": {
    "slideshow": {
     "slide_type": "subslide"
    },
    "tags": []
   },
   "source": [
    "#### Arguable: \n",
    "\n",
    "its potential answers are open to debate rather than accepted facts."
   ]
  },
  {
   "cell_type": "markdown",
   "metadata": {
    "slideshow": {
     "slide_type": "slide"
    },
    "tags": []
   },
   "source": [
    "## Things to help form your research question."
   ]
  },
  {
   "cell_type": "markdown",
   "metadata": {
    "slideshow": {
     "slide_type": "fragment"
    },
    "tags": []
   },
   "source": [
    "Try stating your research question without describing the sources or data you will use to answer the question"
   ]
  },
  {
   "cell_type": "markdown",
   "metadata": {
    "slideshow": {
     "slide_type": "fragment"
    },
    "tags": []
   },
   "source": [
    "What sort of analysis do you plan to do? What type of map do you need to create to illustrate a point? "
   ]
  },
  {
   "cell_type": "markdown",
   "metadata": {
    "slideshow": {
     "slide_type": "subslide"
    },
    "tags": []
   },
   "source": [
    "#### Define Your Topic\n",
    "Use specific language when defining your topic. This will help you identify a variable or variables.\n",
    "\n",
    "Examples:\n",
    "\n",
    "I'm looking for the percentage of people living below the poverty line in areas where hurricanes frequently hit."
   ]
  },
  {
   "cell_type": "markdown",
   "metadata": {
    "slideshow": {
     "slide_type": "subslide"
    },
    "tags": []
   },
   "source": [
    "#### Identify Unit of Analysis\n",
    "Who or what is being described by your variable(s)?\n",
    "\n",
    "Examples:\n",
    "\n",
    "- Individuals, families, households\n",
    "- Institutions (companies, schools, non-profits, health facilities)\n",
    "- Products (commodities, stocks, currencies)"
   ]
  },
  {
   "cell_type": "markdown",
   "metadata": {
    "slideshow": {
     "slide_type": "subslide"
    },
    "tags": []
   },
   "source": [
    "#### Identify Time Frame and Frequency\n",
    "For what point in time do you want to know this about the people, institutions, or products you identified? How often do you want to know it about them?\n",
    "\n",
    "Examples:\n",
    "\n",
    "- As recent as possible, plus data from 10 and 20 years before that\n",
    "- Every month in 1995 and 1996"
   ]
  },
  {
   "cell_type": "markdown",
   "metadata": {
    "slideshow": {
     "slide_type": "subslide"
    },
    "tags": []
   },
   "source": [
    "#### Identify Geographic Unit\n",
    "What part of the world is your research question concerned with?\n",
    "\n",
    "Examples:\n",
    "\n",
    "- Counties in Michigan  \n",
    "- Countries currently in the EU  \n",
    "- Businesses headquartered in China  "
   ]
  },
  {
   "cell_type": "markdown",
   "metadata": {
    "slideshow": {
     "slide_type": "subslide"
    },
    "tags": []
   },
   "source": [
    "#### Identify Whether this is Time Series Data\n",
    "Are you looking for data collected at regular intervals over time? Identifying what sort of time series may be helpful as you search for data.\n",
    "\n",
    "- Cross sectional: collected at the same point of time for several individuals  \n",
    "- Longitudinal/Panel: data collected at a sequence of time points for each of a sample of individuals  \n",
    "- Time Series: data collected at a sequence of time points, usually at a uniform frequency  \n",
    "- Pooled cross sectional time series: mixture of time series data and cross-section data  "
   ]
  },
  {
   "cell_type": "markdown",
   "metadata": {
    "slideshow": {
     "slide_type": "slide"
    },
    "tags": []
   },
   "source": [
    "# For Thursday: \n",
    "\n",
    "Come to class prepared with three possible ideas for a research question.\n",
    "\n",
    "We will use classtime to start thinking about data for our projects. "
   ]
  },
  {
   "cell_type": "markdown",
   "metadata": {
    "slideshow": {
     "slide_type": "slide"
    },
    "tags": []
   },
   "source": [
    "Citation:  \n",
    "`Robert K. Nelson, LaDale Winling, Richard Marciano, Nathan Connolly, et al., “Mapping Inequality,” American Panorama, ed. Robert K. Nelson and Edward L. Ayers, accessed February 14, 2022, https://dsl.richmond.edu/panorama/redlining/.`"
   ]
  }
 ],
 "metadata": {
  "kernelspec": {
   "display_name": "Python 3 (ipykernel)",
   "language": "python",
   "name": "python3"
  },
  "language_info": {
   "codemirror_mode": {
    "name": "ipython",
    "version": 3
   },
   "file_extension": ".py",
   "mimetype": "text/x-python",
   "name": "python",
   "nbconvert_exporter": "python",
   "pygments_lexer": "ipython3",
   "version": "3.9.9"
  }
 },
 "nbformat": 4,
 "nbformat_minor": 4
}
