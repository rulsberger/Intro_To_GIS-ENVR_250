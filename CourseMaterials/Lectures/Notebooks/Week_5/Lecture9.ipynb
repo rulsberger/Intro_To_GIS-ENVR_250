{
 "cells": [
  {
   "cell_type": "markdown",
   "metadata": {
    "slideshow": {
     "slide_type": "slide"
    },
    "tags": []
   },
   "source": [
    "# Spatial Research Questions\n",
    "\n",
    "## Goals\n",
    "Start thinking about data and visualizations for final project. \n",
    "\n",
    "## Outline \n",
    "    - Research the three topics that you brought to class.\n"
   ]
  },
  {
   "cell_type": "markdown",
   "metadata": {
    "slideshow": {
     "slide_type": "slide"
    },
    "tags": []
   },
   "source": [
    "# Types of Maps:\n",
    "\n",
    "- General Reference\n",
    "- Thematic Maps\n",
    "- Topographic Maps\n",
    "- Cadastre Maps and Plans\n",
    "- Navigation Maps\n",
    "- Series Maps"
   ]
  },
  {
   "cell_type": "markdown",
   "metadata": {
    "slideshow": {
     "slide_type": "subslide"
    },
    "tags": []
   },
   "source": [
    "## Thematic Maps\n",
    "\n",
    "Thematic maps focus on a specific theme. They pull together relevant information of the subject (Covid cases, election results, income distribution, etc.) and represent the data spatially to understand the relationship between these themes and their geographic locations."
   ]
  },
  {
   "cell_type": "markdown",
   "metadata": {
    "slideshow": {
     "slide_type": "slide"
    },
    "tags": []
   },
   "source": [
    "### Examples of Thematic Maps: \n",
    "\n",
    "\n",
    "- Choropleth Map\n",
    "- Bivariate Choropleth Map\n",
    "- Dot Distribution Map\n",
    "- Graduated Symbol Map\n",
    "- Heat Map\n",
    "- Cartogram"
   ]
  },
  {
   "cell_type": "markdown",
   "metadata": {
    "slideshow": {
     "slide_type": "subslide"
    },
    "tags": []
   },
   "source": [
    "### Choropleth Map\n",
    "\n",
    "Uses color to represent statistics proportionally to its location\n",
    "\n",
    "Strengths:   \n",
    "- They clearly display densities (ratios) of quantities using color.  \n",
    "    \n",
    "Weaknesses:   \n",
    "- The visual tends to generalize the data.  \n",
    "- Geographical spaces aren’t uniform so some areas may appear overrepresented.  "
   ]
  },
  {
   "cell_type": "markdown",
   "metadata": {
    "slideshow": {
     "slide_type": "subslide"
    },
    "tags": []
   },
   "source": [
    "### Bivariate Choropleth Map\n",
    "\n",
    "Instead of using one variable to display densities, bivariate choropleth maps (as the name might suggest) use two variables at once.\n",
    "\n",
    "Strengths:  \n",
    "- You can visualize two themes at once.  \n",
    "- They’re aesthetically pleasing.  \n",
    "\n",
    "Weaknesses:   \n",
    "- They can be complex and hard to read.  \n",
    "- It’s hard to have an interactive version of a bivariate map.  "
   ]
  },
  {
   "cell_type": "markdown",
   "metadata": {
    "slideshow": {
     "slide_type": "subslide"
    },
    "tags": []
   },
   "source": [
    "### Dot Distribution Map\n",
    "\n",
    "A thematic map type that uses dots to display the presence or absence of a feature. \n",
    "\n",
    "Strengths:  \n",
    "- The best way to visualize spatial patterns.  \n",
    "- An effective way to represent different categories using colors.    \n",
    "\n",
    "Weaknesses:   \n",
    "- Randomly generated points might differ from one iteration to another.  \n",
    "- If the map doesn’t have borders drawn, we don’t know exactly where these points are located.  "
   ]
  },
  {
   "cell_type": "markdown",
   "metadata": {
    "slideshow": {
     "slide_type": "subslide"
    },
    "tags": []
   },
   "source": [
    "### Graduated Symbol Map\n",
    "\n",
    "The difference between them is that, instead of using color to indicate feature attributes or statistics, the graduated symbol map uses points. We use this type of map when we intend to visualize quantity rather than density. \n",
    "\n",
    "Strengths:    \n",
    "- This does a better job showing raw quantities (rather than densities as we saw with choropleth maps).  \n",
    "- They clearly convey where and how much (quantities).    \n",
    "  \n",
    "Weaknesses:  \n",
    "- They are less exact than distribution maps.  \n",
    "- Overlapping circles can cause confusion (but you can use transparency to help that shortcoming).  "
   ]
  },
  {
   "cell_type": "markdown",
   "metadata": {
    "slideshow": {
     "slide_type": "subslide"
    },
    "tags": []
   },
   "source": [
    "### Heat Maps\n",
    "\n",
    "Display the density of points on a geographic map and can effectively visualize the intensity of the variable through a color scale.\n",
    "\n",
    "Strengths:  \n",
    "- Heat maps make it easy to understand relationships between data points and the overall trend.  \n",
    "\n",
    "Weaknesses:   \n",
    "- If you don’t use the color appropriately, you might affect the visualization’s legibility.  \n",
    "- Color transitions might reflect perceptions that aren’t present in the data.  "
   ]
  },
  {
   "cell_type": "markdown",
   "metadata": {
    "slideshow": {
     "slide_type": "subslide"
    },
    "tags": []
   },
   "source": [
    "### Cartogram\n",
    "\n",
    "A cartogram is a thematic map type in which you rescale the size of an area to be proportional to the feature it represents. Therefore, the rescaled size communicates the feature attributes selected. As a result cartograms necessarily distort area sizes.\n",
    "\n",
    "Strengths:  \n",
    "- They’re good at showing numbers (such as a population).  \n",
    "\n",
    "Weaknesses:    \n",
    "- Since the geographic areas are distorted, areas might not be recognizable.  \n",
    "- They are intended for map-literate audiences only.  "
   ]
  },
  {
   "cell_type": "markdown",
   "metadata": {
    "slideshow": {
     "slide_type": "subslide"
    },
    "tags": []
   },
   "source": [
    "[Carto 80 Examples of Visualizations](https://carto.com/blog/eighty-data-visualizations-examples-using-location-data-maps/)"
   ]
  },
  {
   "cell_type": "markdown",
   "metadata": {
    "slideshow": {
     "slide_type": "subslide"
    },
    "tags": []
   },
   "source": [
    "Other Examples: \n",
    "\n",
    "[My Final Project Undergrad](https://digitalcommons.tacoma.uw.edu/gis_projects/77/)  \n",
    "[ECONorthwest - Cascadia Earthquakes](https://static1.squarespace.com/static/597fb96acd39c34098e8d423/t/5f737f52b5d1a10affa77741/1601404760641/Econw_Cascadia_Earthquake_Economics_Final_Report-DPS_2020-July.pdf)  \n",
    "[ECONorthwest - Outdoor Recreation Scarcity](https://static1.squarespace.com/static/597fb96acd39c34098e8d423/t/5984adeee4fcb5fed2c84ae6/1501867539110/Outdoor+Recreation+Scarcity+and+Abundance+in+Western+Oregon.pdf  )"
   ]
  },
  {
   "cell_type": "markdown",
   "metadata": {
    "slideshow": {
     "slide_type": "slide"
    },
    "tags": []
   },
   "source": [
    "# Lets break up into partners"
   ]
  },
  {
   "cell_type": "markdown",
   "metadata": {
    "slideshow": {
     "slide_type": "slide"
    },
    "tags": []
   },
   "source": [
    "Take a stab about explaining the following:\n",
    "\n",
    "1) What is the unit of your analysis?  \n",
    "2) What is the time frame and frequency of the data?  \n",
    "3) What is the geographic extent of the analysis?  \n",
    "4) Is this a time series analysis?  \n",
    "5) What type of representation might be best to display the units of your analysis?  "
   ]
  },
  {
   "cell_type": "markdown",
   "metadata": {
    "slideshow": {
     "slide_type": "slide"
    },
    "tags": []
   },
   "source": [
    "Once you have started with these, take a look and talk with your partner about the types of data that you would need.\n",
    "Explore what public GIS data is out there for one of each of your projects."
   ]
  },
  {
   "cell_type": "markdown",
   "metadata": {
    "slideshow": {
     "slide_type": "slide"
    },
    "tags": []
   },
   "source": [
    "Places to look for data:\n",
    "\n",
    "[Washington State GIS Data Portal](https://geo.wa.gov/)  \n",
    "[City of Tacoma GIS Portal](https://tacoma.maps.arcgis.com/home/index.html)  \n",
    "[Agency GIS data](https://data-wdfw.opendata.arcgis.com/)  \n",
    "[United States Census](https://www.census.gov/geographies/mapping-files.html)  \n",
    "[Office of Financial Management](https://ofm.wa.gov/washington-data-research/population-demographics/gis-data)"
   ]
  },
  {
   "cell_type": "markdown",
   "metadata": {
    "slideshow": {
     "slide_type": "slide"
    },
    "tags": []
   },
   "source": [
    "How detailed does the data need to be for your map? Or rather, what scale is your analysis going to be at? \n",
    "\n",
    "What type of units you are tracking can determine what scale of data you need.\n",
    "\n",
    "[Natural Earth](https://www.naturalearthdata.com/downloads/)"
   ]
  }
 ],
 "metadata": {
  "kernelspec": {
   "display_name": "Python 3 (ipykernel)",
   "language": "python",
   "name": "python3"
  },
  "language_info": {
   "codemirror_mode": {
    "name": "ipython",
    "version": 3
   },
   "file_extension": ".py",
   "mimetype": "text/x-python",
   "name": "python",
   "nbconvert_exporter": "python",
   "pygments_lexer": "ipython3",
   "version": "3.9.7"
  }
 },
 "nbformat": 4,
 "nbformat_minor": 4
}
