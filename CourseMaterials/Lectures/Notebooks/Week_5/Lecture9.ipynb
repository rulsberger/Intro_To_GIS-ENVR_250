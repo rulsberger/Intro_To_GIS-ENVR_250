{
 "cells": [
  {
   "cell_type": "code",
   "execution_count": null,
   "metadata": {},
   "outputs": [],
   "source": [
    "# Spatial Research Questions\n",
    "\n",
    "## Goals\n",
    "Be able to format a spatial research question.\n",
    "\n",
    "## Outline \n",
    "    - Outline the spatial Research Question covered in next 5 weeks.\n"
   ]
  }
 ],
 "metadata": {
  "language_info": {
   "name": "python"
  },
  "orig_nbformat": 4
 },
 "nbformat": 4,
 "nbformat_minor": 2
}
