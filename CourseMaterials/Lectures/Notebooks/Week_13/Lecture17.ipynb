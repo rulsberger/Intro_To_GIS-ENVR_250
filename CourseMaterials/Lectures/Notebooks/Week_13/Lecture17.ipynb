{
 "cells": [
  {
   "cell_type": "markdown",
   "metadata": {},
   "source": [
    "# Web GIS \n",
    "\n",
    "## Goals \n",
    "Learn about the applications of web gis, making webmaps, and different tools for doing so. \n",
    "\n",
    "## Outline \n",
    "    - Web GIS Tools\n",
    "    - ArcGIS tools\n",
    "        - Services \n",
    "        - AGOL \n",
    "        - Dashboard/Experience Builder \n",
    "    - Other GIS Tools \n",
    "    - How to communicate data efficiently on the web \n",
    "    - Tiling"
   ]
  }
 ],
 "metadata": {
  "language_info": {
   "name": "python"
  },
  "orig_nbformat": 4
 },
 "nbformat": 4,
 "nbformat_minor": 2
}
