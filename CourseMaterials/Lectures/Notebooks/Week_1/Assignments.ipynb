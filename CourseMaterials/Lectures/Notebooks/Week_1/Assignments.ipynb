{
 "cells": [
  {
   "cell_type": "markdown",
   "metadata": {},
   "source": [
    "# Week 1 Assignments\n",
    "\n",
    "## Before class Thursday...\n",
    "- Read 'The mortality rates and the space-time patterns of John Snow’s cholera epidemic map'. \n",
    "- Answer reading questions.\n",
    "- Google search three analysis talked about in the article and write a quick explanaition of the analysis."
   ]
  },
  {
   "cell_type": "markdown",
   "metadata": {},
   "source": [
    "# Week 1 Readings\n",
    "\n",
    "## Required Reading\n",
    "https://www.gislounge.com/what-is-gis/\n",
    "\n",
    "https://ij-healthgeographics.biomedcentral.com/track/pdf/10.1186/s12942-015-0011-y.pdf\n",
    "\n",
    "## Prep for next week: \n",
    "Learning ArcGIS Pro 2: Chapter 2"
   ]
  }
 ],
 "metadata": {
  "language_info": {
   "name": "python"
  },
  "orig_nbformat": 4
 },
 "nbformat": 4,
 "nbformat_minor": 2
}
