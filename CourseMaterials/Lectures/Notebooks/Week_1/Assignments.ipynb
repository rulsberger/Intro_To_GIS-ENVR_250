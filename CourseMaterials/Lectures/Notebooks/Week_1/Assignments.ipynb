{
 "cells": [
  {
   "cell_type": "markdown",
   "metadata": {},
   "source": [
    "# Week 1 Assignments\n",
    "\n",
    "- None"
   ]
  },
  {
   "cell_type": "markdown",
   "metadata": {},
   "source": [
    "# Week 1 Readings\n",
    "\n",
    "https://www.gislounge.com/what-is-gis/\n",
    "http://www.ph.ucla.edu/epi/snow/snowbook.html\n"
   ]
  }
 ],
 "metadata": {
  "language_info": {
   "name": "python"
  },
  "orig_nbformat": 4
 },
 "nbformat": 4,
 "nbformat_minor": 2
}
