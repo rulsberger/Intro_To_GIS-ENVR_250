{
 "cells": [
  {
   "cell_type": "markdown",
   "metadata": {},
   "source": [
    "# Week 1 Assignments\n",
    "\n",
    "## Before class Thursday...\n",
    "- Read 'The mortality rates and the space-time patterns of John Snow’s cholera epidemic map'. \n",
    "- Reply in the Canvas Discussion Board\n",
    "    - Post a simple discussion about what you found interesting in the article!"
   ]
  },
  {
   "cell_type": "markdown",
   "metadata": {},
   "source": [
    "# Week 1 Readings\n",
    "\n",
    "## Required Reading\n",
    "[What Is GIS](https://www.gislounge.com/what-is-gis/)\n",
    "\n",
    "[<em>The mortality rates and the space-time patterns of John Snow’s cholera epidemic map</em>](https://ij-healthgeographics.biomedcentral.com/track/pdf/10.1186/s12942-015-0011-y.pdf)\n",
    "\n",
    "## Prep for next week: \n",
    "Learning ArcGIS Pro 2: Chapter 2"
   ]
  }
 ],
 "metadata": {
  "language_info": {
   "name": "python"
  },
  "orig_nbformat": 4
 },
 "nbformat": 4,
 "nbformat_minor": 2
}
