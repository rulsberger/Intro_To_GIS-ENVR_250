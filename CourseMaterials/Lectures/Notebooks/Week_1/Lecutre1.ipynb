{
 "cells": [
  {
   "cell_type": "markdown",
   "metadata": {},
   "source": [
    "# What is GIS\n",
    "\n",
    "## Goal \n",
    "Understand what we are doing in taking this class.\n",
    "\n",
    "## Outline \n",
    "    - Geographic Information Systems \n",
    "    - Software \n",
    "    - Data\n"
   ]
  },
  {
   "cell_type": "markdown",
   "metadata": {},
   "source": [
    "# GIS \n",
    "\n",
    "**GEOGRAPHIC INFORMATION SYSTEMS**\n",
    "**GEOGRAPHIC INFORMATION SCIENCE**\n",
    "**GEOSPATIAL**\n",
    "\n",
    "What do all of these have in common...\n",
    "\n",
    "Geo -> As in Geography\n",
    "\n",
    "We are getting to the questions of WHERE. "
   ]
  },
  {
   "cell_type": "markdown",
   "metadata": {},
   "source": [
    "## Technically speaking GIS is:\n",
    "\n",
    "> Is is a technological field that incorporates geographical features with tabular data in order to map, analyze, and assess real-world problems. \n",
    "\n",
    "<em> Caitlin Dempsey - GIS Lounge 2021</em>\n"
   ]
  },
  {
   "cell_type": "markdown",
   "metadata": {},
   "source": [
    "## Geographic Features\n",
    "\n",
    "Data reprenting a real-life object in relation to its location.\n",
    "\n",
    "This allows us to ask questions about its relations to other features as well. \n",
    "\n",
    "For example: \n",
    "\n",
    "<em>How far do I have to walk to my class?</em>\n",
    "\n",
    "<em>How much area is the UPS Football field?</em>\n",
    "\n",
    "<em>Where is the nearest bus stop?</em>"
   ]
  },
  {
   "cell_type": "markdown",
   "metadata": {},
   "source": [
    "## We are used to dealing with Geospatial Information\n",
    "\n",
    "How many of you have used Apple Maps, Google Maps, Open Street Maps....\n",
    "\n",
    "We are used to using this information on the daily in our everyday lives.\n",
    "\n",
    "Anybody ever use Yelp to find the best coffee shop within a walking distance, thsi is a spatial question."
   ]
  },
  {
   "cell_type": "markdown",
   "metadata": {},
   "source": [
    "## Yelp Example\n",
    "\n",
    "[Coffee Near Me](https://www.yelp.com/search?find_desc=Coffee%20%26%20Tea&find_loc=1500%20N.%20Warner%20St.%2C%20Tacoma%2C%20WA%2098416)\n",
    "\n",
    "So what information do we have on yelp?"
   ]
  },
  {
   "cell_type": "markdown",
   "metadata": {},
   "source": [
    "## Attribute vs Spatial\n",
    "\n",
    "These to data types together help us understand and ask complex questions."
   ]
  },
  {
   "cell_type": "markdown",
   "metadata": {},
   "source": [
    "## THE BIG QUESTION\n",
    "\n",
    "So whats so special about GIS data?\n",
    "\n",
    "Since it's becoming far more common, far more people are comfortable with working with this spatial information.\n",
    "\n",
    "There are specific careers dedicated to working with geospatial information, but recently, more and more analyst are working with this data routinely. \n",
    "\n",
    "For example, Data Scientist, Data Engineers, etc. "
   ]
  },
  {
   "cell_type": "markdown",
   "metadata": {},
   "source": [
    "## So Whats Your Intent\n",
    "\n",
    "Do you want to be a geospatial guru?\n",
    "\n",
    "Or is this a tool for you to ask questions a specific question?"
   ]
  },
  {
   "cell_type": "markdown",
   "metadata": {},
   "source": [
    "## I'm just here because I like Maps\n",
    "\n",
    "Geographic Information Systems covers what I would suggest as three disciplines:\n",
    "\n",
    "- Data Management\n",
    "- Analysis \n",
    "- Cartography\n",
    "\n",
    "You can dedicate an entire career in each of these discplines, but often we end up using a combination of all three."
   ]
  },
  {
   "cell_type": "markdown",
   "metadata": {},
   "source": [
    "## Data Management\n",
    "\n",
    "As we will discuss in our next lecture, GIS Data has properties about it which require that some additional knowledge about how to interpret it. \n",
    "\n",
    "In Database land, there are different data types, such as, Integer, Text (number of characters), Binary, etc.\n",
    "\n",
    "Spatial Data is one of those types, but it has a complex math problem required to be able to make sense of what that data is. \n",
    "\n",
    "We want to make sure that this is clean and readily accessible so that we know what we are actually talking about, and we can share that data with others."
   ]
  },
  {
   "cell_type": "markdown",
   "metadata": {},
   "source": [
    "## Analysis\n",
    "\n",
    "We also want to be able to use that data so that we can ask those questions that we discussed before. Like, \n",
    "\n",
    "<em>How far do I have to walk to this dumb class?</em>\n",
    "\n",
    "This is a examination of the relationship between two locations, or points. \n",
    "\n",
    "We can ask more and more complex research questions which can result in more complex analysis. \n",
    "\n",
    "For example: \n",
    "\n",
    "<em>What is the best way for me to avoid construction traffic on 1-5 on Friday at 4:30 PM?</em>\n",
    "\n",
    "or...\n",
    "\n",
    "<em>How much area in Tacoma is expected to be unbuildable due to Sea Level Rise given 'Climate Change Scenario X'</em>"
   ]
  },
  {
   "cell_type": "markdown",
   "metadata": {},
   "source": [
    "## Cartography\n",
    "\n",
    "Finally, we want a way to be able to represent location data in a way that can by understood in different mediums. \n",
    "\n",
    "Most of the time, that is in a 2-dimensional plane. \n",
    "\n",
    "A map, whether it be print, or mobile, or something else. \n",
    "\n",
    "What we want to do is present spatial information in a way to communicate the research querstion effectively. \n",
    "\n",
    "There can be aspects of art, graphic design, user experience, all which go into this part of GIS."
   ]
  },
  {
   "cell_type": "markdown",
   "metadata": {},
   "source": [
    "## GIS History \n",
    "\n",
    "Mapping Cholera.\n",
    "\n",
    "<em>On the Mode of Communication of Cholera</em>\n",
    "\n",
    "John Snow 1855\n",
    "\n"
   ]
  }
 ],
 "metadata": {
  "language_info": {
   "name": "python"
  },
  "orig_nbformat": 4
 },
 "nbformat": 4,
 "nbformat_minor": 2
}
