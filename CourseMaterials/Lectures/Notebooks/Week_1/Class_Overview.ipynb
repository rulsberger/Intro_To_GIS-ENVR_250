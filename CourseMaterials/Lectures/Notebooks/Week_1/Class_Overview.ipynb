{
 "cells": [
  {
   "cell_type": "markdown",
   "metadata": {},
   "source": [
    "# Overview of Class\n",
    "\n",
    "## Overview of Syllabus \n",
    "    - Attendance\n",
    "    - Grades\n",
    "    - Expectations\n"
   ]
  },
  {
   "cell_type": "markdown",
   "metadata": {},
   "source": [
    "## What to Expect from this Class\n",
    "\n",
    "No hand holding. \n",
    "\n",
    "In the tech industry, you may have heard of the technical interview, where a company like Google expects you to answer complicated technical questions on the spot. \n",
    "\n",
    "THIS IS NOT THAT CLASS! \n",
    "\n",
    "As seen in 'this guys LinkedIn post', even the most senior of technical developers still Google basic operations in their everyday job. \n",
    "\n",
    "It's not my goal to teach you every button to push, its to give you the basic knowledge enough so that you can solve your own problems. "
   ]
  },
  {
   "cell_type": "markdown",
   "metadata": {},
   "source": [
    "## Whats Covered...\n",
    "\n",
    "This is not a comprehensive GIS class which will cover all the types of analysis that can be done in GIS. Actually, five of the lessons in this class have an entire semester of material dedicated to its content. The goal is to familiarize you all with geographic data enough so that in the workplace you will know the basics of data management, and be able to do basic operations in a entry level position. \n",
    "\n",
    "Again, my hope is not to teach you everything, but to give you the tools that you can teach yourself the next steps. \n",
    "\n",
    "Keep on reading, keep on learning, and keep on doing. "
   ]
  }
 ],
 "metadata": {
  "language_info": {
   "name": "python"
  },
  "orig_nbformat": 4
 },
 "nbformat": 4,
 "nbformat_minor": 2
}
