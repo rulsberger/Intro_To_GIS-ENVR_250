{
 "cells": [
  {
   "cell_type": "markdown",
   "metadata": {
    "slideshow": {
     "slide_type": "slide"
    },
    "tags": []
   },
   "source": [
    "# Overview of Class\n",
    "\n",
    "## Overview of Syllabus \n",
    "    - Expectations\n",
    "    - Grades\n",
    "    - Attendance\n",
    "    - Using the Computer Lab\n"
   ]
  },
  {
   "cell_type": "markdown",
   "metadata": {
    "slideshow": {
     "slide_type": "slide"
    },
    "tags": []
   },
   "source": [
    "## What to Expect from this Class\n",
    "\n",
    "No hand holding. \n",
    "\n",
    "In the tech industry you may have heard of the technical interview - where a company like Google expects you to answer complicated technical questions on the spot.  "
   ]
  },
  {
   "cell_type": "markdown",
   "metadata": {
    "slideshow": {
     "slide_type": "subslide"
    },
    "tags": []
   },
   "source": [
    "### THIS IS NOT THAT CLASS! \n",
    "\n",
    "Even the most senior of technical developers still Google basic operations in their everyday job.  \n",
    "\n",
    "It's not my goal to teach you every button to push.  \n",
    "My job is to give you basic GIS knowledge, enough so you can solve your own problems."
   ]
  },
  {
   "cell_type": "markdown",
   "metadata": {
    "slideshow": {
     "slide_type": "subslide"
    },
    "tags": []
   },
   "source": [
    "Again, my hope is not to teach you everything but to give you the tools needed to teach yourself the next steps. \n",
    "\n",
    "Keep on reading, keep on learning, and keep on doing. "
   ]
  },
  {
   "cell_type": "markdown",
   "metadata": {
    "slideshow": {
     "slide_type": "slide"
    },
    "tags": []
   },
   "source": [
    "## Whats Covered...\n",
    "\n",
    "This is not a comprehensive GIS class which will cover all the types of analysis that can be done in GIS."
   ]
  },
  {
   "cell_type": "markdown",
   "metadata": {
    "slideshow": {
     "slide_type": "subslide"
    },
    "tags": []
   },
   "source": [
    "### Syllabus and Schedule\n",
    "\n",
    "[Syllabus](https://github.com/rulsberger/Intro_To_GIS-ENVR_250/blob/main/CourseMaterials/Lectures/Documents/Syllabus.pdf)  \n",
    "[Class Schedule](https://github.com/rulsberger/Intro_To_GIS-ENVR_250/blob/main/CourseMaterials/Lectures/README.md)"
   ]
  },
  {
   "cell_type": "markdown",
   "metadata": {
    "slideshow": {
     "slide_type": "subslide"
    },
    "tags": []
   },
   "source": [
    "### Office Hours\n",
    "\n",
    "I anticipate being available to students pretty often on campus.  \n",
    "\n",
    "I supposedly have a desk available to me in the EPDM offices, and I also plan on working from the lab too.  \n",
    "\n",
    "\n",
    "So, what hours are good for you guys?\n"
   ]
  },
  {
   "cell_type": "markdown",
   "metadata": {
    "slideshow": {
     "slide_type": "slide"
    },
    "tags": []
   },
   "source": [
    "### Overview\n",
    "\n",
    "- 5 weeks of Lecture on Data Management\n",
    "    - Material covered on Midterm\n",
    "- 6 Labs\n",
    "- 2 Additional Lectures \n",
    "- Two Weeks of Lightning Talks  \n"
   ]
  },
  {
   "cell_type": "markdown",
   "metadata": {
    "slideshow": {
     "slide_type": "slide"
    },
    "tags": []
   },
   "source": [
    "## Final Project\n",
    "\n",
    "- Final Presentations \n",
    "- Final Paper \n",
    "- Final Map "
   ]
  },
  {
   "cell_type": "markdown",
   "metadata": {
    "slideshow": {
     "slide_type": "subslide"
    },
    "tags": []
   },
   "source": [
    "This means that you will have to be completing assignments while working on your final project!!"
   ]
  },
  {
   "cell_type": "markdown",
   "metadata": {
    "slideshow": {
     "slide_type": "subslide"
    },
    "tags": []
   },
   "source": [
    "This is not a class to procrastinate in.\n",
    "\n",
    "GIS is renouned for crashing unexpectedly... \n",
    "- unknown errors\n",
    "- corrupted data\n",
    "- and more!!!"
   ]
  },
  {
   "cell_type": "markdown",
   "metadata": {
    "slideshow": {
     "slide_type": "subslide"
    },
    "tags": []
   },
   "source": [
    "# ¯\\\\_(ツ)_/¯"
   ]
  },
  {
   "cell_type": "markdown",
   "metadata": {
    "slideshow": {
     "slide_type": "slide"
    },
    "tags": []
   },
   "source": [
    "## Using the textbook\n",
    "\n",
    "The textbook, <em>Learning ArcGIS Pro 2</em> is going to be your tool to be able to navigate and learn the terminology within ESRI's ArcGIS Pro.\n",
    "\n"
   ]
  },
  {
   "cell_type": "markdown",
   "metadata": {
    "slideshow": {
     "slide_type": "subslide"
    },
    "tags": []
   },
   "source": [
    "Labs will contain general direction for what types of analyis should be required each week. Use the examples from this book to apply the same workflow in your own projects. "
   ]
  },
  {
   "cell_type": "markdown",
   "metadata": {
    "slideshow": {
     "slide_type": "subslide"
    },
    "tags": []
   },
   "source": [
    "This book will be a great resource if you ever pick up GIS in your career and someone says to you, \"You know how to make a map, right?\""
   ]
  },
  {
   "cell_type": "markdown",
   "metadata": {
    "slideshow": {
     "slide_type": "slide"
    },
    "tags": []
   },
   "source": [
    "## Grading\n",
    "\n",
    "| **Assignment** | **Total Points** | **Percent of Grade** |\n",
    "|---|---|---|\n",
    "| **Labs** | **300** | **30%** |\n",
    "| Lab 1  | 50 |  |\n",
    "| Lab 2 | 50 |  |\n",
    "| Lab 3 | 50 |  |\n",
    "| Lab 4 | 50 |  |\n",
    "| Lab 5 | 50 |  |\n",
    "| Lab 6 | 50 |  |\n",
    "| **Midterm** | **150** | **15%** |\n",
    "| **Final Project** | **400** | **40%** |\n",
    "| Peer Evaluation | 50 |  |\n",
    "| Lightning Talk | 50 |  |\n",
    "| Final Paper | 100 |  |\n",
    "| Final Map | 100 |  |\n",
    "| Final Data/Anaylysis/Organization | 100 |  |\n",
    "| **Participation** | **150** | **15%** |\n",
    "| **Total** | **1000** | **100%**|"
   ]
  },
  {
   "cell_type": "markdown",
   "metadata": {
    "slideshow": {
     "slide_type": "slide"
    },
    "tags": []
   },
   "source": [
    "### Attendance\n",
    "\n",
    "Lectures are guided material and not all content is listed in the slides.  \n",
    "\n",
    "If you miss class you will miss out on content and exercises which will help you complete homework!!!"
   ]
  },
  {
   "cell_type": "markdown",
   "metadata": {
    "slideshow": {
     "slide_type": "slide"
    },
    "tags": []
   },
   "source": [
    "## Tools\n",
    "\n",
    "### Github\n",
    "All class materials are developed and stored on my Github Account. \n",
    "\n",
    "[Intro to GIS Github](https://github.com/rulsberger/Intro_To_GIS-ENVR_250) "
   ]
  },
  {
   "cell_type": "markdown",
   "metadata": {
    "slideshow": {
     "slide_type": "subslide"
    },
    "tags": []
   },
   "source": [
    "I anticipate course files being hosted on Github, and I will explain how to download them when they are posted."
   ]
  },
  {
   "cell_type": "markdown",
   "metadata": {
    "slideshow": {
     "slide_type": "subslide"
    },
    "tags": []
   },
   "source": [
    "You don't need to know how to use git for this class.  \n",
    "\n",
    "but... it could be really helpful in the future."
   ]
  },
  {
   "cell_type": "markdown",
   "metadata": {
    "slideshow": {
     "slide_type": "slide"
    },
    "tags": []
   },
   "source": [
    "### Canvas\n",
    "\n",
    "All the materials that are posted on Github and shared in class will also be posted on Canvas.  \n",
    "If you have any problem finding anything, or any suggestions for where things should be,  \n",
    "please let me know."
   ]
  },
  {
   "cell_type": "markdown",
   "metadata": {
    "slideshow": {
     "slide_type": "slide"
    },
    "tags": []
   },
   "source": [
    "## GIS Software\n",
    "\n",
    "Labs will be created to support ESRI ArcGIS Software. \n",
    "\n",
    "However, there is other software available, namely QGIS, which could also be used to do assignments."
   ]
  },
  {
   "cell_type": "markdown",
   "metadata": {
    "slideshow": {
     "slide_type": "subslide"
    },
    "tags": []
   },
   "source": [
    "### Pros/Cons\n",
    "\n",
    "ArcGIS:  \n",
    "    - ArcGIS will only be able to be used in the computer lab  \n",
    "    - It is what the book covers  \n",
    "    - Most used software in industry  \n",
    "    - Only used on Windows Machines  \n",
    "\n",
    "QGIS:  \n",
    "    - Can be installed on any machine  \n",
    "    - Growing support and use in industry   \n",
    "    - Its Free!!!  "
   ]
  },
  {
   "cell_type": "markdown",
   "metadata": {
    "slideshow": {
     "slide_type": "slide"
    },
    "tags": []
   },
   "source": [
    "### Computer Lab\n",
    "\n",
    "A couple things about using the computers for ArcGIS:\n",
    "- Try to use the same computer\n",
    "- Configuring ArcGIS \n",
    "    - Follow up hopefully next week\n",
    "- BACKUP YOUR FILES!!!\n",
    "- Save often"
   ]
  },
  {
   "cell_type": "markdown",
   "metadata": {
    "jp-MarkdownHeadingCollapsed": true,
    "slideshow": {
     "slide_type": "slide"
    },
    "tags": []
   },
   "source": [
    "# Questions?"
   ]
  },
  {
   "cell_type": "markdown",
   "metadata": {
    "slideshow": {
     "slide_type": "slide"
    },
    "tags": []
   },
   "source": [
    "# Readings, Due by Thursday\n",
    "\n",
    "1. [What Is GIS](https://www.gislounge.com/what-is-gis/)\n",
    "2. [The mortality rates and the space-time\n",
    "patterns of John Snow’s cholera epidemic map](https://ij-healthgeographics.biomedcentral.com/track/pdf/10.1186/s12942-015-0011-y.pdf) \n"
   ]
  }
 ],
 "metadata": {
  "kernelspec": {
   "display_name": "Python 3 (ipykernel)",
   "language": "python",
   "name": "python3"
  },
  "language_info": {
   "codemirror_mode": {
    "name": "ipython",
    "version": 3
   },
   "file_extension": ".py",
   "mimetype": "text/x-python",
   "name": "python",
   "nbconvert_exporter": "python",
   "pygments_lexer": "ipython3",
   "version": "3.9.7"
  }
 },
 "nbformat": 4,
 "nbformat_minor": 4
}
