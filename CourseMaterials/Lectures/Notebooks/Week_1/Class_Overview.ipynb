{
 "cells": [
  {
   "cell_type": "markdown",
   "metadata": {},
   "source": [
    "# Overview of Class\n",
    "\n",
    "## Overview of Syllabus \n",
    "    - Attendance\n",
    "    - Grades\n",
    "    - Expectations\n"
   ]
  },
  {
   "cell_type": "markdown",
   "metadata": {},
   "source": [
    "## What to Expect from this Class\n",
    "\n",
    "No hand holding. \n",
    "\n",
    "In the tech industry, you may have heard of the technical interview, where a company like Google expects you to answer complicated technical questions on the spot. \n",
    "\n",
    "THIS IS NOT THAT CLASS! \n",
    "\n",
    "As seen in 'this guys LinkedIn post', even the most senior of technical developers still Google basic operations in their everyday job. \n",
    "\n",
    "It's not my goal to teach you every button to push, its to give you the basic knowledge enough so that you can solve your own problems. "
   ]
  },
  {
   "cell_type": "markdown",
   "metadata": {},
   "source": [
    "## Whats Covered...\n",
    "\n",
    "This is not a comprehensive GIS class which will cover all the types of analysis that can be done in GIS. Actually, five of the lessons in this class have an entire semester of material dedicated to its content. The goal is to familiarize you all with geographic data enough so that in the workplace you will know the basics of data management, and be able to do basic operations in a entry level position. \n",
    "\n",
    "Again, my hope is not to teach you everything, but to give you the tools that you can teach yourself the next steps. \n",
    "\n",
    "Keep on reading, keep on learning, and keep on doing. "
   ]
  },
  {
   "cell_type": "markdown",
   "metadata": {},
   "source": [
    "## Using the textbook\n",
    "\n",
    "The textbook, <em>Learning ArcGIS Pro 2</em> is going to be your tool to be able to navigate and learn the terminology within ESRI's ArcGIS Pro. Labs will contain general direction for what types of analyis should be required each week. Use the examples from this book to apply the same workflow in your own projects. \n",
    "\n",
    "This book will be a great resource if you ever pick up GIS in your career after your done with class and college in the workplace, and someone says to you, 'You know how to make a map right?' \n",
    "\n"
   ]
  },
  {
   "cell_type": "markdown",
   "metadata": {},
   "source": [
    "# Readings, Due by Thursday\n",
    "\n",
    "1. https://www.gislounge.com/what-is-gis/\n",
    "2. https://ij-healthgeographics.biomedcentral.com/track/pdf/10.1186/s12942-015-0011-y.pdf\n",
    "\n"
   ]
  }
 ],
 "metadata": {
  "language_info": {
   "name": "python"
  },
  "orig_nbformat": 4
 },
 "nbformat": 4,
 "nbformat_minor": 2
}
