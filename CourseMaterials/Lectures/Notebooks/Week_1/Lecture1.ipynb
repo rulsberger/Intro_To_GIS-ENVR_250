{
 "cells": [
  {
   "cell_type": "markdown",
   "metadata": {
    "slideshow": {
     "slide_type": "slide"
    },
    "tags": []
   },
   "source": [
    "# What is GIS\n",
    "\n",
    "## Goal \n",
    "Understand what we are learning in taking this class.\n",
    "\n",
    "## Outline \n",
    "    - Geographic Information Systems \n",
    "        - What is it?\n",
    "        - How do we use it?\n",
    "    - GIS History\n",
    "    - GIS Software\n",
    "    - Applications\n",
    "    - GIS Careers\n",
    "    - Whats the future of GIS?\n"
   ]
  },
  {
   "cell_type": "markdown",
   "metadata": {
    "slideshow": {
     "slide_type": "slide"
    },
    "tags": []
   },
   "source": [
    "# GIS \n",
    "\n",
    "**GEOGRAPHIC INFORMATION SYSTEMS**  \n",
    "**GEOGRAPHIC INFORMATION SCIENCE**  \n",
    "**GEOSPATIAL**  \n",
    "\n",
    "What do all of these have in common?"
   ]
  },
  {
   "cell_type": "markdown",
   "metadata": {
    "slideshow": {
     "slide_type": "subslide"
    },
    "tags": []
   },
   "source": [
    "Geo -> As in Geography\n",
    "\n",
    "We are getting to the questions of WHERE. "
   ]
  },
  {
   "cell_type": "markdown",
   "metadata": {
    "slideshow": {
     "slide_type": "slide"
    },
    "tags": []
   },
   "source": [
    "## Technically speaking GIS is:\n",
    "\n",
    "> a technological field that incorporates geographical features with tabular data in order to map, analyze, and assess real-world problems. \n",
    "\n",
    "<em> Caitlin Dempsey - GIS Lounge 2021</em>\n"
   ]
  },
  {
   "cell_type": "markdown",
   "metadata": {
    "slideshow": {
     "slide_type": "slide"
    },
    "tags": []
   },
   "source": [
    "## Geographic Features\n",
    "\n",
    "Data reprenting a real-life object in relation to its location.\n",
    "\n",
    "This allows us to ask questions about its relations to other features as well. "
   ]
  },
  {
   "cell_type": "markdown",
   "metadata": {
    "slideshow": {
     "slide_type": "subslide"
    },
    "tags": []
   },
   "source": [
    "For example: \n",
    "\n",
    "<em>How far do I have to walk to my class?</em>\n",
    "\n",
    "<em>How much area is the UPS Football field?</em>\n",
    "\n",
    "<em>Where is the nearest bus stop?</em>"
   ]
  },
  {
   "cell_type": "markdown",
   "metadata": {
    "slideshow": {
     "slide_type": "slide"
    },
    "tags": []
   },
   "source": [
    "## We are used to dealing with Geospatial Information\n",
    "\n",
    "How many of you have used Apple Maps, Google Maps, Open Street Maps....\n",
    "\n",
    "We are used to using this information on the daily."
   ]
  },
  {
   "cell_type": "markdown",
   "metadata": {
    "slideshow": {
     "slide_type": "subslide"
    },
    "tags": []
   },
   "source": [
    "Anybody ever use Yelp to find the best coffee shop within a walking distance?  \n",
    "\n",
    "This a spatial question."
   ]
  },
  {
   "cell_type": "markdown",
   "metadata": {
    "slideshow": {
     "slide_type": "subslide"
    },
    "tags": []
   },
   "source": [
    "[Coffee Near Me](https://www.yelp.com/search?find_desc=Coffee%20%26%20Tea&find_loc=1500%20N.%20Warner%20St.%2C%20Tacoma%2C%20WA%2098416)\n",
    "\n",
    "So what information do we have on yelp?"
   ]
  },
  {
   "cell_type": "markdown",
   "metadata": {
    "slideshow": {
     "slide_type": "slide"
    },
    "tags": []
   },
   "source": [
    "## THE BIG QUESTION\n",
    "\n",
    "So what is so special about GIS data? "
   ]
  },
  {
   "cell_type": "markdown",
   "metadata": {
    "slideshow": {
     "slide_type": "subslide"
    },
    "tags": []
   },
   "source": [
    "Since it's becoming far more common, far more people are comfortable with working with this spatial information."
   ]
  },
  {
   "cell_type": "markdown",
   "metadata": {
    "slideshow": {
     "slide_type": "subslide"
    },
    "tags": []
   },
   "source": [
    "There are specific careers dedicated to working with geospatial information, but recently, more and more analyst are working with this data routinely. \n",
    "\n",
    "For example:\n",
    "- Data Scientist\n",
    "- Data Engineer"
   ]
  },
  {
   "cell_type": "markdown",
   "metadata": {
    "slideshow": {
     "slide_type": "subslide"
    },
    "tags": []
   },
   "source": [
    "## So What's Your Intent\n",
    "\n",
    "Do you want to be a geospatial guru?\n",
    "\n",
    "Or is this a tool for you to ask questions a specific question?"
   ]
  },
  {
   "cell_type": "markdown",
   "metadata": {
    "slideshow": {
     "slide_type": "slide"
    },
    "tags": []
   },
   "source": [
    "## I'm Just Here Because I Like Maps"
   ]
  },
  {
   "cell_type": "markdown",
   "metadata": {
    "slideshow": {
     "slide_type": "subslide"
    },
    "tags": []
   },
   "source": [
    "Geographic Information Systems covers what I would suggest as three disciplines:\n",
    "\n",
    "- Data Management\n",
    "- Analysis \n",
    "- Cartography\n",
    "\n",
    "You can dedicate an entire career in each of these discplines, but often we end up using a combination of all three."
   ]
  },
  {
   "cell_type": "markdown",
   "metadata": {
    "slideshow": {
     "slide_type": "slide"
    },
    "tags": []
   },
   "source": [
    "## Data Management\n",
    "\n",
    "As we will discuss in our next lecture, GIS Data has properties about it which require some additional knowledge about how to interpret it. "
   ]
  },
  {
   "cell_type": "markdown",
   "metadata": {
    "slideshow": {
     "slide_type": "subslide"
    },
    "tags": []
   },
   "source": [
    "In database land there are different data types such as Integer, Text (number of characters), Binary, etc."
   ]
  },
  {
   "cell_type": "markdown",
   "metadata": {
    "slideshow": {
     "slide_type": "subslide"
    },
    "tags": []
   },
   "source": [
    "Spatial Data is one of those types, but it takes a complex math problem required to make sense of what that data is. "
   ]
  },
  {
   "cell_type": "markdown",
   "metadata": {
    "slideshow": {
     "slide_type": "subslide"
    },
    "tags": []
   },
   "source": [
    "We want to make sure this is clean and readily accessible so that we know what we are actually talking about and we can share that data with others."
   ]
  },
  {
   "cell_type": "code",
   "execution_count": null,
   "metadata": {},
   "outputs": [],
   "source": []
  },
  {
   "cell_type": "markdown",
   "metadata": {
    "slideshow": {
     "slide_type": "slide"
    },
    "tags": []
   },
   "source": [
    "## Analysis\n",
    "\n",
    "We also want to use that data so we can ask those questions that we discussed before. Like, \n",
    "\n",
    "<em>How far do I have to walk to this dumb class?</em>\n",
    "\n",
    "This is an examination of the relationship between two locations, or points. "
   ]
  },
  {
   "cell_type": "markdown",
   "metadata": {
    "slideshow": {
     "slide_type": "subslide"
    },
    "tags": []
   },
   "source": [
    "We can ask more and more complex research questions which can result in more complex analysis. "
   ]
  },
  {
   "cell_type": "markdown",
   "metadata": {
    "slideshow": {
     "slide_type": "subslide"
    },
    "tags": []
   },
   "source": [
    "<em>What is the best way for me to avoid construction traffic on 1-5 on Friday at 4:30 PM?</em>"
   ]
  },
  {
   "cell_type": "markdown",
   "metadata": {
    "slideshow": {
     "slide_type": "subslide"
    },
    "tags": []
   },
   "source": [
    "<em>How much area in Tacoma is expected to be unbuildable due to Sea Level Rise given 'Climate Change Scenario X'</em>"
   ]
  },
  {
   "cell_type": "markdown",
   "metadata": {
    "slideshow": {
     "slide_type": "slide"
    },
    "tags": []
   },
   "source": [
    "## Cartography\n",
    "\n",
    "Finally, we want a way to be able to represent location data in a way that can by understood in different mediums. \n",
    "\n"
   ]
  },
  {
   "cell_type": "markdown",
   "metadata": {
    "slideshow": {
     "slide_type": "subslide"
    },
    "tags": []
   },
   "source": [
    "Most of the time, that is in a 2-dimensional plane. \n",
    "\n",
    "A map, whether it be print, or mobile, or something else. "
   ]
  },
  {
   "cell_type": "markdown",
   "metadata": {
    "slideshow": {
     "slide_type": "subslide"
    },
    "tags": []
   },
   "source": [
    "What we want to do is present spatial information in a way to communicate the research querstion effectively. "
   ]
  },
  {
   "cell_type": "markdown",
   "metadata": {
    "slideshow": {
     "slide_type": "subslide"
    },
    "tags": []
   },
   "source": [
    "There can be aspects of art, graphic design, user experience, all which go into this part of GIS."
   ]
  },
  {
   "cell_type": "markdown",
   "metadata": {
    "slideshow": {
     "slide_type": "slide"
    },
    "tags": []
   },
   "source": [
    "## GIS History \n",
    "\n",
    "[Fun Read](https://www.smithsonianmag.com/innovation/brief-history-maps-180963685/)\n"
   ]
  },
  {
   "cell_type": "markdown",
   "metadata": {
    "slideshow": {
     "slide_type": "subslide"
    },
    "tags": []
   },
   "source": [
    "## Madaba Map\n",
    "\n",
    "<img src=\"https://upload.wikimedia.org/wikipedia/commons/thumb/8/8f/Madaba_Map_reproduction.jpg/2560px-Madaba_Map_reproduction.jpg\" height=\"200\">  \n",
    "\n",
    "[wiki](https://en.wikipedia.org/wiki/Madaba_Map)"
   ]
  },
  {
   "cell_type": "markdown",
   "metadata": {
    "slideshow": {
     "slide_type": "subslide"
    },
    "tags": []
   },
   "source": [
    "### Claudius Ptolemy\n",
    "\n",
    "\n",
    "<img src=\"https://upload.wikimedia.org/wikipedia/commons/1/16/Ptolemy_16century.jpg\" height=\"200\">  \n",
    "\n",
    "[wiki](https://en.wikipedia.org/wiki/Ptolemy)"
   ]
  },
  {
   "cell_type": "markdown",
   "metadata": {
    "slideshow": {
     "slide_type": "subslide"
    },
    "tags": []
   },
   "source": [
    "Its been used to coordinate the movements of troops and goods and to document the extent of empires. \n",
    "\n",
    "Even <em>fake maps</em> have been made and dispersed during WWII to be able to help win the war!  \n",
    "\n",
    "Mark Monmonier  \n",
    "[How to Lie With Maps](https://www.amazon.com/How-Maps-Third-Mark-Monmonier/dp/022643592X/ref=sr_1_1?gclid=Cj0KCQiAuP-OBhDqARIsAD4XHpeVOVb9IOziscTjT3gu-3XLzwdfjJbIfU1nZwausreFEbO_fHGQtEQaAiFWEALw_wcB&hvadid=241898896030&hvdev=c&hvlocphy=9033485&hvnetw=g&hvqmt=e&hvrand=5363835469938324950&hvtargid=kwd-90175561&hydadcr=8480_10382967&keywords=how+to+lie+with+maps&qid=1642145515&sr=8-1)"
   ]
  },
  {
   "cell_type": "markdown",
   "metadata": {
    "slideshow": {
     "slide_type": "subslide"
    },
    "tags": []
   },
   "source": [
    "However, our first use of maps for analysis was used in the Mapping of Cholera."
   ]
  },
  {
   "cell_type": "markdown",
   "metadata": {
    "slideshow": {
     "slide_type": "subslide"
    },
    "tags": []
   },
   "source": [
    "<em>On the Mode of Communication of Cholera</em>  \n",
    "John Snow 1855  \n",
    "\n",
    "\n",
    "<img src=\"https://upload.wikimedia.org/wikipedia/commons/c/cc/John_Snow.jpg\" height=\"200\">  \n",
    "\n",
    "[wiki](https://en.wikipedia.org/wiki/John_Snow)<sup>2</sup>"
   ]
  },
  {
   "cell_type": "markdown",
   "metadata": {
    "slideshow": {
     "slide_type": "slide"
    },
    "tags": []
   },
   "source": [
    "## GIS As We Know It"
   ]
  },
  {
   "cell_type": "markdown",
   "metadata": {
    "slideshow": {
     "slide_type": "subslide"
    },
    "tags": []
   },
   "source": [
    "### 1960s\n",
    "\n",
    "[National Center for Geographic Information and Analysis](https://en.wikipedia.org/wiki/National_Center_for_Geographic_Information_and_Analysis)"
   ]
  },
  {
   "cell_type": "markdown",
   "metadata": {
    "slideshow": {
     "slide_type": "subslide"
    },
    "tags": []
   },
   "source": [
    "### Michael Goodchild\n",
    "<div>\n",
    "<img src=\"https://upload.wikimedia.org/wikipedia/commons/c/c6/Michael_Frank_Goodchild_-_2017.jpg\" height=\"200\"> \n",
    "</div>\n",
    "\n",
    "[wiki](https://en.wikipedia.org/wiki/Michael_Frank_Goodchild)"
   ]
  },
  {
   "cell_type": "markdown",
   "metadata": {
    "slideshow": {
     "slide_type": "subslide"
    },
    "tags": []
   },
   "source": [
    "### Roger Tomlinson’s \n",
    "\n",
    "<img src=\"https://upload.wikimedia.org/wikipedia/en/d/d2/Roger_Tomlinson_-_Father_of_GIS.jpg\" height=\"200\"> \n",
    "\n",
    "[wiki](https://en.wikipedia.org/wiki/Roger_Tomlinson)"
   ]
  },
  {
   "cell_type": "markdown",
   "metadata": {
    "slideshow": {
     "slide_type": "subslide"
    },
    "tags": []
   },
   "source": [
    "- Made first computerized GIS System\n",
    "- Gave GIS its name!"
   ]
  },
  {
   "cell_type": "markdown",
   "metadata": {
    "slideshow": {
     "slide_type": "subslide"
    },
    "tags": []
   },
   "source": [
    "### Howard Fisher\n",
    "\n",
    "\n",
    "![Harvard Laboratory for Computer Graphics and Spatial Analysis](data:image/jpeg;base64,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)  \n",
    "\n",
    "[wiki](https://en.wikipedia.org/wiki/Howard_T._Fisher)\n",
    "\n",
    "[Harvard Laboratory for Computer Graphics and Spatial Analysis](https://en.wikipedia.org/wiki/Harvard_Laboratory_for_Computer_Graphics_and_Spatial_Analysis)"
   ]
  },
  {
   "cell_type": "markdown",
   "metadata": {
    "slideshow": {
     "slide_type": "subslide"
    },
    "tags": []
   },
   "source": [
    "### Jack Dangermond\n",
    "\n",
    "<img src=\"https://upload.wikimedia.org/wikipedia/commons/thumb/b/b9/Jack_Dangermond_in_2012.jpg/440px-Jack_Dangermond_in_2012.jpg\" height=\"200\"> \n",
    "\n",
    "[wiki](https://en.wikipedia.org/wiki/Jack_Dangermond)"
   ]
  },
  {
   "cell_type": "markdown",
   "metadata": {
    "slideshow": {
     "slide_type": "subslide"
    },
    "tags": []
   },
   "source": [
    "### Environmental Systems Research Institute, Inc. (Esri)\n",
    "\n",
    "- ARC/INFO (1981)\n",
    "    - Command Line Only!!!\n",
    "    - Before my time"
   ]
  },
  {
   "cell_type": "markdown",
   "metadata": {
    "slideshow": {
     "slide_type": "slide"
    },
    "tags": []
   },
   "source": [
    "## GIS Now"
   ]
  },
  {
   "cell_type": "markdown",
   "metadata": {
    "slideshow": {
     "slide_type": "subslide"
    },
    "tags": []
   },
   "source": [
    "### GIS On The Web\n",
    "\n",
    "- Google Maps\n",
    "- Inegrated into Applications"
   ]
  },
  {
   "cell_type": "markdown",
   "metadata": {
    "jp-MarkdownHeadingCollapsed": true,
    "slideshow": {
     "slide_type": "subslide"
    },
    "tags": []
   },
   "source": [
    "### Used Everyday\n",
    "\n",
    "- Data Collection at massive scale\n",
    "- Big Data\n",
    "- Still the old data"
   ]
  },
  {
   "cell_type": "markdown",
   "metadata": {
    "slideshow": {
     "slide_type": "subslide"
    },
    "tags": []
   },
   "source": [
    "### Mobile Data Collection\n",
    "\n",
    "[Uber Movement](https://movement.uber.com/explore/seattle/travel-times/)"
   ]
  },
  {
   "cell_type": "markdown",
   "metadata": {
    "slideshow": {
     "slide_type": "slide"
    },
    "tags": []
   },
   "source": [
    "## GIS Tools"
   ]
  },
  {
   "cell_type": "markdown",
   "metadata": {
    "slideshow": {
     "slide_type": "subslide"
    },
    "tags": []
   },
   "source": [
    "### Software (Paid)\n",
    "\n",
    "- ESRI\n",
    "    - ArcGIS Desktop\n",
    "    - ArcGIS Pro\n",
    "    - ArcGIS JS\n",
    "    - Add-Ons\n",
    "        - GeoCortex\n",
    "        - a lot more than i know...\n",
    "- ERDAS\n"
   ]
  },
  {
   "cell_type": "markdown",
   "metadata": {
    "slideshow": {
     "slide_type": "subslide"
    },
    "tags": []
   },
   "source": [
    "### Software (FOSS)\n",
    "\n",
    "- QGIS \n",
    "- Google Earth\n",
    "- kepler.gl"
   ]
  },
  {
   "cell_type": "markdown",
   "metadata": {
    "slideshow": {
     "slide_type": "subslide"
    },
    "tags": []
   },
   "source": [
    "### Programatic Interfaces\n",
    "\n",
    "- Python \n",
    "    - GDAL\n",
    "    - GeoPandas\n",
    "    - Rasterio\n",
    "- Javascript\n",
    "    - Mapbox\n",
    "    - Leaflet\n",
    "- Spatial SQL \n",
    "    - PostGRESQL / POSTGIS\n",
    "- Cloud Computing \n",
    "    - Big Query \n",
    "\n"
   ]
  },
  {
   "cell_type": "markdown",
   "metadata": {
    "slideshow": {
     "slide_type": "slide"
    },
    "tags": []
   },
   "source": [
    "## Applications and Uses\n",
    "\n",
    "- Urban Planning\n",
    "- Wildlife Management\n",
    "- Transportation Planning \n",
    "- Economics\n",
    "- Climate Change \n",
    "- You name it..."
   ]
  },
  {
   "cell_type": "markdown",
   "metadata": {
    "slideshow": {
     "slide_type": "slide"
    },
    "tags": []
   },
   "source": [
    "## GIS Careers\n",
    "\n",
    "- Field Technician\n",
    "- GIS Specialist\n",
    "- GIS Analyst \n",
    "- GIS Developer\n",
    "- GIS Manager\n",
    "- Spatial Data Administrator\n",
    "- Cartographer \n",
    "- Data Scientist \n",
    "- Machine Learning Specialist"
   ]
  },
  {
   "cell_type": "markdown",
   "metadata": {
    "slideshow": {
     "slide_type": "slide"
    },
    "tags": []
   },
   "source": [
    "## GIS of the Future"
   ]
  },
  {
   "cell_type": "markdown",
   "metadata": {
    "slideshow": {
     "slide_type": "subslide"
    },
    "tags": []
   },
   "source": [
    "### Integration with Internet of Things\n",
    "\n",
    "- Geofencing \n",
    "- Live interaction with data\n"
   ]
  },
  {
   "cell_type": "markdown",
   "metadata": {
    "slideshow": {
     "slide_type": "subslide"
    },
    "tags": []
   },
   "source": [
    "### Remote Data Collection\n",
    "\n",
    "- Drones!!! \n",
    "- High Resolution Satellite Imagery"
   ]
  },
  {
   "cell_type": "markdown",
   "metadata": {
    "slideshow": {
     "slide_type": "subslide"
    },
    "tags": []
   },
   "source": [
    "### Application Development\n",
    "\n",
    "- No Code Solutions\n",
    "- WebGIS\n",
    "\n",
    "Its not just ArcGIS anymore..."
   ]
  },
  {
   "cell_type": "markdown",
   "metadata": {
    "slideshow": {
     "slide_type": "slide"
    },
    "tags": []
   },
   "source": [
    "### You get to decide!"
   ]
  },
  {
   "cell_type": "markdown",
   "metadata": {
    "slideshow": {
     "slide_type": "slide"
    },
    "tags": []
   },
   "source": [
    "# Questions?"
   ]
  }
 ],
 "metadata": {
  "kernelspec": {
   "display_name": "Python 3 (ipykernel)",
   "language": "python",
   "name": "python3"
  },
  "language_info": {
   "codemirror_mode": {
    "name": "ipython",
    "version": 3
   },
   "file_extension": ".py",
   "mimetype": "text/x-python",
   "name": "python",
   "nbconvert_exporter": "python",
   "pygments_lexer": "ipython3",
   "version": "3.9.7"
  }
 },
 "nbformat": 4,
 "nbformat_minor": 4
}
