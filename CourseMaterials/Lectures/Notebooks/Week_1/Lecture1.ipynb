{
 "cells": [
  {
   "cell_type": "markdown",
   "metadata": {},
   "source": [
    "# What is GIS\n",
    "\n",
    "## Goal \n",
    "Understand what we are doing in taking this class.\n",
    "\n",
    "## Outline \n",
    "    - Geographic Information Systems \n",
    "    - Software \n",
    "    - Data\n"
   ]
  },
  {
   "cell_type": "markdown",
   "metadata": {},
   "source": [
    "# GIS \n",
    "\n",
    "**GEOGRAPHIC INFORMATION SYSTEMS**\n",
    "**GEOGRAPHIC INFORMATION SCIENCE**\n",
    "**GEOSPATIAL**\n",
    "\n",
    "What do all of these have in common...\n",
    "\n",
    "Geo -> As in Geography\n",
    "\n",
    "We are getting to the questions of WHERE. "
   ]
  },
  {
   "cell_type": "markdown",
   "metadata": {},
   "source": [
    "## Technically speaking GIS is:\n",
    "\n",
    "> Is is a technological field that incorporates geographical features with tabular data in order to map, analyze, and assess real-world problems. \n",
    "\n",
    "<em> Caitlin Dempsey - GIS Lounge 2021</em>\n"
   ]
  },
  {
   "cell_type": "markdown",
   "metadata": {},
   "source": [
    "## Geographic Features\n",
    "\n",
    "Data reprenting a real-life object in relation to its location.\n",
    "\n",
    "This allows us to ask questions about its relations to other features as well. \n",
    "\n",
    "For example: \n",
    "\n",
    "<em>How far do I have to walk to my class?</em>\n",
    "\n",
    "<em>How much area is the UPS Football field?</em>\n",
    "\n",
    "<em>Where is the nearest bus stop?</em>"
   ]
  },
  {
   "cell_type": "markdown",
   "metadata": {},
   "source": [
    "## We are used to dealing with Geospatial Information\n",
    "\n",
    "How many of you have used Apple Maps, Google Maps, Open Street Maps....\n",
    "\n",
    "We are used to using this information on the daily in our everyday lives.\n",
    "\n",
    "Anybody ever use Yelp to find the best coffee shop within a walking distance, thsi is a spatial question."
   ]
  },
  {
   "cell_type": "markdown",
   "metadata": {},
   "source": [
    "## Yelp Example\n",
    "\n",
    "[Coffee Near Me](https://www.yelp.com/search?find_desc=Coffee%20%26%20Tea&find_loc=1500%20N.%20Warner%20St.%2C%20Tacoma%2C%20WA%2098416)\n",
    "\n",
    "So what information do we have on yelp?"
   ]
  },
  {
   "cell_type": "markdown",
   "metadata": {},
   "source": [
    "## Attribute vs Spatial\n",
    "\n",
    "These to data types together help us understand and ask complex questions."
   ]
  },
  {
   "cell_type": "markdown",
   "metadata": {},
   "source": [
    "## THE BIG QUESTION\n",
    "\n",
    "So whats so special about GIS data?\n",
    "\n",
    "Since it's becoming far more common, far more people are comfortable with working with this spatial information.\n",
    "\n",
    "There are specific careers dedicated to working with geospatial information, but recently, more and more analyst are working with this data routinely. \n",
    "\n",
    "For example, Data Scientist, Data Engineers, etc. "
   ]
  },
  {
   "cell_type": "markdown",
   "metadata": {},
   "source": [
    "## So Whats Your Intent\n",
    "\n",
    "Do you want to be a geospatial guru?\n",
    "\n",
    "Or is this a tool for you to ask questions a specific question?"
   ]
  },
  {
   "cell_type": "markdown",
   "metadata": {},
   "source": [
    "## I'm just here because I like Maps\n",
    "\n",
    "Geographic Information Systems covers what I would suggest as three disciplines:\n",
    "\n",
    "- Data Management\n",
    "- Analysis \n",
    "- Cartography\n",
    "\n",
    "You can dedicate an entire career in each of these discplines, but often we end up using a combination of all three."
   ]
  },
  {
   "cell_type": "markdown",
   "metadata": {},
   "source": [
    "## Data Management\n",
    "\n",
    "As we will discuss in our next lecture, GIS Data has properties about it which require that some additional knowledge about how to interpret it. \n",
    "\n",
    "In Database land, there are different data types, such as, Integer, Text (number of characters), Binary, etc.\n",
    "\n",
    "Spatial Data is one of those types, but it has a complex math problem required to be able to make sense of what that data is. \n",
    "\n",
    "We want to make sure that this is clean and readily accessible so that we know what we are actually talking about, and we can share that data with others."
   ]
  },
  {
   "cell_type": "markdown",
   "metadata": {},
   "source": [
    "## Analysis\n",
    "\n",
    "We also want to be able to use that data so that we can ask those questions that we discussed before. Like, \n",
    "\n",
    "<em>How far do I have to walk to this dumb class?</em>\n",
    "\n",
    "This is a examination of the relationship between two locations, or points. \n",
    "\n",
    "We can ask more and more complex research questions which can result in more complex analysis. \n",
    "\n",
    "For example: \n",
    "\n",
    "<em>What is the best way for me to avoid construction traffic on 1-5 on Friday at 4:30 PM?</em>\n",
    "\n",
    "or...\n",
    "\n",
    "<em>How much area in Tacoma is expected to be unbuildable due to Sea Level Rise given 'Climate Change Scenario X'</em>"
   ]
  },
  {
   "cell_type": "markdown",
   "metadata": {},
   "source": [
    "## Cartography\n",
    "\n",
    "Finally, we want a way to be able to represent location data in a way that can by understood in different mediums. \n",
    "\n",
    "Most of the time, that is in a 2-dimensional plane. \n",
    "\n",
    "A map, whether it be print, or mobile, or something else. \n",
    "\n",
    "What we want to do is present spatial information in a way to communicate the research querstion effectively. \n",
    "\n",
    "There can be aspects of art, graphic design, user experience, all which go into this part of GIS."
   ]
  },
  {
   "cell_type": "markdown",
   "metadata": {},
   "source": [
    "## GIS History \n",
    "\n",
    "https://www.smithsonianmag.com/innovation/brief-history-maps-180963685/\n",
    "\n",
    "Cartography has been around forever. Whether used for navigation purposes, or to communicate knowledge about the world. \n",
    "Madaba Map\n",
    "\n",
    "Claudius Ptolemy\n",
    "\n",
    "Its been used to coordinate the movements of troops and goods, and to document the extent of empires. \n",
    "\n",
    "However, our first use of maps for analysis was used in the Mapping of Cholera.\n",
    "\n",
    "<em>On the Mode of Communication of Cholera</em>\n",
    "\n",
    "John Snow 1855\n",
    "\n"
   ]
  },
  {
   "cell_type": "markdown",
   "metadata": {},
   "source": [
    "### GIS As We Know It\n",
    "\n",
    "The field of geographic information systems (GIS) started in the 1960s as computers and early concepts of quantitative and computational geography emerged. Early GIS work included important research by the academic community. Later, the National Center for Geographic Information and Analysis, led by Michael Goodchild, formalized research on key geographic information science topics such as spatial analysis and visualization. These efforts fueled a quantitative revolution in the world of geographic science and laid the groundwork for GIS.    "
   ]
  },
  {
   "cell_type": "markdown",
   "metadata": {},
   "source": [
    "### Digital Data\n",
    "\n",
    "Roger Tomlinson’s pioneering work to initiate, plan, and develop the Canada Geographic Information System resulted in the first computerized GIS in the world in 1963. The Canadian government had commissioned Tomlinson to create a manageable inventory of its natural resources. He envisioned using computers to merge natural resource data from all provinces. Tomlinson created the design for automated computing to store and process large amounts of data, which enabled Canada to begin its national land-use management program. He also gave GIS its name. "
   ]
  },
  {
   "cell_type": "markdown",
   "metadata": {},
   "source": [
    "### GIS Software\n",
    "\n",
    "The Harvard Laboratory\n",
    "While at Northwestern University in 1964, Howard Fisher created one of the first computer mapping software programs known as SYMAP. In 1965, he established the Harvard Laboratory for Computer Graphics. While some of the first computer map-making software was created and refined at the Lab, it also became a research center for spatial analysis and visualization. Many of the early concepts for GIS and its applications were conceived at the Lab by a talented collection of geographers, planners, computer scientists, and others from many fields. "
   ]
  },
  {
   "cell_type": "markdown",
   "metadata": {},
   "source": [
    "### ESRI\n",
    "\n",
    "Esri is Founded\n",
    "In 1969, Jack Dangermond—a member of the Harvard Lab—and his wife Laura founded Environmental Systems Research Institute, Inc. (Esri). The consulting firm applied computer mapping and spatial analysis to help land use planners and land resource managers make informed decisions. The company’s early work demonstrated the value of GIS for problem solving. Esri went on to develop many of the GIS mapping and spatial analysis methods now in use. These results generated a wider interest in the company’s software tools and work-flows that are now standard to GIS. "
   ]
  },
  {
   "cell_type": "markdown",
   "metadata": {},
   "source": [
    "### Commericalization of Software\n",
    "\n",
    "GIS Goes Commercial\n",
    "As computing became more powerful, Esri improved its software tools. Working on projects that solved real-world problems led the company to innovate and develop robust GIS tools and approaches that could be broadly used. Esri’s work gained recognition from the academic community as a new way of doing spatial analysis and planning. In need of analyzing an increasing number of projects more effectively, Esri developed ARC/INFO—the first commercial GIS product. The technology was released in 1981 and began the evolution of Esri into a software company. "
   ]
  },
  {
   "cell_type": "markdown",
   "metadata": {},
   "source": [
    "## GIS Now\n",
    "\n",
    "### GIS On The Web\n",
    "    - Google Maps\n",
    "\n",
    "### Used Everyday\n",
    "\n",
    "    - Data Collection at massive scale\n",
    "    - Big Data\n",
    "    - Still the old data\n",
    "\n",
    "### Mobile Data Collection\n",
    "\n",
    "[Uber Movement](https://movement.uber.com/explore/seattle/travel-times/)\n"
   ]
  },
  {
   "cell_type": "markdown",
   "metadata": {},
   "source": [
    "## GIS Tools\n",
    "\n",
    "- Software (Paid)\n",
    "    - ESRI\n",
    "        - ArcMap\n",
    "        - ArcPro \n",
    "        - ArcGIS Server\n",
    "        - ...\n",
    "    - ERDAS (Imagery Analysis)\n",
    "- Software (FOSS)\n",
    "    - QGIS \n",
    "    - Google Earth \n",
    "- Programming\n",
    "    - GDAL\n",
    "    - R\n",
    "    - Python \n",
    "    - Javascript \n",
    "    - SQL \n",
    "    - Cloud Computing (Big Querey)\n",
    "+ More, More and More!!!"
   ]
  },
  {
   "cell_type": "markdown",
   "metadata": {},
   "source": [
    "## Applications and Uses\n",
    "\n",
    "- Urban Planning\n",
    "- Wildlife Management\n",
    "- Transportation Planning \n",
    "- Economics\n",
    "- Climate Change \n",
    "- You name it..."
   ]
  },
  {
   "cell_type": "markdown",
   "metadata": {},
   "source": [
    "## GIS Careers\n",
    "- Field Technician\n",
    "- GIS Specialist\n",
    "- GIS Analyst \n",
    "- GIS Developer\n",
    "- GIS Manager\n",
    "- Spatial Data Administrator\n",
    "- Cartographer \n",
    "- Data Scientist \n",
    "- Machine Learning Specialist"
   ]
  },
  {
   "cell_type": "markdown",
   "metadata": {},
   "source": [
    "## GIS of the Future\n",
    "\n",
    "### Integration with Internet of Things\n",
    "- Geofencing "
   ]
  }
 ],
 "metadata": {
  "language_info": {
   "name": "python"
  },
  "orig_nbformat": 4
 },
 "nbformat": 4,
 "nbformat_minor": 2
}
