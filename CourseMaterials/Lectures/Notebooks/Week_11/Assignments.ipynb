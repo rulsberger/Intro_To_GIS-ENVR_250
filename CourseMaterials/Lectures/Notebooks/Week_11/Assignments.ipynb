{
 "cells": [
  {
   "cell_type": "markdown",
   "metadata": {},
   "source": [
    "# Week 11 Assignments\n",
    "\n",
    "- Create maps to communicate the research question covered in the last five weeks of analysis."
   ]
  },
  {
   "cell_type": "markdown",
   "metadata": {},
   "source": [
    "# Week 4 Readings\n",
    "\n",
    "- Cartography Readings"
   ]
  }
 ],
 "metadata": {
  "language_info": {
   "name": "python"
  },
  "orig_nbformat": 4
 },
 "nbformat": 4,
 "nbformat_minor": 2
}
