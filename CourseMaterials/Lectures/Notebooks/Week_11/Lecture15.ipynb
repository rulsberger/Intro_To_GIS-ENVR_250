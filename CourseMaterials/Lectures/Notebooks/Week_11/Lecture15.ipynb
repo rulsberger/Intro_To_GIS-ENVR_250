{
 "cells": [
  {
   "cell_type": "markdown",
   "metadata": {},
   "source": [
    "# What Makes a Good Map\n",
    "\n",
    "## Goal \n",
    "Identify Cartographic techniques to best display geographic information\n",
    "\n",
    "## Outline \n",
    "    - Typography\n",
    "    - Color Theory \n",
    "    - Composition"
   ]
  }
 ],
 "metadata": {
  "language_info": {
   "name": "python"
  },
  "orig_nbformat": 4
 },
 "nbformat": 4,
 "nbformat_minor": 2
}
