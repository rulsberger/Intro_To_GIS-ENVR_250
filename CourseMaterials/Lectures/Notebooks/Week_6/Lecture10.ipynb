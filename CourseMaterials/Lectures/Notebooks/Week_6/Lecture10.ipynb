{
 "cells": [
  {
   "cell_type": "markdown",
   "metadata": {},
   "source": [
    "# Digitization\n",
    "\n",
    "## Goals \n",
    "Learn to concepts of digitizing\n",
    "\n",
    "## Outline \n",
    "    - COGO (Leagal Descriptions)\n",
    "    - Georectifying \n",
    "    - Tolerance\n",
    "    "
   ]
  }
 ],
 "metadata": {
  "language_info": {
   "name": "python"
  },
  "orig_nbformat": 4
 },
 "nbformat": 4,
 "nbformat_minor": 2
}
