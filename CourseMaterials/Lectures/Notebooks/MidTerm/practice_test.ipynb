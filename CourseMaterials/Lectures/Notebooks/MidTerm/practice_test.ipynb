{
 "cells": [
  {
   "cell_type": "markdown",
   "metadata": {},
   "source": [
    "# Practice Midterm"
   ]
  },
  {
   "cell_type": "markdown",
   "metadata": {},
   "source": [
    "### Spheroids\n",
    "\n",
    "**What is a Spheroid?**\n",
    "**How do we describe a spheroid?**\n",
    "**Why is there different sphereoids?**\n",
    "**When does a Spheroid become a Datum?**"
   ]
  },
  {
   "cell_type": "markdown",
   "metadata": {},
   "source": [
    "### Attributes of a sphere\n",
    "\n",
    "- Latitute; parallels\n",
    "- Longitude; meridians\n",
    "- graticle\n",
    "- equator \n",
    "- prime meridian\n",
    "\n",
    "**Label the following image.**  \n",
    "![Orthographic ](./image/Orthographic_Earth.png)"
   ]
  },
  {
   "cell_type": "markdown",
   "metadata": {},
   "source": [
    "Geographic Coordinate System\n",
    "\n",
    "Know GCS Coordinate Notations and how to find on map.\n",
    "- Decimal Degrees \n",
    "- Sexagesimal\n",
    "\n",
    "**What do we have to be careful of when working in Geographic Coordinate Systems?**"
   ]
  },
  {
   "cell_type": "markdown",
   "metadata": {},
   "source": [
    "**In your own words, describe the differenece between Geographic Coordinate Systems and Projected Coordinate Systems.**\n",
    "\n",
    "**Why would we want to use a Projected Coordinate System?**"
   ]
  },
  {
   "cell_type": "markdown",
   "metadata": {},
   "source": [
    "For the following projections, identify which properties are preserved.\n",
    "\n",
    "Planar Coordinate Systems or Projected Coordinate Systems:\n",
    "\n",
    "4 properties \n",
    "- Conformal\n",
    "- Equal Area\n",
    "- Equidistant\n",
    "- Azminthal"
   ]
  },
  {
   "cell_type": "markdown",
   "metadata": {},
   "source": [
    "![Map Projection 1](./image/prj1.png)"
   ]
  },
  {
   "cell_type": "markdown",
   "metadata": {},
   "source": [
    "![projection 2](./image/prj2.png)"
   ]
  },
  {
   "cell_type": "markdown",
   "metadata": {},
   "source": [
    "![prj4](./image/prj4.png)"
   ]
  },
  {
   "cell_type": "markdown",
   "metadata": {},
   "source": [
    "![prj3](./image/prj3.png)"
   ]
  },
  {
   "cell_type": "markdown",
   "metadata": {},
   "source": [
    "**What is the difference between Geodesic and Planar distances?**\n",
    "\n",
    "**When working with a certain projection, how can we eliminate the amount of distortion for a particular area such as Washington State?**"
   ]
  },
  {
   "cell_type": "markdown",
   "metadata": {},
   "source": [
    "Feature Classes: \n",
    "\n",
    "**What are the different types of Feature Classes?**\n",
    "\n",
    "**Describe in your own words what a Multi-Part Feature is and give and example.**"
   ]
  },
  {
   "cell_type": "markdown",
   "metadata": {},
   "source": [
    "## Raster Properties\n",
    "\n",
    "- Pixel Dimensions\n",
    "- Cell Size\n",
    "- Raster Extent\n",
    "\n",
    "Label the three different parts of a raster: \n",
    "\n",
    "![Raster Labeling Exercise](./image/Raster_Label.png)\n",
    "\n",
    "**Why does cell size matter in Rasters, what are we concerned with as cell sizes increase or decrease?**\n",
    "\n",
    "**What type data is appropriate to store in a raster format?**"
   ]
  },
  {
   "cell_type": "markdown",
   "metadata": {},
   "source": [
    "##Map Properties\n",
    "\n",
    "**What components are useful in understanding a map?**\n",
    "\n",
    "**You are creating a map to walk from the lab to your house. What information would be critical to include in your map to make sure that I don't get lost?**\n",
    "\n",
    "**You are creating a map of the Tourist destinations around Western Washington, categorized by activity type. What elements would need to be included in this map?**"
   ]
  },
  {
   "cell_type": "markdown",
   "metadata": {},
   "source": [
    "**Match the images to thier correct scale.**\n",
    "\n",
    "a) ![Small Scale](https://mgimond.github.io/Spatial/img/Boston_small_scale.jpg)  \n",
    "b)  ![Large Scale](https://mgimond.github.io/Spatial/img/Boston_large_scale.jpg)  \n",
    "\n",
    "1. Small\n",
    "2. Large\n"
   ]
  },
  {
   "cell_type": "markdown",
   "metadata": {},
   "source": [
    "**What is attribute data?**\n",
    "\n",
    "**In ArcGIS, what is a Table or Database Table?**"
   ]
  },
  {
   "cell_type": "markdown",
   "metadata": {},
   "source": [
    "## For the following questions scaffoled out what the data used in the project would look like. Use the template provided and build out the fields. \n",
    "\n",
    "For the next two questions, use the project description to create the features classes and tables with the correct data storage types, geometry types, and type of data the attribute is. If any joins are needed, please add a note of what the data is joined to. Additionally, explain the cardnality of the dataset, and if there is a join, what type of cardnality exists between the data fields. \n",
    "\n",
    "#### Key Terms:\n",
    "\n",
    "Cardinality\n",
    "\n",
    "High Cardinality: contains a large percentage of unique values.\n",
    "Low cardinality: has a lot of “repeats” in its data range.\n",
    "\n",
    "Types of Cardinality\n",
    "- One-to-One\n",
    "- Many-to-One\n",
    "- Many-to-Many\n",
    "\n",
    "[ArcGIS Data Storage Types](https://pro.arcgis.com/en/pro-app/latest/help/data/geodatabases/overview/arcgis-field-data-types.htm)\n",
    "\n",
    "Data Types: \n",
    "- Nominal\n",
    "- Ordinal\n",
    "- Interval\n",
    "- Ratio Scale\n",
    "\n",
    "Primary Keys vs Foreign Keys\n",
    "\n",
    "#### Example: \n",
    "\n",
    "Feature Class 1 (High-Cardnality)  \n",
    "| Field Name | Field Storage Type | Field Data Type | Join Data |   \n",
    "|------------|--------------------|-----------------|-----------|  \n",
    "| Field1 | Text | Nominal | Feature Class 2: Field1 (one-to-one) |   \n",
    "| Field2 | Short | Ordinal | |  \n",
    "| Field3 | Long | Interval | |  \n",
    "| Field4 | Float | Ratio Scale | |  \n",
    "| Field5 | Double | Ratio Scale | |  \n",
    "| Shape | geometry | Point; Line; Polygon; Raster | |   \n",
    "\n",
    "Feature Class 2  (Low Cardnality)  \n",
    "| Field Name | Field Storage Type | Field Data Type |  \n",
    "|------------|--------------------|-----------------|  \n",
    "| Field1 | Text | Nominal |  \n",
    "| Field2 | Text | Ordinal |  \n",
    "\n",
    "\n"
   ]
  },
  {
   "cell_type": "markdown",
   "metadata": {},
   "source": [
    "### 1. We are interested in identifying the best rearing habitat for salmon in Washington State. \n",
    "Additional Fields may need to be added as well (like Object IDs, or other unique identifiers).\n",
    "\n",
    "The following varaibles are going to be used in this analysis are:\n",
    "- Tree Cover Density\n",
    "    - Canopy coverage (percentage)\n",
    "- salmon streams\n",
    "    - flow velocity to the nearest 10th of feet per second; \n",
    "    - stream width (m)\n",
    "    - average gravel size (cm), \n",
    "- locations of Large Woody Debris\n",
    "    - estimated number of logs\n",
    "- Parcels\n",
    "    - Land Use \n",
    "    - Area (acres)\n",
    "\n",
    "Name: _________ Cardinality: ____________  \n",
    "| Field Name | Field Storage Type | Field Data Type | Join Data |  \n",
    "\n",
    "Name: _________ Cardinality: ____________  \n",
    "| Field Name | Field Storage Type | Field Data Type | Join Data |  \n",
    "\n",
    "Name: _________ Cardinality: ____________  \n",
    "| Field Name | Field Storage Type | Field Data Type | Join Data |  \n",
    "\n",
    "Name: _________ Cardinality: ____________  \n",
    "| Field Name | Field Storage Type | Field Data Type | Join Data |   \n",
    "\n",
    "    "
   ]
  },
  {
   "cell_type": "markdown",
   "metadata": {},
   "source": [
    "### 2. We are interested if there is a correlation between population density and mental health for different states across the United States.\n",
    "\n",
    "The following varaibles are going to be used in this analysis are:\n",
    "- Cities\n",
    "    - Name\n",
    "    - State\n",
    "    - Population \n",
    "    - Area\n",
    "- Neighborhoods\n",
    "    - Name\n",
    "    - City \n",
    "- Mental Health Survey \n",
    "    - Date\n",
    "    - Neighborhood\n",
    "    - Mental Well-Being Score\n",
    "\n",
    "Name: _________ Cardinality: ____________  \n",
    "| Field Name | Field Storage Type | Field Data Type | Join Data |  \n",
    "\n",
    "Name: _________ Cardinality: ____________  \n",
    "| Field Name | Field Storage Type | Field Data Type | Join Data |  \n",
    "\n",
    "Name: _________ Cardinality: ____________  \n",
    "| Field Name | Field Storage Type | Field Data Type | Join Data |  \n",
    "\n",
    "Name: _________ Cardinality: ____________  \n",
    "| Field Name | Field Storage Type | Field Data Type | Join Data |   \n",
    "    \n",
    "    "
   ]
  },
  {
   "cell_type": "markdown",
   "metadata": {},
   "source": [
    "### Given a table, write the condition to return the correct values. Psuedo code is available here.\n",
    "\n",
    "Logical Operators:\n",
    "\n",
    "- And\n",
    "- Or\n",
    "- Not\n",
    "\n",
    "Spatial Relationships\n",
    "\n",
    "- Equality\n",
    "- Intersects/Intersection\n",
    "- Disjoint\n",
    "- Cross\n",
    "- Overlap\n",
    "- Touch\n",
    "- Within/Contains\n",
    "- Distance Within\n",
    "\n",
    "**Given a relationship between two spatial features, which spatial opertation would be used to complete the analysis?**\n",
    "\n",
    "**Where am I unable to build on my property due to critical wetland area buffers?**  \n",
    "**Where are the roads that have bridges over them?**  \n",
    "**Which parcels are on my block?**  \n",
    "**During the protest scheduled on May Day, 2022, which streets should be closed down to prevent vehicle-pedestrian conflicts?**"
   ]
  }
 ],
 "metadata": {
  "interpreter": {
   "hash": "e42740209810e92bff58238d3729bee8c6099d960c90d4e65b71780ce918b6fe"
  },
  "kernelspec": {
   "display_name": "Python 3.9.7 ('base_gis')",
   "language": "python",
   "name": "python3"
  },
  "language_info": {
   "codemirror_mode": {
    "name": "ipython",
    "version": 3
   },
   "file_extension": ".py",
   "mimetype": "text/x-python",
   "name": "python",
   "nbconvert_exporter": "python",
   "pygments_lexer": "ipython3",
   "version": "3.9.9"
  },
  "orig_nbformat": 4
 },
 "nbformat": 4,
 "nbformat_minor": 2
}
