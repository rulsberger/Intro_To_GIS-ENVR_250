{
 "cells": [
  {
   "cell_type": "markdown",
   "metadata": {},
   "source": [
    "# Week 10 Assignments\n",
    "\n",
    "- Raster Lab Part 2\n",
    "- Do redlined areas have less tree cover than non redlined areas. "
   ]
  },
  {
   "cell_type": "markdown",
   "metadata": {},
   "source": [
    "# Week 10 Readings\n",
    "\n",
    "- Imagery processing reading\n",
    "- Landsat history reading"
   ]
  }
 ],
 "metadata": {
  "language_info": {
   "name": "python"
  },
  "orig_nbformat": 4
 },
 "nbformat": 4,
 "nbformat_minor": 2
}
