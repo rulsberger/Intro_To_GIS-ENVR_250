{
 "cells": [
  {
   "cell_type": "markdown",
   "metadata": {},
   "source": [
    "# Satellite Imagery and Processing\n",
    "\n",
    "## Goals \n",
    "Learn about the uses of satellite imagery and how to use this data geographically. \n",
    "\n",
    "## Outline \n",
    "    - Landsat Program \n",
    "    - Image Classification \n",
    "    - Vegetation health\n",
    "    - Sensors\n",
    "    - Python Scikit Learn and ML"
   ]
  }
 ],
 "metadata": {
  "language_info": {
   "name": "python"
  },
  "orig_nbformat": 4
 },
 "nbformat": 4,
 "nbformat_minor": 2
}
