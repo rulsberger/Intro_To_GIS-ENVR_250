{
 "cells": [
  {
   "cell_type": "markdown",
   "metadata": {},
   "source": [
    "# Assignment Outline\n",
    "\n",
    "- Create your own ArcGIS Pro project in the right directory.\n",
    "- Add Survey123 Feature Service to ArcGIS Map.\n",
    "- Add Definition Query to Feature Service to get your data.\n",
    "- Create three new Features and copy your Feature Service Data into the right vector object type.\n",
    "  - Points to Point File\n",
    "  - Create New Line Data from line data. \n",
    "  - Create Polygon using polygon data.\n",
    "\n",
    "- Show examples of other data file types and convert to at least two other data formats.\n",
    "\n",
    "- Add one additional data source to your map from somewhere else as reference material. \n",
    "- Stylize your data.\n",
    "- Create a new layout.\n",
    "  - Add a title\n",
    "  - Add other map reference material to your map. \n",
    "    - North Arrow\n",
    "    - Scale Bar \n",
    "    - Refernce Coordinate System\n",
    "\n",
    "### Deliverables \n",
    "- Export map and share on discussion board.\n",
    "- Take screen shot of your file directory.\n",
    "\n",
    "### Extra Credit\n",
    "- Add labels!\n",
    "- Add your photos!\n"
   ]
  },
  {
   "cell_type": "markdown",
   "metadata": {},
   "source": [
    "## 1) Create your ArcGIS Pro Project\n"
   ]
  },
  {
   "cell_type": "markdown",
   "metadata": {},
   "source": [
    "### Open ArcGIS Pro and Save Project \n",
    "\n",
    "First, open up ArcGIS Pro. \n",
    "\n",
    "Select \"Start without a template\".\n",
    "\n",
    "Save the file to the file directory where you feel comfortable and name the project something that is meaningful, but not too long. Consider when you have 15 projects you manage or in the event you go back to this project to made an edit in a year."
   ]
  },
  {
   "cell_type": "markdown",
   "metadata": {},
   "source": [
    "### Add the Correct Panes to your Project\n",
    "\n",
    "In the Ribbon, click on <em>View</em> and click either the <em>Catalog View</em> or <em>Catalog Pane</em>, your choice. "
   ]
  },
  {
   "cell_type": "markdown",
   "metadata": {},
   "source": [
    "### Add the Map Pane\n",
    "\n",
    "Two different options here:  \n",
    "In the Ribbon, click on <em>Insert</em> and select <em>New Map</em>.  \n",
    "\n",
    "Or, In the <em>Catlog Pane/View</em>, right click <em>Maps</em> and select <em>New Map</em>. Additionally, in this view, you can enter the <em>Maps</em> folder, and see all the maps that you have created thus far in your ArcGIS Pro Project. You can rename each of these to keep track of what you are doing in a project."
   ]
  },
  {
   "cell_type": "markdown",
   "metadata": {},
   "source": [
    "### Add our Data\n",
    "\n",
    "We are going to load our data now to the map. \n",
    "\n",
    "Our Survey123 data was connected to our ArcGIS Online Account. To make sure we are able to connect to our data, in the upper-right hand portion of the window make sure that you are signed into ArcGIS Online. \n",
    "\n",
    "![AGOL_SignIn](./images/AGOL_SignIn.png)"
   ]
  },
  {
   "cell_type": "markdown",
   "metadata": {},
   "source": [
    "Go to your <em>Map View</em>. In the Ribbon, go to the Map tab > Layer Section > <em>Add Data</em>\n",
    "\n",
    "ArcGIS Pro will now recognize the data stored in your AGOL account and you should be able to navigate and find it there. \n",
    "\n",
    "Under the <em>Portal</em>, click the <em>My Organization</em>, and select <em>ENV 250 My First Survey</em>.\n",
    "\n",
    "![AGOL_ENV250MyFirstSurvey](./images/AGOL_ENV250MyFirstSurvey.png)"
   ]
  },
  {
   "cell_type": "markdown",
   "metadata": {},
   "source": [
    "### Explore the Data\n",
    "\n",
    "Like we did in class, explore your classmates' data a bit. \n",
    "\n",
    "Look at the <em>Attribute Table</em>, use the <em>Map View</em> to explore where people have galavanted."
   ]
  },
  {
   "cell_type": "markdown",
   "metadata": {},
   "source": [
    "## Your Data\n",
    "\n",
    "After you have taken some time to check out the data, let's dive into filtering your data out of the group's. We are going to make a copy of this data in our own File Geodatabase. \n",
    "\n",
    "However, let's get our data first by creating a <em>selection</em> of our data."
   ]
  },
  {
   "cell_type": "markdown",
   "metadata": {},
   "source": [
    "### Selecting\n",
    "\n",
    "Try using the following methods to get to your data. "
   ]
  },
  {
   "cell_type": "markdown",
   "metadata": {},
   "source": [
    "#### Select By Attribute\n",
    "Open the <em>Attibute Table</em>.\n",
    "\n",
    "In the header of the Attibute Table there will be a <em>Selection: Select By Attibutes</em>. \n",
    "\n",
    "![Select By Attributes](./images/SelectByAttributes.png)\n",
    "\n",
    "We are going to do a new selection. In the <em>Where</em> clause, choose a field to select the data that you created. Try the \"Who\" Column.\n",
    "\n",
    "In your Attribute Table, the selected rows should be highlighted. In the bottom part of this window there are also two table like icons. These will allow you to show only the selected items, or the entire dataset. \n",
    "\n",
    "Are you able to get all your data? Is your data clean and easy to query?\n"
   ]
  },
  {
   "cell_type": "markdown",
   "metadata": {},
   "source": [
    "#### Select By Location\n",
    "\n",
    "Additionally, you can select data using your cursor in the <em>Map View</em>. Go to the Map Tab in the Ribbon and there will be a <em>selection</em> section. \n",
    "\n",
    "Click the <em>Select Button</em>. You can now draw on the map to select features. They should change color to show they are selected. \n",
    "\n",
    "If you open the Attibute Table you will also see these items highlighted again. "
   ]
  },
  {
   "cell_type": "markdown",
   "metadata": {},
   "source": [
    "#### Show Only Your Data\n",
    "\n",
    "Finally, we can apply a query to our dataset on the layer level so we don't have to fiddle with other people's data at all. \n",
    "\n",
    "There are again two different methods to complete this task. \n",
    "\n",
    "First. Once you click on the layer in your <em>Content Pane</em> in the <em>Map View</em>, different options should show in the Ribbon based on what type of item you have clicked. In the case of a feature layer, there should options for:\n",
    "    - <em>Appearance</em>  \n",
    "    - <em>Labeling</em>  \n",
    "    - <em>Data</em>  \n",
    "We will only get into the Data tab for now, so click that Tab. There will be a section for <em>Definition Query</em>. \n",
    "\n",
    "There should be \"<None>\" listed in the option right now, but there is a little icon in the bottom left that when hovered over will show <em>Build Definition Query</em>.\n",
    "\n",
    "This will open the Layer Properties Window with an option to add <em>New Defintion Query</em>.\n",
    "\n",
    "Alternatively, you can get to this same window by right clicking the layer in the Content Pane and going to <em>Properties</em> -> <em>Definition Query</em>. \n",
    "\n",
    "Adding a new definition query is done similarly to selecting feature by attribute. Add the clause to get to your data. \n",
    "\n",
    "![Definition Query](./images/DefinitionQuery.png)"
   ]
  },
  {
   "cell_type": "markdown",
   "metadata": {},
   "source": [
    "Once selected, the data should only show your data on the map."
   ]
  },
  {
   "cell_type": "markdown",
   "metadata": {},
   "source": [
    "## Export Data\n",
    "\n",
    "This is actually new to me. \n",
    "\n",
    "After we are done with our selection, we are going to export our data to the GeoDatabase. \n",
    "\n",
    "Right click on the Survey123 layer in the <em>Content Pane</em>  > <em>Export</em> > <em>Feature Class</em>. \n",
    "\n",
    "A new window will open. And GUESS WHAT!!! Another option to write a selection query. \n",
    "\n",
    "![Export Features](./images/ExportFeatures.png)\n",
    "\n",
    "ArcGIS Pro creates a File Geodatabase for us in the project folder. Let's put our data there. It is called <em>Default.gdb</em>.\n",
    "\n",
    "Again, when naming our files, we want to have clear, consise names that make sense. Keep tidy. No spaces. It will save your life later. Clean name file example: ArtisanalCoffeeShopMap_020122.\n",
    "\n",
    "If you have the <em>Definition Query</em> set you don't have to apply any additional queries. It is running when the data is displayed and not during this <em>Export</em> step. \n",
    "\n",
    "Click OK.\n",
    "\n",
    "A new layer should be added to your Map Pane!\n",
    "\n"
   ]
  },
  {
   "cell_type": "markdown",
   "metadata": {},
   "source": [
    "### Creating Files in our File GeoDatabase\n",
    "\n",
    "Open the Catalog Pane/View. \n",
    "\n",
    "In the Databases section, there will be an item created called <em>Default.gdb</em>. This is the folder in our ArcGIS Project folder. If you open this folder in File Explorer, you will see a bunch of giberish. This is all the realational database tables which allow us to do magic. \n",
    "\n",
    "If you open this now it should only have some data created that we just exported. \n",
    "\n",
    "We are going to create a Feature Dataset first. A feature dataset is a tool which is a collection of related feature classes that share a common coordinate system. Since our data is all about where we did our survey, I think it's relevant here. \n",
    "\n",
    "Right click on the <em>Default.gdb</em> file, or in the blank workspace if you opened it up in Catalog. There will be a hover over, popup menu. Click <em>New</em> > <em>Feature Dataset</em>. \n",
    "\n",
    "This will open a new <em>Geoprocessing</em> tab. Your output Geodatabase is <em>Default.gdb</em>. Give your Feature Dataset a good name. Remember, good naming conventions (no spaces, meaningful). Just stick to our Mercator Projection for now since this is simply a mapping exercise. \n",
    "\n",
    "Hit Run. "
   ]
  },
  {
   "cell_type": "markdown",
   "metadata": {},
   "source": [
    "Whew...\n",
    "\n",
    "Our next agenda is to create three feature classes. \n",
    "Why Three?\n",
    "\n",
    "Feature Classes only can store a single geometry type per layer. So we are going to create: \n",
    "- PointOfInterest\n",
    "- LineFeature\n",
    "- PolygonFeature\n",
    "\n",
    "You get the freedom to name your own Lines and Polygon Layers, but remember to give them meaningful names. "
   ]
  },
  {
   "cell_type": "markdown",
   "metadata": {},
   "source": [
    "Right Click on your <em>Feature Dataset</em> and select <em>New</em> > <em>Feature Class</em>.\n",
    "\n",
    "You will follow this six page dialog three times once for each type of feature layer we will create."
   ]
  },
  {
   "cell_type": "markdown",
   "metadata": {},
   "source": [
    "Lets start with our Point Layer. \n",
    "\n",
    "Name: <em>PointOfInterest</em>  \n",
    "Alias: <em>Point Of Interest</em>\n",
    "\n",
    "Select <em>Point</em> from the Feature Class Type. \n",
    "\n",
    "For the Geometric Properties unclick both M and Z values. \n",
    "\n",
    "Click Next."
   ]
  },
  {
   "cell_type": "markdown",
   "metadata": {},
   "source": [
    "On the Fields section (Page 2/6), click the <em>Import</em> button. This will open a File Exporer Window. navigate to your Default.gdb and select the name of the Survey123 Layer we exported.\n",
    "\n",
    "![SubSelectionFields](./images/subselectionfields.png)  \n",
    "\n",
    "This will automatically make a new layer that is identical to the our Survey123 Layer. It should prepopulate all the fields. \n",
    "\n",
    "Click through the table, delete the following:\n",
    "- GlobalID\n",
    "- CreationDate\n",
    "- Creator\n",
    "- EditDate\n",
    "- Editor\n",
    "\n",
    "Double Click the <em>untitled_question_6</em>. Rename this to <em>when</em>.\n",
    "\n",
    "Accept the Defaults for steps 3 thru 6. Each of these are letting you specifiy details about the geometry properties. These are already set becasue we set a projection for the Features Dataset.\n",
    "\n",
    "Click Finish.\n",
    "\n",
    "A new layer with your Point Layer name should be added to your Geodatabase."
   ]
  },
  {
   "cell_type": "markdown",
   "metadata": {},
   "source": [
    "Repeat this step for a <em>Line</em> and <em>Polygon</em> Feature Layer. This time, manually create the fields that you would like to capture from your data that you collected. \n",
    "\n",
    "Make sure you add the correct data type for each field. "
   ]
  },
  {
   "cell_type": "markdown",
   "metadata": {},
   "source": [
    "This is what your FeatureDataset should look like. \n",
    "\n",
    "![Geodatabase Checkin](./images/GeodatabaseCheckIn.png)\n",
    "\n",
    "After cleaning up and removing the Survey123 layer, this is what may Map View looks like. \n",
    "\n",
    "![Geodatabase Checkin](./images/MapCheckIn.png)"
   ]
  },
  {
   "cell_type": "markdown",
   "metadata": {},
   "source": [
    "## Creating Data \n",
    "\n",
    "K, now we're getting somewhere. But now to the hard part...\n",
    "\n",
    "We now are going to create our own features for each of these three layers we just created."
   ]
  },
  {
   "cell_type": "markdown",
   "metadata": {},
   "source": [
    "### Edit Tab\n",
    "\n",
    "To Edit Features (includes Creating New Features), we will click on our layer in our Map View, Contents Pane, and use the <em>Edit Tab</em>. \n",
    "\n",
    "We are going to use the <em>Features</em> section and click <em>Create</em>. \n",
    "\n",
    "This should show a Create Features Pane with the list of items in our Contents Pane. \n",
    "\n",
    "We will go through each of these layers we created and add copies of our data from our survey accordingly. \n",
    "\n"
   ]
  },
  {
   "cell_type": "markdown",
   "metadata": {},
   "source": [
    "Open the attribute table for the feature you are going to create first. You may also want to open the attribute table for your original data.\n",
    "\n",
    "Click on the layer you want to create. \n",
    "\n",
    "A window will pop up in the Map View. A tool called snapping should be turned on which will allow you to snap the geometry you are creating to the points in your Survey123 data. \n",
    "\n",
    "![Create Point Feature](./images/CreatePointFeature.png)\n",
    "\n",
    "Once you click on the map, a new row should be added to the Attribute Table for that feature. \n",
    "\n",
    "![Create Point Feature](./images/NewFeatureAttributeData.png)\n",
    "\n",
    "\n",
    "Copy the data from the Survey123 data to the new feature. \n",
    "\n",
    "When you are first doing this you will want to save your edits after every feature you create. It is very easy to mess up here, so do yourself the favor. \n",
    "\n",
    "In the Edit tab of the Ribbon, find the <em>Manage Edits</em> section. Click Save if you feel good about your row. "
   ]
  },
  {
   "cell_type": "markdown",
   "metadata": {},
   "source": [
    "Repeat this process for the other two layers. For each geometry type, there will be a slightly different geometry tool for creating features. \n",
    "\n",
    "Another hint is to use selections to only show the features you want to copy while you are creating. For example, run a selection to only show the paths points when you are copying your line's feature layer. Also, don't forget about how the geometries for lines and polygons is created. \n",
    "- Line(x1 y1, x2 y2, x3 y3)\n",
    "- Polygon(x1 y1, x2 y2, x3 y3, x1 y1)\n",
    "\n",
    "Use the datetime stamp to preserve the order of points when creating your item. \n",
    "\n",
    "Remember... SAVE OFTEN."
   ]
  },
  {
   "cell_type": "markdown",
   "metadata": {},
   "source": [
    "Additionally, choose two of your data layers, and export these features to different file formats. Store them in your project directory, but they will not be in your File Geodatabase. \n",
    "\n",
    "Explore what these files look like in File Explorer to compare what they look like if you downloaded someone elses ArcGIS Pro Project. \n",
    "\n",
    "Something like this: \n",
    "  - FileGeodatabase\n",
    "    - FeatureDataset\n",
    "  - Shapefile\n",
    "  - Geopackage/GeoJSON\n",
    "\n",
    "Take a screenshot of your ArcGIS Pro Project Directory showing all your data files in File Explorer.**\n",
    "\n",
    "Hint, you will need to see the details of the files, which is configured through the settings in File Explorer. "
   ]
  },
  {
   "cell_type": "markdown",
   "metadata": {},
   "source": [
    "## Final Steps \n",
    "\n",
    "Our last steps are to create a visally appealing representation of the data that we gathered. \n",
    "\n",
    "Before we get there, consider if other data could be useful for your map. Search the web for some data file that could add some good context for your map. \n",
    "\n",
    "Maybe try looking through this data: \n",
    "[Tacoma ArcGIS Portal](https://tacoma.maps.arcgis.com/home/search.html)"
   ]
  },
  {
   "cell_type": "markdown",
   "metadata": {},
   "source": [
    "## Symbolize your Data \n",
    "\n",
    "Let's work on adding some Symbology for each layer in your Map View. \n",
    "\n",
    "Just explore here and try messing around with different colors, hues, outlines, strokes, etc. \n",
    "\n",
    "You're not getting graded on this, but see what the capablities are. \n",
    "\n",
    "Two different options are again available to you to access the symbology pane. \n",
    "\n",
    "Right click the layer, and click the <em>Symbology</em> option. \n",
    "\n",
    "Or, when you click on the layer, view the Appearance Tab in the Ribbon. Click the Symbology Section. \n",
    "\n",
    "Notice there is a gallery or predefined symbols for you, or if you click on the properties tab, there are options for you to customize the symbol. \n",
    "\n",
    "![Symbology](./images/symbology.png)\n",
    "\n",
    "Do this for each layer until you feel like it looks good.\n",
    "\n",
    "Again. Save often!!!\n",
    "\n"
   ]
  },
  {
   "cell_type": "markdown",
   "metadata": {},
   "source": [
    "## Layout\n",
    "\n",
    "We are almost done now. \n",
    "\n",
    "Let's create a Layout now in which we will display out Map Pane and add any additional map elements to help understand our data. \n",
    "\n",
    "Once again, there are two different methods of creating a new Layout. Open the <em>Catlog Pane</em>, in the root of the ArcGIS Project, there will be a object <em>Layouts</em>.\n",
    "\n",
    "Right Click this and click <em>New Layout</em>.\n",
    "\n",
    "Or, in the Ribbon, Insert Tab, click <em>Insert Layout</em>.\n",
    "\n",
    "Choose the size of the document (let's just do Letter for now)."
   ]
  },
  {
   "cell_type": "markdown",
   "metadata": {},
   "source": [
    "Go back to the Insert tab on the Ribbon, and click <em>Map Frame</em>. Drag the size of the Map Frame that you want in your Layout View. This is the actual size of the map on the paper.\n",
    "\n",
    "Use some of the examples in Chapter 6 of the text book. Think of what items could add context to your map. \n",
    "\n",
    "Add a title at least. \n",
    "\n",
    "SAVE OFTEN!!! I lost my map in writing this DEMO!\n"
   ]
  },
  {
   "cell_type": "markdown",
   "metadata": {},
   "source": [
    "Here's my map. \n",
    "\n",
    "![Map Example](./images/MapExample.jpg)"
   ]
  },
  {
   "cell_type": "markdown",
   "metadata": {},
   "source": [
    "EXTRA CREDIT (but not really):\n",
    "\n",
    "- Figure out how to label your features.\n",
    "- Find a way to embed your images that you took on your map."
   ]
  },
  {
   "cell_type": "markdown",
   "metadata": {},
   "source": [
    "## Export Your Map\n",
    "\n",
    "\n",
    "Go to the Share Tab in the Ribbon. In the Output section in the Ribbon, click <em>Export Layout</em>. \n",
    "\n",
    "Export the map as a JPEG, to your project directory, with 50% Quality and 150 DPI. Click <em>Export</em> and upload this image to the discussion board with a title as Your Base Country vs. Your Comparison Country. \n",
    "\n",
    "Save your project!"
   ]
  },
  {
   "cell_type": "markdown",
   "metadata": {},
   "source": [
    "### CONGRATS!!! YOU DID IT!!!\n",
    "\n",
    "Show off all your hard work and post the JPG on the dicussion board. \n",
    "\n",
    "Every step in this exercise will be used in pretty much every project going forward. These are the basics of GIS!"
   ]
  }
 ],
 "metadata": {
  "interpreter": {
   "hash": "e42740209810e92bff58238d3729bee8c6099d960c90d4e65b71780ce918b6fe"
  },
  "kernelspec": {
   "display_name": "Python 3.9.7 64-bit ('base_gis': conda)",
   "language": "python",
   "name": "python3"
  },
  "language_info": {
   "name": "python",
   "version": "3.9.7"
  },
  "orig_nbformat": 4
 },
 "nbformat": 4,
 "nbformat_minor": 2
}
