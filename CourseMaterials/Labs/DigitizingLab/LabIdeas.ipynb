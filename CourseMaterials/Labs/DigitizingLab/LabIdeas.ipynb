{
 "cells": [
  {
   "cell_type": "markdown",
   "metadata": {},
   "source": [
    "Digitizing Lab\n",
    "\n",
    "Average Housing Prices in Redlined Neighborhoods.   \n",
    "  - Digitize the Redling Neighborhoods   \n",
    "  - Sale Prices? Assessed Value?  \n",
    "    - Tabular Data to Spatial Data  \n",
    "    - Spatial Join  \n",
    "    - Average Sale Price Year over Year?  \n",
    "    - Averaged Assessed Price Year over Year?  \n",
    "    - Average Price per Sqft?  \n",
    "    - Age of housing in distirct now.\n",
    "  - What areas were preseved on historic register.  \n",
    "    - Polygon Intersection   "
   ]
  },
  {
   "cell_type": "markdown",
   "metadata": {},
   "source": [
    "TODO: \n",
    "\n",
    "- Ask Assessor about historic assessed values or sales data\n",
    "- Call Metro Parks about historic parks layer"
   ]
  },
  {
   "cell_type": "markdown",
   "metadata": {},
   "source": [
    "Digitizing Census\n",
    "\n",
    "Year of Year Comparisons \n",
    "    - Overlapping Tracts and Geometries\n",
    "    - Year over Year changes\n"
   ]
  },
  {
   "cell_type": "markdown",
   "metadata": {},
   "source": [
    "Spatial Algorithm \n",
    "\n",
    "- Nearest Neighbor\n",
    "  - Distance to nearest school (year based)\n",
    "  - Distance to nearest park\n",
    "  - "
   ]
  }
 ],
 "metadata": {
  "interpreter": {
   "hash": "e42740209810e92bff58238d3729bee8c6099d960c90d4e65b71780ce918b6fe"
  },
  "kernelspec": {
   "display_name": "Python 3.9.7 64-bit ('base_gis': conda)",
   "language": "python",
   "name": "python3"
  },
  "language_info": {
   "name": "python",
   "version": "3.9.7"
  },
  "orig_nbformat": 4
 },
 "nbformat": 4,
 "nbformat_minor": 2
}
