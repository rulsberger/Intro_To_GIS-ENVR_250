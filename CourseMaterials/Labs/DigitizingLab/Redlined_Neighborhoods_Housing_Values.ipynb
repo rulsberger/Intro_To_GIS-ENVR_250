{
 "cells": [
  {
   "cell_type": "code",
   "execution_count": null,
   "metadata": {},
   "outputs": [],
   "source": [
    "#Steps\n",
    "\n",
    "1) Download data. \n",
    "   1) PierceCountyTaxParcels\n",
    "   2) Assessor Data \n",
    "      1) Improvement\n",
    "      2) Improvement Built-As\n",
    "2) Prep Data\n",
    "   1) Create CSVs from Assessor Data Dumps\n",
    "   2) Import CSVs to ArcGIS Geodatabase \n",
    "3) Digitize the Redlined Neighborhoods\n",
    "   1) Georeference PDF \n",
    "   2) Create Polygonss\n",
    "   3) Copy Neighborhood Condition\n",
    "4) Prep Tax and Building Data\n",
    "   1) Select TaxParcels that intersect with Redlined Neighborhoods \n",
    "      - Export Data \n",
    "   2) Join Improvement details to Improvement Built-As.\n",
    "      1) Data Types are not the same \n",
    "      2) Field Calculator -> Convert Parcel # to Text. Use get_code function\n",
    "         - Do for both Improvement and Improvement Built-As\n",
    "      3) Primary key and Foreign Key are based on two fields so use Field Calculator -> merge Parcel_number and Building ID (creating a new foregin key)\n",
    "         - Do for both Improvement and Improvement Built-As\n",
    "      4) Join to Improvement to Improvement Built-As\n",
    "      5) Export Data\n",
    "      6) Remove Extra Data Fields\n",
    "   3) Join to RedlinedNeighborhood_Parcels\n",
    "      1) Use parcel_number_text\n",
    "      2) Filter recrods to SF residences using PrimaryUseDescrption\n",
    "      3) Export Data\n",
    "   4) Filter out non residential land uses\n",
    "      1) Select Landuse that are residential like\n",
    "      2) Export\n",
    "   5) Disolve the Parcels\n",
    "      1) We have a many to one relationship of building records, to parcel records currently. Lets go back to working with parcels. To do so we are going to use the Analysis -> Disvolve tool. The Disolve tool combines geometries and summarizes selected attributes using varioues statisical methods. In this case, our buildings are actually being represented by the same geometry, a parcel boundary. So our dissolve feature returns the same geometry. In other analyses we can combine different features of similar types, making larger polygons, or even multipart polygons. \n",
    "\n",
    "      Think of the population of each hawaian island, each has its own population, but if you combine, you can aggregate to the entire population of the state of hawaii.\n",
    "   6) Spatial Join\n",
    "      1) Join the parcels to the parcels \n",
    "   7) Calculate fields\n",
    "      1) Total Assessed Value \n",
    "      2) Assessed Value per SQFT\n",
    "      3) Export Data to Table\n",
    "\n",
    "   8) Disolve again. x2\n",
    "      1) We are going to disolve to two different features now, as we would like to see the data for each individual neighborhood, and also for the HOLC score. \n",
    "   9) Join back to Neighborhoods and symbolize based on Holc Grade. \n",
    "   10) Also Dissolve to all neighborhoods so that we can get the summary for all neighborhoods. \n",
    "   11) Spatial join All neihgborhood summary to Redlined Neighborhoods, join neighborhood assessed values. Calculate z_index score. \n",
    "\n",
    "   TODO: Corellation Analysis between grade and assessed value. \n",
    "   "
   ]
  }
 ],
 "metadata": {
  "interpreter": {
   "hash": "04fcdc873fc0b1f86e9f0c52964b4788f3bba8f3c06d881c8afdd41f95ae6ab1"
  },
  "kernelspec": {
   "display_name": "Python 3.9.9 64-bit ('base_gis': conda)",
   "language": "python",
   "name": "python3"
  },
  "language_info": {
   "name": "python",
   "version": "3.9.9"
  },
  "orig_nbformat": 4
 },
 "nbformat": 4,
 "nbformat_minor": 2
}
