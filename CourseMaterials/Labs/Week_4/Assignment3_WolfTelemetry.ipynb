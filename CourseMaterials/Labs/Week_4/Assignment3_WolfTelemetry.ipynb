{
 "cells": [
  {
   "cell_type": "markdown",
   "metadata": {},
   "source": [
    "# Assignment 3 - Wolf Telemetry Data\n",
    "\n",
    "## Overview\n",
    "- Working with CSV Data\n",
    "  - How to load csv data into GeoDatabase\n",
    "  - Using Field Calculator\n",
    "  - Create a Layer using XY Coordinate Pairs\n",
    "- Relational Data\n",
    "  - How to join data in ArcGIS Pro\n",
    "- Point to Line\n",
    "  - Create a transect for each wolf in the captured data\n",
    "  - Calculate total length\n",
    "  - Calculate avg distance traveled per day\n",
    "- Create a Relational Dataset \n",
    "  - Create a Domain \n",
    "    - Map Health Conditions to Captured Wolf Data\n",
    "- Pick a Wolf and create a map \n",
    "  - Pick a single wolf that has observations \n",
    "    - Create a map of its tracked locations \n",
    "      - We need to show its pack boundary.\n",
    "      - Label the start date of tracking. \n",
    "      - Label the end date of tracking.\n",
    "      - Show the telemetry layer for this wolf.\n",
    "      - Show the Capture Dates Associated with this wolf. \n",
    "    - Put other details needed to communicate about this wolf.\n",
    "      - Create a table showing the details of the wolf\n",
    "      - Answer the questions and write your answers for context about our wolf.\n",
    "    - Add a legend so we know what we are looking at."
   ]
  },
  {
   "cell_type": "markdown",
   "metadata": {},
   "source": [
    "# Deliverables\n",
    "\n",
    "- Answer the following questions, and summarize the answers in a text box in our map.\n",
    "  - How many other wolves and what are the names of the wolves in Boyds Pack?\n",
    "  - Who is the oldest and youngest member in this pack?\n",
    "  - Are there any other wolves in the pack that are collared?\n",
    "  - What is the average weight, and health condition of the male wolves that have been captured and are alive in the North Washington Packs? How does this compare to Boyd?\n",
    "- An exported map that relates all the data we have about Boyd"
   ]
  },
  {
   "cell_type": "markdown",
   "metadata": {},
   "source": [
    "# Lets Get Started\n",
    "\n",
    "- Create a folder for this assignment. We want to be able to keep a copy of our downloaded data separate from the other stuff we will be doing. \n",
    "  - Create a sub folder call <em>Raw</em>. \n",
    "  - Download the csv files from github and save them to this folder.  \n",
    "  \n",
    "- Create a new ArcGIS Pro Project, and save assignment directory. "
   ]
  },
  {
   "cell_type": "markdown",
   "metadata": {},
   "source": [
    "![Folders](./images/folder_structure.PNG)"
   ]
  },
  {
   "cell_type": "markdown",
   "metadata": {},
   "source": [
    "Lets set up our ArcGIS Pro Project now. \n",
    "\n",
    "Open Catalog and we are going to add our <em>raw</em> data folder as a directory that is discoverable by ArcGIS. \n",
    "\n",
    "There will be an item called folders in Catalog, right click this folder, and click <em>Add Folder Connection</em>. Navigate to your raw data directory and click OK.\n",
    "\n",
    "You can now see the csv files that we downloaded in this folder when you expand it. "
   ]
  },
  {
   "cell_type": "markdown",
   "metadata": {},
   "source": [
    "## Import data to geodatabase\n",
    "\n",
    "We can work with CSV files directly since we have added a folder connection. However, I suggest that it is better to have a save a unaltered version of the raw data, and have a derivative dataset which you can mess up. That way, if you need to start over in any process, you don't have to worry about downloading the data again. \n",
    "\n",
    "So, lets import our csv to the geodatabase. \n",
    "\n",
    "Right click the ArcGIS Pro Default Geodatabase. Go to import, and select <em>Tables</em>. \n",
    "\n",
    "Use the file navigator to import all the csv files from your raw directory to the default geodatabase.\n",
    "\n",
    "Click Ok. And the Tables should now be listed in your geodatabase, if not right click and refresh."
   ]
  },
  {
   "cell_type": "markdown",
   "metadata": {},
   "source": [
    "![table to geodatabase](./images/TableToGeodatabase.PNG)"
   ]
  },
  {
   "cell_type": "markdown",
   "metadata": {},
   "source": [
    "## So what is this data?\n",
    "\n",
    "Well, lets take a look. Each of these tables are stored as Database Tables; that is, they only are storing attribute data. Or at least thats what ArcPro thinks.\n",
    "\n",
    "Right Click on each of the layers and select <em>Open Table</em>.\n",
    "\n",
    "There sure is data in some of these tables that looks like location data though. \n",
    "\n",
    "Now for each of the tables, right click and select <em>Data Design</em> -> <em>Fields</em>. This will open a new view (see below).\n",
    "\n",
    "This option shows you all the field names, and the data type that field is storing. This is important becasue it lets us know what we can do with each of these fields and what data should be where.\n",
    "\n",
    "If you need a refresher on field types, [take a look here](https://desktop.arcgis.com/en/arcmap/latest/manage-data/geodatabases/arcgis-field-data-types.htm)."
   ]
  },
  {
   "cell_type": "markdown",
   "metadata": {},
   "source": [
    "![Field Types](./images/Fields.PNG)"
   ]
  },
  {
   "cell_type": "markdown",
   "metadata": {},
   "source": [
    "Our dataset is built to keep track of all things wolves, so we got information about wolves, wolf packs, collared and capture locations, and GPS tracks associated with a Collar. \n",
    "\n",
    "Woof... Thats a lot to keep track of. Thankfully, we can use joins and relates to be able to help us keep track of each wolf and their associated data. \n",
    "\n",
    "After taking a look at these data, it appears that we actually have some spatial information that we want to work with right? So lets start with that."
   ]
  },
  {
   "cell_type": "markdown",
   "metadata": {},
   "source": [
    "## Field Calculator\n",
    "\n",
    "Attribute data can also be added to our map. So starting with our <em>captured_wolves</em>, lets right click and select <em>Add to Map</em>. \n",
    "\n",
    "In the Map Pane, lets right click, and select <em>Open</em> to view the attribute data. \n",
    "\n",
    "So the <em>CaptureLocation</em> field. Sure looks like an geometry field to me, but as we saw its stored as a text field. For us use this data, we need to split up this field into two separate fields: a <em>latitude</em>, and a <em>longitude</em> data set.\n",
    "\n",
    "To do so, we are going to use something called the <em>Field Calculator</em>."
   ]
  },
  {
   "cell_type": "markdown",
   "metadata": {},
   "source": [
    "The <em>Field Calculator</em> is a button at the top of the table view we opened. Click <em>Calcuate</em>. A new window will open. "
   ]
  },
  {
   "cell_type": "markdown",
   "metadata": {},
   "source": [
    "![Calc Field](./images/CalculateField.PNG)"
   ]
  },
  {
   "cell_type": "markdown",
   "metadata": {},
   "source": [
    "Now, we are going to add our fields with a new value. \n",
    "\n",
    "Lets do it in three steps. Type in the following variables. \n",
    "\n",
    "First, Create the <em>Lat_Long</em> field, and remove the leading Point text with the parathesis. \n",
    "\n",
    "Input Table: Capture Wolves  \n",
    "Field Name: Lat_Long  \n",
    "Field Type: Text  \n",
    "Expression Type: Python3   \n",
    "Lat_Long = get_xy_text(!CaptureLocation!)  \n",
    "Code Block:   "
   ]
  },
  {
   "cell_type": "code",
   "execution_count": 1,
   "metadata": {},
   "outputs": [],
   "source": [
    "# Define a function called get_xy_text that takes a parameter \"point\"\n",
    "def get_xy_text(point):\n",
    "    # for a parameter point, replace the text 'Point', '(', and ')' with nothing. Essentially deletes them.\n",
    "    point_details = point.replace('POINT ', '').replace('(', '').replace(')', '')\n",
    "    # Return the variable; should be two decimal numbers separated by a space\n",
    "    return point_details"
   ]
  },
  {
   "cell_type": "markdown",
   "metadata": {},
   "source": [
    "Now we are going calculate the <em>Latitude</em> and <em>Longitude</em> fields.\n",
    "\n",
    "Pay close attention to which item in the coordinates is supposed to be the x axis and which is the y axis. \n",
    "\n",
    "Click <em>Calculate</em> again. \n",
    "\n",
    "Input Table: Capture Wolves  \n",
    "Field Name: Latitude  \n",
    "Field Type: Float    \n",
    "Expression Type: Python3   \n",
    "Lat_Long = get_xy(!Lat_Long!)  \n",
    "Code Block:  \n",
    "\n",
    "And repeat for <em>Longitude</em>. You will use this same function, but you have to return the correct number for Longitude. So update the return statement to return the the x value."
   ]
  },
  {
   "cell_type": "code",
   "execution_count": 2,
   "metadata": {},
   "outputs": [],
   "source": [
    "# Define a function called get_xy that takes a parameter \"point\"\n",
    "def get_xy(x_y):\n",
    "    # for a parameter point,  split the text on a space. Returns a list of two objects. \n",
    "    point_details = x_y.split(' ')\n",
    "    # Return the first variable in the list. A list is zero index. \n",
    "    return point_details[1]"
   ]
  },
  {
   "cell_type": "markdown",
   "metadata": {},
   "source": [
    "Cool now we are getting somewhere. Lets add our points to our map now. \n",
    "\n",
    "Click <em>View</em> in the Ribbon, and open the <em>Geoprocessing</em> pane by clicking the </em>Geoprocessing</em> button. You can search for tools here like the <em>XY Table to Point</em>.\n",
    "\n",
    "Lets open our <em>Captured Wolves</em> table, save the layer to our geodatabase, and use the correct fields that we just calculated to use for our Longitude and Latitudes fields. \n",
    "\n",
    "Since our data is in decimal degrees, we are using the Geographic Coordinate System WGS 1984. "
   ]
  },
  {
   "cell_type": "markdown",
   "metadata": {},
   "source": [
    "![XY Points to Layer](./images/XY_To_Layer.PNG)"
   ]
  },
  {
   "cell_type": "markdown",
   "metadata": {},
   "source": [
    "Great, We now have points on our map. Lets repeat this process for <em>wolf observations</em>. Not, that you will have to update which field is used when calling our function we wrote. Fields are used by calling the field name surrounded by <em>!Location!</em>\n",
    "\n",
    "When you get the layer added to the map, it will look like a giant blob of data in different locations. Thats because we have logged over 155,000 locations!!!\n",
    "\n",
    "![Crap load of Point](./images/Wolf_Observations_Points.PNG)"
   ]
  },
  {
   "cell_type": "markdown",
   "metadata": {},
   "source": [
    "## Create a transect\n",
    "\n",
    "Now that we have all the point locations where a wolf hase been observed, lets make lines representing the actual routes that a wolf has traveled. \n",
    "\n",
    "Lets do some stuff to work with a managable set of data that makes sense. \n",
    "\n",
    "Lets pick a wolf, and explore how many observations there are, and the max and min date the observations. \n",
    "\n",
    "Say, lets choose Boyd. \n",
    "\n",
    "Well, for us to know what Wolf ID Boyd is, we will have to join some data to our observations data. \n",
    "\n",
    "Lets go to Catalog, and add our <em>Wolves Table</em> to our map. \n"
   ]
  },
  {
   "cell_type": "markdown",
   "metadata": {},
   "source": [
    "Once added to the map, we are going to want to join our tables. \n",
    "\n",
    "I like to always think about the cardnality of our data when choosing which layer to start with the join. \n",
    "\n",
    "So in this instance, we would like to right click the layer with the lower cardnality. In this case, the table with the more 'repeats' for data is our observations. \n",
    "\n",
    "Right click our <em>Wolf Observation Points</em> and select <em>Join</em> -> <em>Add Join</em>.\n",
    "\n",
    "This will open a new window."
   ]
  },
  {
   "cell_type": "markdown",
   "metadata": {},
   "source": [
    "![Join](./images/Join.PNG)"
   ]
  },
  {
   "cell_type": "markdown",
   "metadata": {},
   "source": [
    "We are going to join our Wolves Table, and for these tables, our Primary Key and Foreign Key are the same; that is <em>WolfID</em>.\n",
    "\n",
    "Basically, this is saying for each observation of this wolf in the observations table, go find me the correct data from the wolf table, and append it to this row. "
   ]
  },
  {
   "cell_type": "markdown",
   "metadata": {},
   "source": [
    "```\n",
    "SELECT \n",
    "    * \n",
    "FROM \n",
    "    wolf_observations_points\n",
    "left join wolves on \n",
    "    wolf_observations_points.WolfID = wolves.WolfID\n",
    "```"
   ]
  },
  {
   "cell_type": "markdown",
   "metadata": {},
   "source": [
    "Cool, now we at least know which observations that are tied to Boyd. \n",
    "\n",
    "So lets filter them. Lets apply a <em>Definition Query</em> and show only observations for Boyd.\n",
    "\n",
    "You did this last week, so I'm going to let you take care of this. "
   ]
  },
  {
   "cell_type": "markdown",
   "metadata": {},
   "source": [
    "So once you did that, you should be able to open the attribute table, and see that there are still over 15k observations. \n",
    "\n",
    "Lets say we are tasked with providing a summary of all Boyds locations for a given week, your choice of week. \n",
    "\n",
    "When we look at this data, we can sort by fields by double clicking the Header in the Table view of our <em>wolf observations points</em> data. We can see that the most recent data of observations for Boyd was 04/06/2016 and the first observations started 02/10/2008. So we have 8 years of data here! \n",
    "\n",
    "Lets filter down this data to make it a little bit more manageable. "
   ]
  },
  {
   "cell_type": "markdown",
   "metadata": {},
   "source": [
    "We are going to select rows within this two week window. Hit the <em>Select By Attributes</em> button, and filter the rows where the dates are for your two week observation window. \n",
    "\n",
    "Leaving this vague here, but think about which Logical Operators you will use to get this selection. \n",
    "\n",
    "You should get something like 50ish points from the selection. "
   ]
  },
  {
   "cell_type": "markdown",
   "metadata": {},
   "source": [
    "![Boyds Last Two Weeks](./images/selected_points.PNG)"
   ]
  },
  {
   "cell_type": "markdown",
   "metadata": {},
   "source": [
    "To make this easy to present in our map, lets export this subselection to make it its own layer. \n",
    "\n",
    "Right click on the layer, and select <em>Data</em> -> <em>Export Feature</em>.\n",
    "\n",
    "Save to your geodatabase with a name that makes sense. \n",
    "\n",
    "How bout. \n",
    "\n",
    "<em>Boyds_Observations_StartDate_to_EndDate</em>\n",
    "\n",
    "Of course replacing the start data and end date with the dates you chose accordingly. \n",
    "\n",
    "Here's what my data looks like once its added back to the map. "
   ]
  },
  {
   "cell_type": "markdown",
   "metadata": {},
   "source": [
    "![Boyds Last Days](./images/Boyds_Observations.PNG)"
   ]
  },
  {
   "cell_type": "markdown",
   "metadata": {},
   "source": [
    "Boyd sure looks like he travels. But these points as they are, don't really tell us about where he goes, and when. I think that a line, would make sense to see where he went. "
   ]
  },
  {
   "cell_type": "markdown",
   "metadata": {},
   "source": [
    "Go back to our Geoprocessing Pane and search for <em>Points to Lines</em>. \n",
    "\n",
    "Once the window opens, notice that there is a little question mark up at the top of the Pane. Click this question mark. This will open the tool documentation. \n",
    "\n",
    "For this tool, we are wanting to create a line for each wolf and start and order the points based on the date field. \n",
    "\n",
    "Fill out the fields correctly, save to your geodatabase with a good name and click run!\n",
    "\n",
    "![Points to Lines](./images/Point_To_Lines.PNG)"
   ]
  },
  {
   "cell_type": "markdown",
   "metadata": {},
   "source": [
    "So the result should look something like this. \n",
    "\n",
    "![Boyds Path](./images/Boyds_Path.PNG)"
   ]
  },
  {
   "cell_type": "markdown",
   "metadata": {},
   "source": [
    "So now we got some good info for our map. Lets do a couple more field calculations. \n",
    "\n",
    "So our Line is currently in GCS, which means were are measuring our point locations and lines as (fill in the blank here.)\n",
    "\n",
    "So we should really think about reprojecting our data here to measure something in terms that we are more familiar with huh."
   ]
  },
  {
   "cell_type": "markdown",
   "metadata": {},
   "source": [
    "Using the Geoprocessing Pane, lets search for the Project tool.\n",
    "\n",
    "Lets choose to reproject to Washington State Plane North since we are working with Wildlife Data and Boyd seems to live in the North Cascades.\n",
    "\n",
    "This changes your data, so again, give it a good name to know what data is in this layer, and why is it different than that last layer we exported.\n",
    "\n",
    "![Project](./images/project.PNG)"
   ]
  },
  {
   "cell_type": "markdown",
   "metadata": {},
   "source": [
    "So ArcGIS does this fun thing for us where it automatically calculates the length of our line. If you open the attribute of our new data set, you should see it changed pretty significantly. What unit is this measurement in? And lets convert it into something that makes more sense. "
   ]
  },
  {
   "cell_type": "markdown",
   "metadata": {},
   "source": [
    "Lets use the field calculator again, and this time, lets create a new field called <em>Length_Miles</em>. \n",
    "\n",
    "Whatever unit you think this projection uses, convert this number to miles. \n",
    "\n",
    "This time, you need to choose the right field type.  To be able to write your expression, double click the <em>Shape_Length</em> in the fields box. This adds the this a variable in your expression. A now, multiply/divide accordingly to convert these original units to miles.\n",
    "\n",
    "Something like: \n",
    "<em>!Shape_Length! / your conversion unit</em>"
   ]
  },
  {
   "cell_type": "markdown",
   "metadata": {},
   "source": [
    "![Boyds Travels in Miles](./images/boyds_travels_projected.PNG)"
   ]
  },
  {
   "cell_type": "markdown",
   "metadata": {},
   "source": [
    "## Lets get some more information\n",
    "\n",
    "Our objective here is that we are going to create a map of Boyds two weeks, and summarize other information about Boyd in a nice page summary. \n",
    "\n",
    "Lets get the following information about Boyd. \n",
    "\n",
    "  - How many other wolves and what are the names of the wolves in Boyds Pack?\n",
    "  - Who is the oldest and youngest member in this pack?\n",
    "  - Are there any other wolves in the pack that are collared?\n",
    "  - What is the average weight, and health condition of the male wolves that have been captured and are alive in the North Washington Packs? How does this compare to Boyd?\n",
    "\n",
    "Using the joins and selction using logical operators, answer these questions. Once you get these records, it might be easier to do the math outside of ArcGIS."
   ]
  },
  {
   "cell_type": "markdown",
   "metadata": {},
   "source": [
    "## Lets Map It. \n",
    "\n",
    "Well now we are getting somewhere. To make this a meaningful map to present our data, we may want to include some more information on our map, include some other features for context and provide labels to make sense of our path. \n",
    "\n",
    "First, lets change our basemap to something more inviting for wolves. \n",
    "\n",
    "On the Map tab of the Ribbon, click <em>Basemap</em>, change the Basemap to something that reflects wolf habitat a bit more."
   ]
  },
  {
   "cell_type": "markdown",
   "metadata": {},
   "source": [
    "Second, lets try to import our pack locations using the included geojson data. \n",
    "\n",
    "Use the <em>Geoprocessing pane</em> and search for <em>JSON to Features</em>. Run this tool with our geojson file and the input and the destination as our default.gdb. Run and add the Polygon to your map. \n",
    "\n",
    "![JSON To Features](./images/json_to_features.PNG)\n",
    "\n",
    "Now lets also show the Capture_Wolves Point Locations for only Boyd. Use a tool to filter the records to only capture locations for Boyd. \n",
    "\n",
    "Now we are getting somewhere."
   ]
  },
  {
   "cell_type": "markdown",
   "metadata": {},
   "source": [
    "![Map Take 1](./images/map_take1.PNG)"
   ]
  },
  {
   "cell_type": "markdown",
   "metadata": {},
   "source": [
    "A good map only shows what it needs to, so lets change our symbology to something more appealing, and remove some features to only show whats relevant, say, the start and end dates of our map and where they are. "
   ]
  },
  {
   "cell_type": "markdown",
   "metadata": {},
   "source": [
    "For Boyds Observations, lets only select the two points assoicated with the start and end of our observation period. Export these features, to your database, and remove the observations from the map. \n",
    "\n",
    "Click on the new Start_End Date Layer. In the Ribbon, there will be a Tab called Labeling.\n",
    "\n",
    "Click on the Label Button. \n",
    "\n",
    "\n",
    "![Labeling Tab](./images/Label_Window.PNG)\n",
    "\n",
    "Click on the Expression Button that is in the <em>Label Class</em> section of the Ribbon. This will open a new window. Use Arcdae as the language and in the expression copy and paste the following. \n",
    "\n",
    "`ISOMonth($feature.Date) + '/' + Day($feature.Date)`\n",
    "\n",
    "Use the following format for the lab: \n",
    "\n",
    "![Labeling Expression](./images/Label_Properties.PNG)\n",
    "\n",
    "Hit Apply. Your two points should now be labeled with the appropriate Month/Day format."
   ]
  },
  {
   "cell_type": "markdown",
   "metadata": {},
   "source": [
    "Now lets change the Symbology of some of our other layers. \n",
    "\n",
    "We are going to create a Domain to be able to help our data look cleaner. \n",
    "\n",
    "Go to Catalog. Right click our <em>captured_wolves_points</em> layer and select <em>Data Design</em> -> <em>Domains</em>.\n",
    "\n",
    "This will open a new view. \n",
    "\n",
    "A domain is a tool which lets us only select a coded value from a field, and populate it with categories from another table. It operates very similarly to a join, however, the field will be resrticted to only the values that are in the domain. \n",
    "\n",
    "Additionally, it lets us add descriptions for certain codes, and looks up these items automatically for us. \n",
    "\n",
    "We are going to copy the data from our conditions table into this domain table. \n",
    "\n",
    "![Domains](./images/Domains.PNG)\n",
    "\n",
    "Click the save button in the Ribbon.\n"
   ]
  },
  {
   "cell_type": "markdown",
   "metadata": {},
   "source": [
    "And then, we are going to edit the field in our conditions.  \n",
    "\n",
    "Go to Catalog. Right click our <em>captured_wolves_points</em> layer and select <em>Data Design</em> -> <em>Fields</em>.\n",
    "\n",
    "This will open a new view. \n",
    "\n",
    "In the Domains column, select the Health Field, it should show you the <em>Domain</em> that we just created above. Select this. \n",
    "\n",
    "Click save in the Ribbon."
   ]
  },
  {
   "cell_type": "markdown",
   "metadata": {},
   "source": [
    "Now in the Map, we can open the Attribute table. See the Health Field now looks up the values in this Domain table to get the correct key. This is especially helpful if you are working with categorical data, and you want to rename your category. "
   ]
  },
  {
   "cell_type": "markdown",
   "metadata": {},
   "source": [
    "Lets Symboloize our Data with Unique Values using the Health Field. \n",
    "\n",
    "Click on the Layer in the <em>Contents Pane</em> of the Map View. The Ribbon at the top of the map will show <em>Appearance</em> -> <em>Symbology</em> button. \n",
    "\n",
    "Change the symbology to Unique Values based on the <em>Health</em> field.  Change the symbols to something that appeals to you, and can show the difference between the different categories of data.\n",
    "\n",
    "![symbology](./images/symbology.PNG)"
   ]
  },
  {
   "cell_type": "markdown",
   "metadata": {},
   "source": [
    "Lets also repeat our labelling process of this layer, but give some details about the year. \n",
    "\n",
    "Here is a code that you can use. \n",
    "\n",
    "`'Captured: ' + ISOMonth($feature.Date) + '/' + Day($feature.Date) +'/' + YEAR($feature.Date)`"
   ]
  },
  {
   "cell_type": "markdown",
   "metadata": {},
   "source": [
    "Fianlly, lets repeat for the Transect and the Pack Polygon Layer. Change the Symbology that clearly lets you see what we are communicating in this map. That is, Boyds Travels over a two week date range. "
   ]
  },
  {
   "cell_type": "markdown",
   "metadata": {},
   "source": [
    "Heres what I chose.  \n",
    "\n",
    "![Styles](./images/Styles.png)"
   ]
  },
  {
   "cell_type": "markdown",
   "metadata": {},
   "source": [
    "Great. Now lets add our reference matierals. \n",
    "\n",
    "Put them in locations where it is easy to see them. In the properties for each item, you can change things like the background color so you can overlay items on the map. Mess around here. \n",
    "\n",
    "Additionally, for the legend, you can rename the items in the map, by renaming the layers in your map frame. Give your layers names that will communicate what the layers are in the map."
   ]
  },
  {
   "cell_type": "markdown",
   "metadata": {},
   "source": [
    "![Layout Complete](./images/layout_complete.PNG)"
   ]
  },
  {
   "cell_type": "markdown",
   "metadata": {},
   "source": [
    "Finally, put a text box at the bottom of the page summarizing the findings that you had from the four questions above. \n",
    "\n",
    "Compare how Boyd is to the rest of his pack, is he healthy compared to other lone wolfs out there?\n"
   ]
  },
  {
   "cell_type": "markdown",
   "metadata": {},
   "source": [
    "Export you map again as a jpg with 150 px resolution. Post to the discussion board for this assignment. \n",
    "\n",
    "And your Done!!!"
   ]
  }
 ],
 "metadata": {
  "interpreter": {
   "hash": "e42740209810e92bff58238d3729bee8c6099d960c90d4e65b71780ce918b6fe"
  },
  "kernelspec": {
   "display_name": "Python 3.9.7 ('base_gis')",
   "language": "python",
   "name": "python3"
  },
  "language_info": {
   "codemirror_mode": {
    "name": "ipython",
    "version": 3
   },
   "file_extension": ".py",
   "mimetype": "text/x-python",
   "name": "python",
   "nbconvert_exporter": "python",
   "pygments_lexer": "ipython3",
   "version": "3.9.7"
  },
  "orig_nbformat": 4
 },
 "nbformat": 4,
 "nbformat_minor": 2
}
