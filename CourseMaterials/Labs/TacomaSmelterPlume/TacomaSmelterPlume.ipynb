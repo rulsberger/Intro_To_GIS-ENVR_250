{
 "cells": [
  {
   "cell_type": "markdown",
   "metadata": {},
   "source": [
    "# Overview \n",
    "\n",
    "Our final installment of our HOLC Neighborhoods analysis is to identify if there is any correlation between HOLC Grades and Environmental Contamination. \n",
    "\n",
    "Before Point Ruston Developments, the ASARCO Smelting Facility dominated the Tacoma Waterfront and operated from 1888 to 1985. If you want to read some more history, give it a read [here.](https://www.historylink.org/File/8744) \n",
    "\n",
    "Consequently, this industry operated at the same time that these maps were drawn and may have been the industry where the 'working class' actually worked here in Tacoma. \n",
    "\n",
    "However, the Smelter was very bad and the fallout from the smelting processes caused contamination throughout Pierce, King, and Kitsap County. \n",
    "\n",
    "We are going to use GIS to explore this dataset thoroughly. \n",
    "\n",
    "## Raster Data\n",
    "\n",
    "In particular, we are going to use this lab to start identifying how to work with <em>Raster Data</em>. For data like our smelter plume, we often sample data at discrete locations, but the data is actually a continuous surface. In this case, we have pollution of Arsenic and Lead as fallout from a single point source. It has been deposited these contaminents in different degrees based on the prevailing wind currents in the Puget Sound Area for years, so if we viewed this data it would look like a contamination surface. "
   ]
  },
  {
   "cell_type": "markdown",
   "metadata": {},
   "source": [
    "# Project Setup \n",
    "\n",
    "- Create your ArcGIS Project \n",
    "- Create your raw folder, add as a connected file \n",
    "- Create a New Feature Dataset in the Default Geodatabase so that we are always working in Washington StatePlane South\n",
    "\n",
    "## Download Data \n",
    "\n",
    "#### Tacoma Smelter Plume Data\n",
    "Download the data from the [Environmental Information Management System from Washington State Department of Ecology.](https://apps.ecology.wa.gov/eim/search/Default.aspx) \n",
    "\n",
    "We are getting data from the TSP Studies, and specificically for Pierce County. \n",
    "[EIM Data Search TSP](https://apps.ecology.wa.gov/eim/search/Eim/EIMSearchResults.aspx?ResultType=EIMTabs&StudyUserIdSearchType=Contains&StudyUserIds=tsp)\n",
    "\n",
    "First, let's make sure we know what we are actually looking at. The paper resulting from this study, can be found [here](https://apps.ecology.wa.gov/gsp/DocViewer.ashx?did=21498). \n",
    "\n",
    "**Write up a short paragraph study about what this study, and what are the data limitations for using this data to compare the contamination levels of pollutants to Tacoma HOLC Neighborhood grades?**\n",
    "\n",
    "Import these .csv files into your Geodatabase.\n",
    "\n",
    "#### Mapping Inequality Data\n",
    "Download the mapping inequality data again or import the data from your previous project. \n",
    "[Mapping Inequality Data Download](https://dsl.richmond.edu/panorama/redlining/#loc=5/39.1/-94.58&text=downloads)\n",
    "\n",
    "Get you map setup how you want, maybe add and style your neighborhood data. "
   ]
  },
  {
   "cell_type": "markdown",
   "metadata": {},
   "source": [
    "## Soil Sample Locations\n",
    "\n",
    "First, after looking at our data, it appears that EIM summarizes all the data we need into the Results csv file. So let's just get to work.\n",
    "\n",
    "First, we need to make our csv data a spatial data layer. Add the Results Table to our map, and display our Results based on the XY Locations. If you right click your results table, there is an option to Display XY. \n",
    "\n",
    "![Display XY](./images/DisplayXY.PNG)\n",
    "\n",
    "Now to be able to display our data correctly, we have to know what projection or what format our data is in. Run the Display XY tool with the correct parameters. Once those results are done, we would like to project our data again to the correct projection, so lets export/import it into our Feature Dataset which we created in Washington StatePlane. "
   ]
  },
  {
   "cell_type": "markdown",
   "metadata": {},
   "source": [
    "The data downloaded from the TSP study contains a lot of information that various we can use in our understanding of our data. Not only does it contain two different contaminants, but also various sample depths too. \n",
    "\n",
    "**Summarizing our data, how many unique sample locations are there?**\n",
    "\n",
    "We need to break down these data into similar data.\n",
    "\n",
    "Export the data to two different layers, one for Arsenic and one for Lead.\n",
    "Additionally, to keep track of this, let's create two different maps for each analysis. \n",
    "\n",
    "Export two layers to the Feature Dataset \n",
    "1) TSP_Arsenic_Results\n",
    "2) TSP_Lead_Results\n",
    "\n",
    "Add each to its own respective map. To copy the neighborhood's data, you can actually right- click on the layer to copy, and move to the second map. Click on the Map Title in the contents, and paste.\n",
    "\n",
    "**For each layer, display the contamination using a Graduated Symbol map using the standard 5 Classes of Jenks Natural Breaks. Post this into your write-up.**\n",
    "\n",
    "![Arsenic - Jenks Natural Breaks](./images/symbology_jenks_natural_breaks.PNG)"
   ]
  },
  {
   "cell_type": "markdown",
   "metadata": {},
   "source": [
    "## Inverse Distance Weighting (IDW)\n",
    "\n",
    "As we discussed above, points do not give us a lot of information about how contaminates are spread throughout Tacoma. Rather, we would like a 'contamination surface'. To do so, we will basically use statistics to estimate all the values between points. There are actually many ways of doing this but to explore Inverse Distance Weighting or IDW. Give the following description a read.\n",
    "\n",
    "[Inverse Distance Weighting](https://pro.arcgis.com/en/pro-app/latest/tool-reference/spatial-analyst/how-idw-works.htm).\n",
    "\n",
    "So let's do it!\n",
    "\n",
    "Open the Geoprocessing Tab and search for <em>IDW (Spatial Analyst Tools)</em>.\n",
    "\n",
    "![IDW (Spatial Analyst Tools)](./images/IDW_SpatialAnalystTools.PNG). \n",
    "\n",
    "Give to tool description a read also by clicking ![Tool Information Button](./images/ToolInformation.PNG).\n",
    "\n",
    "Now input the following paramaters: \n",
    "\n",
    "![IDW Parameters](./images/IDW_Params.PNG)\n",
    "\n",
    "And before running we are going to edit the environments for running the tool. \n",
    "Environments are additional setting that are configured from the ArcGIS Project level and the other layers in the document. \n",
    "\n",
    "For example, for the IDW, we are only going to create a raster for the extent of all the points. Additionally, it infers what our cell size is going to be, and how many rows and columns our data should have given this information. \n",
    "\n",
    "Sometimes we need to edit these, sometimes we don't but lets make sure that our output Raster is in the correct Projection. \n",
    "\n",
    "![IDW Environment](./images/IDW_Environments.PNG)\n",
    "\n",
    "Run the Tool, and the result should be added to your map!"
   ]
  },
  {
   "cell_type": "markdown",
   "metadata": {},
   "source": [
    "You guys create your first Raster! \n",
    "\n",
    "Now, take a look and explore this data. How is it different the vector datasets we have worked with thus far?\n",
    "\n",
    "Change the symbology to use a yellow-orange-red color gradient where yellow is areas of low arsenic and red is high levels of arsenic.\n",
    "\n",
    "Repeat this process for Lead Contamination in your second map.\n",
    "\n",
    "**Include a screen shot of your IDW result for each of Arsenic and for Lead in your write-up.**\n",
    "![Arsenic IDW](./images/IDW_Result_Arsenic.PNG)"
   ]
  },
  {
   "cell_type": "markdown",
   "metadata": {},
   "source": [
    "So cool, we now know where contamination of Lead and Arsenic is. Now let's actually compare our neighborhood data to these contamination levels. \n",
    "\n",
    "We will use a tool called Zonal Statistics as Table to calculate the average Arsenic and Lead contamination per neighborhood.\n",
    "\n",
    "Make sure to read the tool description!\n",
    "\n",
    "![Zonal Statistics](./images/ZonalStatisticsAsTable.PNG)\n",
    "\n",
    "This output, is going to look at all the cells that are within a Neighborhood polygon, and calculate the statistics for each cell. So in one case, you can think back to our raster, cell size actually has quite an influence on values like this. \n",
    "\n",
    "But to the results of our tool, this will result a table in our Geodatabase, where we can join it back to our Vector HOLC Neighborhoods to display our results.\n",
    "\n",
    "Repeat this process for the lead contamination map"
   ]
  },
  {
   "cell_type": "markdown",
   "metadata": {},
   "source": [
    "### Display\n",
    "\n",
    "For our maps, let's re-create the maps using this data from the Pierce County Health Department [Arsenic and Lead Soil Testing](https://www.tpchd.org/healthy-homes/dirt-alert-tacoma-smelter-plume/arsenic-and-lead-soil-testing).\n",
    "\n",
    "First, symbolize the Arsenic Map. \n",
    "\n",
    "Let's create the four bins manually. \n",
    "\n",
    "![Arsenic PPM Symbology](./images/Arsenic_Mean_PPM_Symbology.PNG)\n"
   ]
  },
  {
   "cell_type": "markdown",
   "metadata": {},
   "source": [
    "So let's use our previous basemap we created here. \n",
    "\n",
    "We could go through all the work of symbolizing our data, but that's a lot of redundant work. Rather ArcGIS has a file format which preserves the styling for a given layer and its underlying data called a LayerFile. \n",
    "\n",
    "Let's open our previous lab, and export our data as a LayerFile for use in our new project. \n",
    "\n",
    "Make sure to save your current GIS project, and then reopen CensusGeographies Lab. \n",
    "\n",
    "We are going to save our PierceCountyBasemap and PierceCountyRoads data as layerfiles. \n",
    "\n",
    "Right click on the layer in the contents pane, and select <em>Sharing</em>. Click <em>Save As Layer File</em>. \n",
    "\n",
    "![LayerFile](./images/SaveAsLayerFile.PNG)\n",
    "\n",
    "This will save a .lyrx file, which we will navigate to our new TacomaSmelterPlume Map directory to save the data. \n",
    "\n",
    "Add this data to your TacomaSmelterPlume Map and you should see your roads, with all the styling already completed. Do the same for the PierceCountyBasemap."
   ]
  },
  {
   "cell_type": "markdown",
   "metadata": {},
   "source": [
    "Nice a simple now, let's just two basic choropleth maps representing the Arsenic and Lead contamination in our neighborhoods.\n",
    "\n",
    "Think about this time what our layer names are, and how our numbers and bins are labelled for easy understanding. \n",
    "\n",
    "Round our bins to the closest even number for each element. Add a title, and export the map. \n",
    "\n",
    "![Arsenic](./TSP/Arsenic_HOLCNeighborhoods.jpg)\n",
    "\n",
    "![Lead](./TSP/Lead_HOLCNeighborhoods.jpg)\n"
   ]
  }
 ],
 "metadata": {
  "interpreter": {
   "hash": "5d6ecc50b4a2d866e092053718b8ed87b40aa99c07a047fc40ecfe16b10a89da"
  },
  "kernelspec": {
   "display_name": "Python 3.9.7 ('base')",
   "language": "python",
   "name": "python3"
  },
  "language_info": {
   "name": "python",
   "version": "3.9.7"
  },
  "orig_nbformat": 4
 },
 "nbformat": 4,
 "nbformat_minor": 2
}
