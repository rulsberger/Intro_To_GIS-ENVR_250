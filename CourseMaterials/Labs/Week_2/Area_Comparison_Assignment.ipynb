{
 "cells": [
  {
   "cell_type": "markdown",
   "metadata": {},
   "source": [
    "# Area Comparison Map \n",
    "\n",
    "For this assignment, we are going to open ArcGIS Pro for the first time.  \n",
    "\n",
    "For this firts project, I will give you a map document already configured to complete the assignment. The assignment next week will start with you setting up ArcGIS Pro.  \n",
    "\n",
    "Since we just learned about Projections, and how they can distort a features geometry, we are going to make a country comparison map."
   ]
  },
  {
   "cell_type": "markdown",
   "metadata": {},
   "source": [
    "## Opening ArcGIS \n",
    "\n",
    "<em>To be able to complete this project, make sure you follow [these steps](https://github.com/rulsberger/Intro_To_GIS-ENVR_250/blob/main/CourseMaterials/Labs/Week_2/ArcGIS_Configruation.pdf) on the machine you are using in the computer lab</em>\n",
    "\n",
    "Download the Area_Comparison_Assignment from Github. It should be a zip file which you will extract onto your own machine. \n",
    "\n",
    "Navigate to: [Area_Comparison_Assignment.zip](https://github.com/rulsberger/Intro_To_GIS-ENVR_250/tree/main/CourseMaterials/Labs/Week_2/Area_Comparison_Assignment.zip)\n",
    "\n",
    "Click the download button."
   ]
  },
  {
   "cell_type": "markdown",
   "metadata": {},
   "source": [
    "## Data Storage\n",
    "\n",
    "We will go into this in a bit next week, but the contents on this zip file are what is created by ArcGIS Pro when initializing a project. \n",
    "\n",
    "Typically, we want to create a single location on our drive where our projects are stored. Something like: \n",
    "\n",
    "- **ENVR_250**  \n",
    "    - **Projects**  \n",
    "        - <em>Area_Comparison_assignments.zip</em>  \n",
    "        - **Future_Project**  \n",
    "            - **Some Other Folders**  \n",
    "            - **Future_Project.gdb**  \n",
    "            - <em>Future_Project.aprx</em>  \n",
    "            - <em>Future_Project.tbx</em>  \n",
    "\n",
    "Bold lines represent Folders, and italicised lines are files (zip, docs, pdfs, etc). \n",
    "\n",
    "The content of **Future_Project** are what is created by ArcGIS Pro. The <em>Future_Project.aprx</em> file is the ArcGIS Pro file. \n",
    "\n",
    "**Note that all of the files do not contain any spaces!!! Remember this!!!"
   ]
  },
  {
   "cell_type": "markdown",
   "metadata": {},
   "source": [
    "### ArcGIS Pro Projects\n",
    "\n",
    "I have created a ArcGIS Pro Project which has all the data and configuration in ArcGIS is already pre set. \n",
    "\n",
    "If you have ArcGIS Pro open after following the steps above, you should be able to right click on the file.\n",
    "You should see the option to <em>Extract All</em> which should open with a dialog requesting a destination to save to extracted contents. Make sure this fits into the folder structure above.\n",
    "\n",
    "Now that you have the folder extracted, you should be able to click <em>Open Another Project</em> in ArcGIS Pro. Navigate to the destination of the extracted contents, and click the <em>Area_Comparison_Assignment.aprx</em> file."
   ]
  },
  {
   "cell_type": "markdown",
   "metadata": {},
   "source": [
    "## Wow, I have a map open now. \n",
    "\n",
    "You should have read Chapter 2 of Learning ArcGIS Pro 2 now. So this should have be familiar. If not, go back a read that or have the book open to be able to navigate the Ribbon Interface in Arc. \n",
    "\n",
    "In this project, we are doing some map hacks by using a combination of maps, layouts. \n",
    "\n",
    "There should be the following in your project: \n",
    "- Map: Base_Country\n",
    "- Map: Compraison_Country \n",
    "- Layout: Area_Comparison\n",
    "- Catalog\n",
    "\n",
    "Explore the Catalog Tab, and see how the Maps and Layouts are referenced in this tab."
   ]
  },
  {
   "cell_type": "markdown",
   "metadata": {},
   "source": [
    "### Uhh, but theres nothing for me to look at\n",
    "\n",
    "We now are going to add some data to our maps. \n",
    " \n",
    "You will click on each map tab and use the <em>Map Tab</em> in the Ribbon to <em>Add Data</em>.\n",
    "\n",
    "We are going to use [ArcGIS Living Atlas](https://livingatlas.arcgis.com/en/home/), which is an agglomeration of data layers shared by ESRI for easy map making. They aren't always the data you will want to use, or the most up to date, but they are perfect for exercises like this. \n",
    "\n",
    "When you click on the <em>Add Data</em> it should open another window that should be look like File Explorer on your computer. You will use the Files Pane and click <em>Living Atlas</em>."
   ]
  },
  {
   "cell_type": "markdown",
   "metadata": {},
   "source": [
    "Use the <em>Search Living Atlas</em> window in the top right to search for the boundary of a country you are interested in. There should be an item that shows up as <em>Country Name Boundary</em>, and you should now see some items added to your map!\n",
    "\n",
    "The base country should be the larger country that will be layered over some ariel imagery, and the Comparison Country will be a hollow polygon. \n",
    "\n",
    "For my example, I compared Japan (base country) to New Zeland (comparison country).\n",
    "\n",
    "Once added, Save your ArcGIS Pro Project."
   ]
  },
  {
   "cell_type": "markdown",
   "metadata": {},
   "source": [
    "Lets take a look at which projection we are working with. If you right click the country boundary layer, and scroll down to <em>Properties</em>, the should be a tab <em>Source</em> and then there should be an option in the details for <em>Spatial Reference</em>. \n",
    "\n",
    "What is the Spatial Reference System of the data?"
   ]
  },
  {
   "cell_type": "markdown",
   "metadata": {},
   "source": [
    "Additionally, ArcGIS sets the projection of the map itself too. We can have a different Spatial Reference system than the data that is in the map. \n",
    "\n",
    "However, data added to the map will be <em>projected-on-the-fly</em>, that is, the data will visualized in the projection of the map without having to manually project the data into the same coordinate system.\n",
    "\n",
    "Lets identify the Coordinate System used in the map. Right click the Map item in the <em>Contents Pane</em>, and click <em>Properties</em>. Here, there should be an option for <em>Coordinate System</em>. What is the current coordinate system?"
   ]
  },
  {
   "cell_type": "markdown",
   "metadata": {},
   "source": [
    "Since we are not doing any analysis for this project, we can rely on the <em>projection-on-be the-fly</em> to project our data. \n",
    "\n",
    "As such, for us to be able to compare geometries, we need two things to be identical across our maps:\n",
    "- projection \n",
    "- extent\n",
    "\n",
    "Lets get started."
   ]
  },
  {
   "cell_type": "markdown",
   "metadata": {},
   "source": [
    "Lets set a custom projection for each map window. \n",
    "\n",
    "Go back to the Coordinate System Details pane that we went to before in the Contents of each map pane. \n",
    "\n",
    "This time, we are going to change the projection to an Equal Area Projection. However, we are going to go a step further, and we are going to use a <em>Custom Equal Area Projection</em> with the <em>Central Meridian</em> set on the geographic center of our country. \n",
    "\n",
    "We are going to use the \"Cylindircal Equal Area (sphere)\" projection. Type \"equal area\" in the search bar, and then click on the \"World (Sphere-based) option under the <em>Projected Coordinate System</em>. \n",
    "\n",
    "![Map Coordinate System](./Images/MapCoordinateSystem_CylindircalEqualArea.PNG)\n",
    "\n",
    "Right click <em>Cylindircal Equal Area (sphere)</em>, and select <em>Copy and Modify</em>. This should open then window \"Modify Projected Coordinate System\". Save your project\n"
   ]
  },
  {
   "cell_type": "markdown",
   "metadata": {},
   "source": [
    "What are the details of this projection? What are the units? \n",
    "\n",
    "We now can rename our custom projection BaseMap_CoordinateSystem or ComparisonMap_CoordinateSystem. \n",
    "\n",
    "Google the geographic center of the countries that you are using for this project use the longitude. Convert this to <em>Decimal Degrees</em> if it is not already, and enter this into the <em>Centeral Meridian</em> box. \n",
    "\n",
    "For example. For Japan, the geogrpahic center based on what I googled was  36°29'26\"N 139°0'29\"E. Converting the longitude, I got 138.008056. Make special note of the of the quadrant that the latitude is in, because you may need to make it negative. \n",
    "\n",
    "![Map Coordinate System](./Images/MapCoordinateSystem_CylindircalEqualArea_Custom.png)\n",
    "\n",
    "\n",
    "Click Save, and your map should update to your new custom projection system. Repeat this process for the Comparison_Country Map Tab. Save your Project"
   ]
  },
  {
   "cell_type": "markdown",
   "metadata": {},
   "source": [
    "### Symbology\n",
    "\n",
    "I have added a couple of saved styles inside of our project, so now lets stylize our layers to set apart our maps so we can compare the features. \n",
    "\n",
    "Right click on the layer and go to the <em>symbology</em> item. This should open a pane on the right side of the ArcGIS Pro window.\n",
    "\n",
    "![Map Coordinate System](./Images/MapSymbology.png)\n",
    "\n",
    "Under the primary symbol, there should be a box icon, and you should click on this item and get to the <em>Format Polygon Symbology</em>. There should be two options under favorites. Choose the appropriate symbology for the map.\n",
    "\n",
    "If you want, you can mess with the symbology if you want, but I provided these layers so that you don't have to fuss with what looks good without knowing how to deal with colors, hues, transparencies, etc.\n",
    "\n",
    "Save your project."
   ]
  },
  {
   "cell_type": "markdown",
   "metadata": {},
   "source": [
    "At this point we should have our two maps set up correctly. \n",
    "\n",
    "Base_Country  \n",
    "    - Layers  \n",
    "      - Country of your choice -> Styled with BaseCountry Outline  \n",
    "      - World Imagery  \n",
    "  \n",
    "Comparison_Country  \n",
    "    - Layers  \n",
    "      - Country of your choice -> Styled with ComparisonCountry stipling  "
   ]
  },
  {
   "cell_type": "markdown",
   "metadata": {},
   "source": [
    "## Layout\n",
    "\n",
    "At this point we are going to use our layout tab <em>Area Comparison</em>.\n",
    "\n",
    "A layout lets us put different types of elements to style a map for printing. This is where we are going to apply our map hack. \n",
    "\n",
    "Becasue we have two different maps, we are going to layer two map layers, and combine them as if they were one image on top of the other. \n",
    "\n",
    "Comparison Map over Base Country."
   ]
  },
  {
   "cell_type": "markdown",
   "metadata": {},
   "source": [
    "Now, we need to make sure that the scale of our maps is identical. Since the projections are the same, if the scales are the same, we can be sure that a pixel unit is equivalent in both of our maps. \n",
    "\n",
    "Open the Layout Tab. There should be two different layers representing our two our two different maps. For each layer, we are going to right click and activate the map frame. This allows us to interact with the map as if we were using it in the map tab. \n",
    "\n",
    "Lets start with our Base_Country again. \n",
    "\n",
    "Use the <em>Explore</em> tool in the Navigate Section of the Map Tab in the Ribbon to center your country in the middle of the map frame. Once you like the position of your country, notice the scale of the map on the bottom left of the Map Window. We are going to copy this extent and use it in our Comparison Map. Lets go back to the Layout Tab by clicking the <em>Layout:BottomLayer</em> at the top of the map window. \n",
    "\n",
    "Activate your Comparison Map Frame (TopLayer). We are going to repeat these steps, but this time, we are going to paste the extent from our BaseCountry Map. \n",
    "\n",
    "Make sure your countries are aligned in a way that shows off the shape and area of the countries you chose to compare. Save your map. "
   ]
  },
  {
   "cell_type": "markdown",
   "metadata": {},
   "source": [
    "## You're Done!!! \n",
    "\n",
    "Great job making your first map. \n",
    "\n",
    "Lets export and image of your countries and share it in a discussion on Canvas for everyone else to see. \n",
    "\n",
    "Go to the Share Tab in the Ribbon. In the Output section in the Ribbon, click <em>Export Layout</em>. \n",
    "\n",
    "Export the map as a JPEG, to your project directory, with Max Compression and 250 DPI. Click <em>Export</em> and upload this image to the discussion board with a title as Your Base Country vs. Your Comparison Country. \n",
    "\n",
    "Save your project! You've finished."
   ]
  },
  {
   "cell_type": "markdown",
   "metadata": {},
   "source": [
    "Credit to John Nelson for this assignment/tutorial. \n",
    "\n",
    "[How to Make One of those Size Comparison Maps](https://www.youtube.com/watch?v=FSAKsGEiXUo&t=1s&ab_channel=JohnNelson)"
   ]
  }
 ],
 "metadata": {
  "language_info": {
   "name": "python"
  },
  "orig_nbformat": 4
 },
 "nbformat": 4,
 "nbformat_minor": 2
}
