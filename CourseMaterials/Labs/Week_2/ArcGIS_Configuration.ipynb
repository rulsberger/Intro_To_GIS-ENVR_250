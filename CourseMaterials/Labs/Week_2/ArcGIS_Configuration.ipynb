{
 "cells": [
  {
   "cell_type": "markdown",
   "metadata": {},
   "source": [
    "# Configuration ArcGIS\n",
    "\n",
    "To be able to use ArcGIS in this class, we need to be able to connect to the Univeristies Licensing Server to be able to checkout a copy of ArcGIS Pro. \n",
    "\n",
    "This document will detail how to do so."
   ]
  },
  {
   "cell_type": "markdown",
   "metadata": {},
   "source": [
    "When you open ArcGIS Pro, you should be prompted to log into ArcGIS Online. We will do this, but first, lets checkout the license to use ArcGIS Pro. "
   ]
  },
  {
   "cell_type": "markdown",
   "metadata": {},
   "source": [
    "At the bottom of this window, there is an option to <em>Configure Licensing</em>. \n",
    "\n",
    "![Configure License](./Images/ConfigureLicense.png)\n",
    "\n",
    "Click that link."
   ]
  },
  {
   "cell_type": "markdown",
   "metadata": {},
   "source": [
    "That should open the following window. \n",
    "\n",
    "![ConcurrentLicense](./Images/ConcurentServerConfig.PNG)\n",
    "\n",
    "Change the <em>License Type</em> to <em>Concurrent License</em>.\n",
    "\n",
    "For the <em>License Manager</em>, enter WNLS02.pugetsound.edu\n",
    "\n",
    "Click Ok, and this should take you back to the main ArcGIS Pro Sign-In page."
   ]
  },
  {
   "cell_type": "markdown",
   "metadata": {},
   "source": [
    "Sign-In with you ArcGIS Online account, and you should be able to open the software now. \n",
    "\n",
    "These configuration steps will need to be completed for every computer that you work on."
   ]
  }
 ],
 "metadata": {
  "language_info": {
   "name": "python"
  },
  "orig_nbformat": 4
 },
 "nbformat": 4,
 "nbformat_minor": 2
}
